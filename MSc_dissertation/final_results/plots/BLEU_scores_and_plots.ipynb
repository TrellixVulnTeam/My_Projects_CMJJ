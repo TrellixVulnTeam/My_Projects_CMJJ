{
 "cells": [
  {
   "cell_type": "markdown",
   "metadata": {},
   "source": [
    "### Google BLEU scores"
   ]
  },
  {
   "cell_type": "code",
   "execution_count": 1,
   "metadata": {},
   "outputs": [],
   "source": [
    "import pandas as pd\n",
    "import numpy as np\n",
    "import string\n",
    "import re\n",
    "import matplotlib.pyplot as plt\n",
    "%matplotlib inline\n",
    "from nltk.translate.bleu_score import corpus_bleu\n",
    "from nltk.translate.bleu_score import SmoothingFunction"
   ]
  },
  {
   "cell_type": "code",
   "execution_count": 2,
   "metadata": {},
   "outputs": [],
   "source": [
    "actual = list()\n",
    "predicted = list()"
   ]
  },
  {
   "cell_type": "code",
   "execution_count": 9,
   "metadata": {},
   "outputs": [],
   "source": [
    "actual = (open('actual.txt', encoding='utf-8', errors='ignore').read()).split(\"\\n\")[:-1]\n",
    "google_predictions = (open('google_predicted.txt', encoding='utf-8', errors='ignore').read()).split(\"\\n\")[:-1]"
   ]
  },
  {
   "cell_type": "code",
   "execution_count": 10,
   "metadata": {},
   "outputs": [
    {
     "data": {
      "text/plain": [
       "(60, 60)"
      ]
     },
     "execution_count": 10,
     "metadata": {},
     "output_type": "execute_result"
    }
   ],
   "source": [
    "len(actual), len(google_predictions)"
   ]
  },
  {
   "cell_type": "code",
   "execution_count": 15,
   "metadata": {},
   "outputs": [],
   "source": [
    "actual = [item.lower() for item in actual]\n",
    "google_predictions = [item.lower() for item in google_predictions]"
   ]
  },
  {
   "cell_type": "code",
   "execution_count": 18,
   "metadata": {},
   "outputs": [],
   "source": [
    "actual_clean = []\n",
    "for line in actual:\n",
    "    estr = re.sub(r'[^\\x00-\\x7F]+',' ', line)\n",
    "    estr = estr.strip()\n",
    "    actual_clean.append(estr)"
   ]
  },
  {
   "cell_type": "code",
   "execution_count": 19,
   "metadata": {},
   "outputs": [],
   "source": [
    "predicted_clean = []\n",
    "for line in google_predictions:\n",
    "    estr = re.sub(r'[^\\x00-\\x7F]+',' ', line)\n",
    "    estr = estr.strip()\n",
    "    predicted_clean.append(estr)"
   ]
  },
  {
   "cell_type": "code",
   "execution_count": 21,
   "metadata": {},
   "outputs": [
    {
     "name": "stderr",
     "output_type": "stream",
     "text": [
      "c:\\users\\rrich\\appdata\\local\\programs\\python\\python36-32\\lib\\site-packages\\nltk\\translate\\bleu_score.py:490: UserWarning: \n",
      "Corpus/Sentence contains 0 counts of 2-gram overlaps.\n",
      "BLEU scores might be undesirable; use SmoothingFunction().\n",
      "  warnings.warn(_msg)\n"
     ]
    },
    {
     "name": "stdout",
     "output_type": "stream",
     "text": [
      "BLEU-1: 0.457907\n",
      "BLEU-2: 0.467466\n",
      "BLEU-3: 0.416962\n",
      "BLEU-4: 0.362342\n"
     ]
    }
   ],
   "source": [
    "# calculate BLEU score\n",
    "cc = SmoothingFunction()\n",
    "print('BLEU-1: %f' % corpus_bleu(actual_clean, predicted_clean, weights=(1.0, 0, 0, 0)))\n",
    "print('BLEU-2: %f' % corpus_bleu(actual_clean, predicted_clean, weights=(0.5, 0.5, 0, 0), smoothing_function=cc.method4))\n",
    "print('BLEU-3: %f' % corpus_bleu(actual_clean, predicted_clean, weights=(0.33, 0.33, 0.33, 0), smoothing_function=cc.method4))\n",
    "print('BLEU-4: %f' % corpus_bleu(actual_clean, predicted_clean, weights=(0.25, 0.25, 0.25, 0.25), smoothing_function=cc.method4))"
   ]
  },
  {
   "cell_type": "markdown",
   "metadata": {},
   "source": [
    "### Google BLEU scores according to sentence length"
   ]
  },
  {
   "cell_type": "code",
   "execution_count": 34,
   "metadata": {},
   "outputs": [],
   "source": [
    "actual1 , actual2 , actual3 , actual4 = list(), list(), list(), list()\n",
    "predicted1 , predicted2 , predicted3 , predicted4 = list(), list(), list(), list()"
   ]
  },
  {
   "cell_type": "code",
   "execution_count": 35,
   "metadata": {},
   "outputs": [],
   "source": [
    "actual1 = (open('actual1.txt', encoding='utf-8', errors='ignore').read()).split(\"\\n\")[:-1]\n",
    "actual2 = (open('actual2.txt', encoding='utf-8', errors='ignore').read()).split(\"\\n\")[:-1]\n",
    "actual3 = (open('actual3.txt', encoding='utf-8', errors='ignore').read()).split(\"\\n\")[:-1]\n",
    "actual4 = (open('actual4.txt', encoding='utf-8', errors='ignore').read()).split(\"\\n\")[:-1]"
   ]
  },
  {
   "cell_type": "code",
   "execution_count": 36,
   "metadata": {},
   "outputs": [
    {
     "data": {
      "text/plain": [
       "(13, 12, 13, 19)"
      ]
     },
     "execution_count": 36,
     "metadata": {},
     "output_type": "execute_result"
    }
   ],
   "source": [
    "len(actual1), len(actual2), len(actual3), len(actual4)"
   ]
  },
  {
   "cell_type": "code",
   "execution_count": 37,
   "metadata": {},
   "outputs": [],
   "source": [
    "google1 = (open('google1.txt', encoding='utf-8', errors='ignore').read()).split(\"\\n\")[:-1]\n",
    "google2 = (open('google2.txt', encoding='utf-8', errors='ignore').read()).split(\"\\n\")[:-1]\n",
    "google3 = (open('google3.txt', encoding='utf-8', errors='ignore').read()).split(\"\\n\")[:-1]\n",
    "google4 = (open('google4.txt', encoding='utf-8', errors='ignore').read()).split(\"\\n\")[:-1]"
   ]
  },
  {
   "cell_type": "code",
   "execution_count": 38,
   "metadata": {},
   "outputs": [
    {
     "data": {
      "text/plain": [
       "(13, 12, 13, 19)"
      ]
     },
     "execution_count": 38,
     "metadata": {},
     "output_type": "execute_result"
    }
   ],
   "source": [
    "len(google1), len(google2), len(google3), len(google4)"
   ]
  },
  {
   "cell_type": "code",
   "execution_count": 39,
   "metadata": {},
   "outputs": [],
   "source": [
    "actual1 = [item.lower() for item in actual1]\n",
    "actual2 = [item.lower() for item in actual2]\n",
    "actual3 = [item.lower() for item in actual3]\n",
    "actual4 = [item.lower() for item in actual4]"
   ]
  },
  {
   "cell_type": "code",
   "execution_count": 40,
   "metadata": {},
   "outputs": [],
   "source": [
    "google1 = [item.lower() for item in google1]\n",
    "google2 = [item.lower() for item in google2]\n",
    "google3 = [item.lower() for item in google3]\n",
    "google4 = [item.lower() for item in google4]"
   ]
  },
  {
   "cell_type": "code",
   "execution_count": 46,
   "metadata": {},
   "outputs": [],
   "source": [
    "def clean_up(sent_list):\n",
    "    clean_list = []\n",
    "    for line in sent_list:\n",
    "        estr = re.sub(r'[^\\x00-\\x7F]+',' ', line)\n",
    "        estr = estr.strip()\n",
    "        clean_list.append(estr)\n",
    "    return clean_list"
   ]
  },
  {
   "cell_type": "code",
   "execution_count": 47,
   "metadata": {},
   "outputs": [],
   "source": [
    "actual_one = clean_up(actual1)\n",
    "actual_two = clean_up(actual2)\n",
    "actual_three = clean_up(actual3)\n",
    "actual_four = clean_up(actual4)"
   ]
  },
  {
   "cell_type": "code",
   "execution_count": 48,
   "metadata": {},
   "outputs": [],
   "source": [
    "google_one = clean_up(google1)\n",
    "google_two = clean_up(google2)\n",
    "google_three = clean_up(google3)\n",
    "google_four = clean_up(google4)"
   ]
  },
  {
   "cell_type": "code",
   "execution_count": 49,
   "metadata": {},
   "outputs": [
    {
     "name": "stdout",
     "output_type": "stream",
     "text": [
      "BLEU-1: 0.710280\n"
     ]
    },
    {
     "name": "stderr",
     "output_type": "stream",
     "text": [
      "c:\\users\\rrich\\appdata\\local\\programs\\python\\python36-32\\lib\\site-packages\\nltk\\translate\\bleu_score.py:490: UserWarning: \n",
      "Corpus/Sentence contains 0 counts of 2-gram overlaps.\n",
      "BLEU scores might be undesirable; use SmoothingFunction().\n",
      "  warnings.warn(_msg)\n"
     ]
    }
   ],
   "source": [
    "# One word sentence BLEU score\n",
    "cc = SmoothingFunction()\n",
    "print('BLEU-1: %f' % corpus_bleu(actual_one, google_one, weights=(1.0, 0, 0, 0)))"
   ]
  },
  {
   "cell_type": "code",
   "execution_count": 50,
   "metadata": {},
   "outputs": [
    {
     "name": "stdout",
     "output_type": "stream",
     "text": [
      "BLEU-1: 0.576720\n",
      "BLEU-2: 0.469389\n"
     ]
    },
    {
     "name": "stderr",
     "output_type": "stream",
     "text": [
      "c:\\users\\rrich\\appdata\\local\\programs\\python\\python36-32\\lib\\site-packages\\nltk\\translate\\bleu_score.py:490: UserWarning: \n",
      "Corpus/Sentence contains 0 counts of 2-gram overlaps.\n",
      "BLEU scores might be undesirable; use SmoothingFunction().\n",
      "  warnings.warn(_msg)\n"
     ]
    }
   ],
   "source": [
    "# Two word sentence BLEU score\n",
    "cc = SmoothingFunction()\n",
    "print('BLEU-1: %f' % corpus_bleu(actual_two, google_two, weights=(1.0, 0, 0, 0)))\n",
    "print('BLEU-2: %f' % corpus_bleu(actual_two, google_two, weights=(0.5, 0.5, 0, 0), smoothing_function=cc.method4))"
   ]
  },
  {
   "cell_type": "code",
   "execution_count": 51,
   "metadata": {},
   "outputs": [
    {
     "name": "stdout",
     "output_type": "stream",
     "text": [
      "BLEU-1: 0.504237\n",
      "BLEU-2: 0.429779\n",
      "BLEU-3: 0.370922\n"
     ]
    },
    {
     "name": "stderr",
     "output_type": "stream",
     "text": [
      "c:\\users\\rrich\\appdata\\local\\programs\\python\\python36-32\\lib\\site-packages\\nltk\\translate\\bleu_score.py:490: UserWarning: \n",
      "Corpus/Sentence contains 0 counts of 2-gram overlaps.\n",
      "BLEU scores might be undesirable; use SmoothingFunction().\n",
      "  warnings.warn(_msg)\n"
     ]
    }
   ],
   "source": [
    "# Three word sentence BLEU score\n",
    "cc = SmoothingFunction()\n",
    "print('BLEU-1: %f' % corpus_bleu(actual_three, google_three, weights=(1.0, 0, 0, 0)))\n",
    "print('BLEU-2: %f' % corpus_bleu(actual_three, google_three, weights=(0.5, 0.5, 0, 0), smoothing_function=cc.method4))\n",
    "print('BLEU-3: %f' % corpus_bleu(actual_three, google_three, weights=(0.33, 0.33, 0.33, 0), smoothing_function=cc.method4))"
   ]
  },
  {
   "cell_type": "code",
   "execution_count": 52,
   "metadata": {},
   "outputs": [
    {
     "name": "stderr",
     "output_type": "stream",
     "text": [
      "c:\\users\\rrich\\appdata\\local\\programs\\python\\python36-32\\lib\\site-packages\\nltk\\translate\\bleu_score.py:490: UserWarning: \n",
      "Corpus/Sentence contains 0 counts of 2-gram overlaps.\n",
      "BLEU scores might be undesirable; use SmoothingFunction().\n",
      "  warnings.warn(_msg)\n"
     ]
    },
    {
     "name": "stdout",
     "output_type": "stream",
     "text": [
      "BLEU-1: 0.367461\n",
      "BLEU-2: 0.418762\n",
      "BLEU-3: 0.387757\n",
      "BLEU-4: 0.342947\n"
     ]
    }
   ],
   "source": [
    "# Four word sentence BLEU score\n",
    "cc = SmoothingFunction()\n",
    "print('BLEU-1: %f' % corpus_bleu(actual_four, google_four, weights=(1.0, 0, 0, 0)))\n",
    "print('BLEU-2: %f' % corpus_bleu(actual_four, google_four, weights=(0.5, 0.5, 0, 0), smoothing_function=cc.method4))\n",
    "print('BLEU-3: %f' % corpus_bleu(actual_four, google_four, weights=(0.33, 0.33, 0.33, 0), smoothing_function=cc.method4))\n",
    "print('BLEU-4: %f' % corpus_bleu(actual_four, google_four, weights=(0.25, 0.25, 0.25, 0.25), smoothing_function=cc.method4))"
   ]
  },
  {
   "cell_type": "markdown",
   "metadata": {},
   "source": [
    "### BLEU score plots"
   ]
  },
  {
   "cell_type": "code",
   "execution_count": 53,
   "metadata": {},
   "outputs": [
    {
     "data": {
      "image/png": "[encoded data removed]",
      "text/plain": [
       "<Figure size 432x288 with 1 Axes>"
      ]
     },
     "metadata": {},
     "output_type": "display_data"
    }
   ],
   "source": [
    "#uni-gram BLEU scores\n",
    "lengths = list()\n",
    "unigram = list()\n",
    "unigram = [0.75, 0.63, 0.56, 0.52, 0.39]\n",
    "lengths = [1, 2, 3, 4, 5]\n",
    "plt.plot(unigram)\n",
    "plt.axhline(y=0.71, color='r', linestyle='--')\n",
    "plt.title('uni-gram BLEU scores')\n",
    "plt.ylabel('BLEU scores')\n",
    "plt.xlabel('Number of words')\n",
    "plt.show()"
   ]
  },
  {
   "cell_type": "code",
   "execution_count": 60,
   "metadata": {},
   "outputs": [
    {
     "data": {
      "image/png": "[encoded data removed]",
      "text/plain": [
       "<Figure size 432x288 with 1 Axes>"
      ]
     },
     "metadata": {},
     "output_type": "display_data"
    }
   ],
   "source": [
    "#bi-gram BLEU scores\n",
    "lengths = list()\n",
    "unigram = list()\n",
    "unigram = [0.75, 0.63, 0.56, 0.52, 0.39]\n",
    "google_uni = [0.71, 0.58, 0.5, 0.42, 0.37]\n",
    "lengths = ['1', '2', '3', '4', '5 or more']\n",
    "plt.plot(lengths, unigram)\n",
    "plt.plot(lengths, google_uni)\n",
    "#plt.axhline(y=0.71, color='r', linestyle='--')\n",
    "plt.title('uni-gram BLEU scores')\n",
    "plt.ylabel('BLEU scores')\n",
    "plt.xlabel('Number of words')\n",
    "plt.legend(['Model', 'Google'], loc='upper right')\n",
    "plt.show()"
   ]
  },
  {
   "cell_type": "code",
   "execution_count": 62,
   "metadata": {},
   "outputs": [
    {
     "data": {
      "image/png": "[encoded data removed]",
      "text/plain": [
       "<Figure size 432x288 with 1 Axes>"
      ]
     },
     "metadata": {},
     "output_type": "display_data"
    }
   ],
   "source": [
    "#bi-gram BLEU scores\n",
    "lengths = list()\n",
    "bigram = list()\n",
    "bigram = [0.48, 0.47, 0.44, 0.4]\n",
    "google_bi = [0.47, 0.43, 0.46, 0.42]\n",
    "lengths = ['2', '3', '4', '5 or more']\n",
    "plt.plot(lengths, bigram)\n",
    "plt.plot(lengths, google_bi)\n",
    "#plt.axhline(y=0.71, color='r', linestyle='--')\n",
    "plt.title('bi-gram BLEU scores')\n",
    "plt.ylabel('BLEU scores')\n",
    "plt.xlabel('Number of words')\n",
    "plt.legend(['Model', 'Google'], loc='upper right')\n",
    "plt.show()"
   ]
  },
  {
   "cell_type": "code",
   "execution_count": 63,
   "metadata": {},
   "outputs": [
    {
     "data": {
      "image/png": "[encoded data removed]",
      "text/plain": [
       "<Figure size 432x288 with 1 Axes>"
      ]
     },
     "metadata": {},
     "output_type": "display_data"
    }
   ],
   "source": [
    "#bi-gram BLEU scores\n",
    "lengths = list()\n",
    "trigram = list()\n",
    "trigram = [0.39, 0.38, 0.37]\n",
    "google_tri = [0.37, 0.39, 0.39]\n",
    "lengths = ['3', '4', '5 or more']\n",
    "plt.plot(lengths, trigram)\n",
    "plt.plot(lengths, google_tri)\n",
    "#plt.axhline(y=0.71, color='r', linestyle='--')\n",
    "plt.title('tri-gram BLEU scores')\n",
    "plt.ylabel('BLEU scores')\n",
    "plt.xlabel('Number of words')\n",
    "plt.legend(['Model', 'Google'], loc='upper right')\n",
    "plt.show()"
   ]
  },
  {
   "cell_type": "code",
   "execution_count": null,
   "metadata": {},
   "outputs": [],
   "source": []
  }
 ],
 "metadata": {
  "kernelspec": {
   "display_name": "Python 3",
   "language": "python",
   "name": "python3"
  },
  "language_info": {
   "codemirror_mode": {
    "name": "ipython",
    "version": 3
   },
   "file_extension": ".py",
   "mimetype": "text/x-python",
   "name": "python",
   "nbconvert_exporter": "python",
   "pygments_lexer": "ipython3",
   "version": "3.6.4"
  }
 },
 "nbformat": 4,
 "nbformat_minor": 2
}

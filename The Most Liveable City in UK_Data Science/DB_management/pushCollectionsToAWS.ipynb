{
 "cells": [
  {
   "cell_type": "code",
   "execution_count": 20,
   "metadata": {},
   "outputs": [
    {
     "data": {
      "text/plain": [
       "['admin', 'cw', 'data_diggers', 'enron', 'local', 'test']"
      ]
     },
     "execution_count": 20,
     "metadata": {},
     "output_type": "execute_result"
    }
   ],
   "source": [
    "from pymongo import MongoClient\n",
    "client = MongoClient('mongodb://localhost:27017')\n",
    "client.database_names()\n"
   ]
  },
  {
   "cell_type": "markdown",
   "metadata": {},
   "source": [
    "Load Reference collection"
   ]
  },
  {
   "cell_type": "code",
   "execution_count": 10,
   "metadata": {},
   "outputs": [
    {
     "name": "stderr",
     "output_type": "stream",
     "text": [
      "2018-01-06T14:05:45.423+0000\tconnected to: localhost\n",
      "2018-01-06T14:05:45.456+0000\texported 1742 records\n"
     ]
    }
   ],
   "source": [
    "%%bash\n",
    "mongoexport --db data_diggers --collection reference --out reference.json"
   ]
  },
  {
   "cell_type": "code",
   "execution_count": 11,
   "metadata": {},
   "outputs": [
    {
     "name": "stderr",
     "output_type": "stream",
     "text": [
      "2018-01-06T14:05:47.057+0000\tconnected to: Cluster0-shard-0/cluster0-shard-00-00-07rsk.mongodb.net:27017,cluster0-shard-00-01-07rsk.mongodb.net:27017,cluster0-shard-00-02-07rsk.mongodb.net:27017\n",
      "2018-01-06T14:05:47.678+0000\timported 1742 documents\n"
     ]
    }
   ],
   "source": [
    "%%bash\n",
    "mongoimport --host Cluster0-shard-0/cluster0-shard-00-00-07rsk.mongodb.net:27017,cluster0-shard-00-01-07rsk.mongodb.net:27017,cluster0-shard-00-02-07rsk.mongodb.net:27017 --ssl --username data_diggers --password data_diggers --authenticationDatabase admin --db data_diggers --collection reference --type json --file reference.json"
   ]
  },
  {
   "cell_type": "markdown",
   "metadata": {},
   "source": [
    "Load collection with Random Forest results"
   ]
  },
  {
   "cell_type": "code",
   "execution_count": 12,
   "metadata": {},
   "outputs": [
    {
     "name": "stderr",
     "output_type": "stream",
     "text": [
      "2018-01-06T14:05:49.130+0000\tconnected to: localhost\n",
      "2018-01-06T14:05:49.131+0000\texported 1 record\n"
     ]
    }
   ],
   "source": [
    "%%bash\n",
    "mongoexport --db data_diggers --collection factorsRank --out factorsRank.json"
   ]
  },
  {
   "cell_type": "code",
   "execution_count": 13,
   "metadata": {},
   "outputs": [
    {
     "name": "stderr",
     "output_type": "stream",
     "text": [
      "2018-01-06T14:05:50.098+0000\tconnected to: Cluster0-shard-0/cluster0-shard-00-00-07rsk.mongodb.net:27017,cluster0-shard-00-01-07rsk.mongodb.net:27017,cluster0-shard-00-02-07rsk.mongodb.net:27017\n",
      "2018-01-06T14:05:50.289+0000\timported 1 document\n"
     ]
    }
   ],
   "source": [
    "%%bash\n",
    "mongoimport --host Cluster0-shard-0/cluster0-shard-00-00-07rsk.mongodb.net:27017,cluster0-shard-00-01-07rsk.mongodb.net:27017,cluster0-shard-00-02-07rsk.mongodb.net:27017 --ssl --username data_diggers --password data_diggers --authenticationDatabase admin --db data_diggers --collection factorsRank --type json --file factorsRank.json"
   ]
  },
  {
   "cell_type": "markdown",
   "metadata": {},
   "source": [
    "Load collection with Pearson's method results"
   ]
  },
  {
   "cell_type": "code",
   "execution_count": 14,
   "metadata": {},
   "outputs": [
    {
     "name": "stderr",
     "output_type": "stream",
     "text": [
      "2018-01-06T14:05:51.592+0000\tconnected to: localhost\n",
      "2018-01-06T14:05:51.593+0000\texported 1 record\n"
     ]
    }
   ],
   "source": [
    "%%bash\n",
    "mongoexport --db data_diggers --collection pearsonr_correlation_coefficient --out pearsonCor.json"
   ]
  },
  {
   "cell_type": "code",
   "execution_count": 15,
   "metadata": {},
   "outputs": [
    {
     "name": "stderr",
     "output_type": "stream",
     "text": [
      "2018-01-06T14:05:52.466+0000\tconnected to: Cluster0-shard-0/cluster0-shard-00-00-07rsk.mongodb.net:27017,cluster0-shard-00-01-07rsk.mongodb.net:27017,cluster0-shard-00-02-07rsk.mongodb.net:27017\n",
      "2018-01-06T14:05:52.651+0000\timported 1 document\n"
     ]
    }
   ],
   "source": [
    "%%bash\n",
    "mongoimport --host Cluster0-shard-0/cluster0-shard-00-00-07rsk.mongodb.net:27017,cluster0-shard-00-01-07rsk.mongodb.net:27017,cluster0-shard-00-02-07rsk.mongodb.net:27017 --ssl --username data_diggers --password data_diggers --authenticationDatabase admin --db data_diggers --collection pearsonr_correlation_coefficient --type json --file pearsonCor.json"
   ]
  },
  {
   "cell_type": "markdown",
   "metadata": {},
   "source": [
    "Load Cities Data"
   ]
  },
  {
   "cell_type": "code",
   "execution_count": 16,
   "metadata": {},
   "outputs": [
    {
     "name": "stderr",
     "output_type": "stream",
     "text": [
      "2018-01-06T14:49:16.044+0000\tconnected to: localhost\n",
      "2018-01-06T14:49:16.134+0000\texported 1742 records\n"
     ]
    }
   ],
   "source": [
    "%%bash\n",
    "mongoexport --db data_diggers --collection training_data --out dataTable.json"
   ]
  },
  {
   "cell_type": "code",
   "execution_count": 17,
   "metadata": {},
   "outputs": [
    {
     "name": "stderr",
     "output_type": "stream",
     "text": [
      "2018-01-06T14:49:21.000+0000\tconnected to: Cluster0-shard-0/cluster0-shard-00-00-07rsk.mongodb.net:27017,cluster0-shard-00-01-07rsk.mongodb.net:27017,cluster0-shard-00-02-07rsk.mongodb.net:27017\n",
      "2018-01-06T14:49:21.823+0000\timported 1742 documents\n"
     ]
    }
   ],
   "source": [
    "%%bash\n",
    "mongoimport --host Cluster0-shard-0/cluster0-shard-00-00-07rsk.mongodb.net:27017,cluster0-shard-00-01-07rsk.mongodb.net:27017,cluster0-shard-00-02-07rsk.mongodb.net:27017 --ssl --username data_diggers --password data_diggers --authenticationDatabase admin --db data_diggers --collection training_data --type json --file dataTable.json"
   ]
  },
  {
   "cell_type": "code",
   "execution_count": null,
   "metadata": {
    "collapsed": true
   },
   "outputs": [],
   "source": []
  },
  {
   "cell_type": "markdown",
   "metadata": {},
   "source": [
    "Upload only 82 cities"
   ]
  },
  {
   "cell_type": "code",
   "execution_count": 29,
   "metadata": {},
   "outputs": [
    {
     "data": {
      "text/plain": [
       "<pymongo.results.InsertManyResult at 0x7f42c00cddc8>"
      ]
     },
     "execution_count": 29,
     "metadata": {},
     "output_type": "execute_result"
    }
   ],
   "source": [
    "db = client.data_diggers\n",
    "\n",
    "# delete collection\n",
    "collection = db.finalCities\n",
    "collection.drop()\n",
    "\n",
    "collection = db.training_data\n",
    "\n",
    "filter_ = {\n",
    "                            'house_price':{'$exists':'true'},\n",
    "#                               'total_jobs':{'$exists':'true'},\n",
    "#                               'school_number':{'$exists':'true'},\n",
    "                              'unemployment':{'$exists':'true'},\n",
    "                              'traffic_noise':{'$exists':'true'},\n",
    "#                               'hospitals_number':{'$exists':'true'},\n",
    "                              'population':{'$exists':'true'},\n",
    "                              'GVA':{'$exists':'true'},\n",
    "#                               'stations_number':{'$exists':'true'},\n",
    "                              'happiness':{'$exists':'true'},\n",
    "#                               'pubs_number':{'$exists':'true'},\n",
    "                              'road_traffic_2016':{'$exists':'true'},\n",
    "                             }\n",
    "\n",
    "all_found = collection.find(filter_)\n",
    "smallList = []\n",
    "for item in all_found:\n",
    "    smallList.append(item)\n",
    "\n",
    "# create a new collection\n",
    "collection = db.finalCities\n",
    "collection.insert_many(smallList)\n"
   ]
  },
  {
   "cell_type": "code",
   "execution_count": 30,
   "metadata": {},
   "outputs": [
    {
     "name": "stderr",
     "output_type": "stream",
     "text": [
      "2018-01-06T16:06:56.302+0000\tconnected to: localhost\n",
      "2018-01-06T16:06:56.309+0000\texported 84 records\n"
     ]
    }
   ],
   "source": [
    "%%bash\n",
    "mongoexport --db data_diggers --collection finalCities --out finalCities.json"
   ]
  },
  {
   "cell_type": "code",
   "execution_count": 31,
   "metadata": {},
   "outputs": [
    {
     "name": "stderr",
     "output_type": "stream",
     "text": [
      "2018-01-06T16:07:04.300+0000\tconnected to: Cluster0-shard-0/cluster0-shard-00-00-07rsk.mongodb.net:27017,cluster0-shard-00-01-07rsk.mongodb.net:27017,cluster0-shard-00-02-07rsk.mongodb.net:27017\n",
      "2018-01-06T16:07:04.653+0000\timported 84 documents\n"
     ]
    }
   ],
   "source": [
    "%%bash\n",
    "mongoimport --host Cluster0-shard-0/cluster0-shard-00-00-07rsk.mongodb.net:27017,cluster0-shard-00-01-07rsk.mongodb.net:27017,cluster0-shard-00-02-07rsk.mongodb.net:27017 --ssl --username data_diggers --password data_diggers --authenticationDatabase admin --db data_diggers --collection finalCities --type json --file finalCities.json"
   ]
  },
  {
   "cell_type": "code",
   "execution_count": null,
   "metadata": {
    "collapsed": true
   },
   "outputs": [],
   "source": []
  }
 ],
 "metadata": {
  "kernelspec": {
   "display_name": "Python [conda root]",
   "language": "python",
   "name": "conda-root-py"
  },
  "language_info": {
   "codemirror_mode": {
    "name": "ipython",
    "version": 3
   },
   "file_extension": ".py",
   "mimetype": "text/x-python",
   "name": "python",
   "nbconvert_exporter": "python",
   "pygments_lexer": "ipython3",
   "version": "3.6.1"
  }
 },
 "nbformat": 4,
 "nbformat_minor": 2
}

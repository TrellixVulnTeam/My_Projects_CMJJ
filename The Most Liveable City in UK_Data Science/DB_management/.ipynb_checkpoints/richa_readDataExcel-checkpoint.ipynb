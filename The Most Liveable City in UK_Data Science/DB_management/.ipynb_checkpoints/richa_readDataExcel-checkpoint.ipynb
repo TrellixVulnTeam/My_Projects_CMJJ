{
 "cells": [
  {
   "cell_type": "markdown",
   "metadata": {},
   "source": [
    "# Connecting to the database and creating collections"
   ]
  },
  {
   "cell_type": "code",
   "execution_count": 2,
   "metadata": {},
   "outputs": [
    {
     "name": "stdout",
     "output_type": "stream",
     "text": [
      "mongod start/running, process 1008\n"
     ]
    }
   ],
   "source": [
    "%%bash\n",
    "service mongod status"
   ]
  },
  {
   "cell_type": "code",
   "execution_count": 17,
   "metadata": {},
   "outputs": [
    {
     "data": {
      "text/plain": [
       "['admin', 'data_diggers', 'enron', 'local', 'test']"
      ]
     },
     "execution_count": 17,
     "metadata": {},
     "output_type": "execute_result"
    }
   ],
   "source": [
    "from pymongo import MongoClient\n",
    "client = MongoClient('mongodb://localhost:27017')\n",
    "client.database_names()"
   ]
  },
  {
   "cell_type": "markdown",
   "metadata": {},
   "source": [
    "## Reading UK Universities ranking data"
   ]
  },
  {
   "cell_type": "code",
   "execution_count": 18,
   "metadata": {
    "collapsed": true
   },
   "outputs": [],
   "source": [
    "# Create database and collection objects for UK Universities ranking\n",
    "db = client.data_diggers\n",
    "UniRankCollection = db.UniRank\n"
   ]
  },
  {
   "cell_type": "code",
   "execution_count": 19,
   "metadata": {},
   "outputs": [
    {
     "name": "stdout",
     "output_type": "stream",
     "text": [
      "['Shihuaiwang.ipynb', 'import_reference_by_MongoDB.ipynb', '.ipynb_checkpoints', 'Joy.ipynb', 'richa_readDataExcel.ipynb']\n"
     ]
    }
   ],
   "source": [
    "# to check what files are present in the current directory\n",
    "import os\n",
    "print(os.listdir())"
   ]
  },
  {
   "cell_type": "code",
   "execution_count": 20,
   "metadata": {
    "collapsed": true
   },
   "outputs": [],
   "source": [
    "#import the excel file\n",
    "import xlrd\n",
    "from collections import defaultdict\n",
    "uniRank_workbook=xlrd.open_workbook('../normalize_dataset/UK_Universities_ranking.xls', on_demand = True)\n",
    "uniRank_sheet=uniRank_workbook.sheet_by_index(0)"
   ]
  },
  {
   "cell_type": "code",
   "execution_count": 21,
   "metadata": {},
   "outputs": [
    {
     "name": "stdout",
     "output_type": "stream",
     "text": [
      "['City/Town', 'Number of Universities', 'Best ranking', 'Average ranking', 'Max min norm best rank']\n",
      "['Aberdeen', 2.0, 28.0, 59.0, 0.696629213483146]\n",
      "['Aberystwyth', 1.0, 39.0, 39.0, 0.5730337078651686]\n",
      "['Bangor', 1.0, 39.0, 39.0, 0.5730337078651686]\n",
      "['Bath', 1.0, 35.0, 35.0, 0.6179775280898876]\n",
      "['Belfast', 1.0, 32.0, 32.0, 0.651685393258427]\n",
      "['Birmingham', 2.0, 19.0, 33.5, 0.797752808988764]\n",
      "['Bournemouth', 1.0, 67.0, 67.0, 0.2584269662921348]\n",
      "['Bradford', 1.0, 67.0, 67.0, 0.2584269662921348]\n",
      "['Brighton', 3.0, 21.0, 42.3333333333333, 0.7752808988764045]\n",
      "['Bristol', 2.0, 9.0, 38.0, 0.9101123595505618]\n",
      "['Cambridge', 1.0, 2.0, 2.0, 0.9887640449438202]\n",
      "['Cardiff', 1.0, 25.0, 25.0, 0.7303370786516854]\n",
      "['Colchester', 1.0, 35.0, 35.0, 0.6179775280898876]\n",
      "['Coventry', 2.0, 11.0, 39.0, 0.8876404494382022]\n",
      "['Derby', 1.0, 90.0, 90.0, 0.0]\n",
      "['Dundee', 1.0, 29.0, 29.0, 0.6853932584269663]\n",
      "['Durham', 1.0, 12.0, 12.0, 0.8764044943820225]\n",
      "['East Anglia', 1.0, 39.0, 39.0, 0.5730337078651686]\n",
      "['Edinburgh', 3.0, 6.0, 40.3333333333333, 0.9438202247191011]\n",
      "['Exeter', 1.0, 16.0, 16.0, 0.8314606741573034]\n",
      "['Fife', 1.0, 20.0, 20.0, 0.7865168539325843]\n",
      "['Glasgow', 3.0, 10.0, 43.3333333333333, 0.898876404494382]\n",
      "['Guildford', 1.0, 35.0, 35.0, 0.6179775280898876]\n",
      "['Hatfield', 1.0, 60.0, 60.0, 0.3370786516853933]\n",
      "['Huddersfield', 1.0, 67.0, 67.0, 0.2584269662921348]\n",
      "['Hull', 1.0, 53.0, 53.0, 0.4157303370786517]\n",
      "['Keele', 1.0, 60.0, 60.0, 0.3370786516853933]\n",
      "['Kent', 1.0, 39.0, 39.0, 0.5730337078651686]\n",
      "['Lancaster', 1.0, 23.0, 23.0, 0.752808988764045]\n",
      "['Leeds', 2.0, 18.0, 42.5, 0.8089887640449438]\n",
      "['Leicester', 2.0, 24.0, 45.5, 0.7415730337078652]\n",
      "['Lincoln', 1.0, 67.0, 67.0, 0.2584269662921348]\n",
      "['Liverpool', 2.0, 27.0, 43.5, 0.7078651685393258]\n",
      "['London', 20.0, 3.0, 42.45, 0.9775280898876404]\n",
      "['Londonderry', 1.0, 60.0, 60.0, 0.3370786516853933]\n",
      "['Loughborough', 1.0, 39.0, 39.0, 0.5730337078651686]\n",
      "['Luton', 1.0, 67.0, 67.0, 0.2584269662921348]\n",
      "['Manchester', 3.0, 8.0, 47.3333333333333, 0.9213483146067416]\n",
      "['Middlesborough', 1.0, 67.0, 67.0, 0.2584269662921348]\n",
      "['Nationwide', 1.0, 53.0, 53.0, 0.4157303370786517]\n",
      "['Newcastle', 1.0, 26.0, 26.0, 0.7191011235955056]\n",
      "['Newcastle upon Tyne', 1.0, 60.0, 60.0, 0.3370786516853933]\n",
      "['Norwich', 1.0, 30.0, 30.0, 0.6741573033707865]\n",
      "['Nottingham', 2.0, 21.0, 44.0, 0.7752808988764045]\n",
      "['Oxford', 2.0, 1.0, 27.0, 1.0]\n",
      "['Paisley', 1.0, 60.0, 60.0, 0.3370786516853933]\n",
      "['Plymouth', 1.0, 53.0, 53.0, 0.4157303370786517]\n",
      "['Pontypridd', 1.0, 67.0, 67.0, 0.2584269662921348]\n",
      "['Portsmouth', 1.0, 60.0, 60.0, 0.3370786516853933]\n",
      "['Preston', 1.0, 67.0, 67.0, 0.2584269662921348]\n",
      "['Reading', 1.0, 32.0, 32.0, 0.651685393258427]\n",
      "['Sheffield', 2.0, 13.0, 51.5, 0.8651685393258427]\n",
      "['Southampton', 1.0, 15.0, 15.0, 0.8426966292134832]\n",
      "['Stirling', 1.0, 39.0, 39.0, 0.5730337078651686]\n",
      "['Swansea', 1.0, 35.0, 35.0, 0.6179775280898876]\n",
      "['York', 1.0, 17.0, 17.0, 0.8202247191011236]\n",
      "['', '', '', '', '']\n",
      "['min', '', 1.0, '', '']\n",
      "['max', '', 90.0, '', '']\n"
     ]
    }
   ],
   "source": [
    "for i in range(uniRank_sheet.nrows):\n",
    "    print(uniRank_sheet.row_values(i))"
   ]
  },
  {
   "cell_type": "code",
   "execution_count": 24,
   "metadata": {},
   "outputs": [
    {
     "data": {
      "text/plain": [
       "<pymongo.results.InsertManyResult at 0x7fce03d5fc60>"
      ]
     },
     "execution_count": 24,
     "metadata": {},
     "output_type": "execute_result"
    }
   ],
   "source": [
    "UniRankCollection.drop()\n",
    "ur=list()\n",
    "for i in range(1,uniRank_sheet.nrows-3):\n",
    "    row1 = uniRank_sheet.row_values(i)\n",
    "    dic1 = {'city_name':row1[0],'Number_of_universities':row1[1],'best_ranking':row1[2],'average_ranking':row1[3],'total_jobs_normalized_value':row1[4]}\n",
    "    ur.append(dic1)\n",
    "# print (ur)\n",
    "UniRankCollection.insert_many(ur)"
   ]
  },
  {
   "cell_type": "code",
   "execution_count": 25,
   "metadata": {},
   "outputs": [
    {
     "data": {
      "text/plain": [
       "56"
      ]
     },
     "execution_count": 25,
     "metadata": {},
     "output_type": "execute_result"
    }
   ],
   "source": [
    "UniRankCollection.count()"
   ]
  },
  {
   "cell_type": "markdown",
   "metadata": {},
   "source": [
    "## Reading Total Jobs data"
   ]
  },
  {
   "cell_type": "code",
   "execution_count": 26,
   "metadata": {
    "collapsed": true
   },
   "outputs": [],
   "source": [
    "# Create database and collection objects for Total jobs\n",
    "db = client.data_diggers\n",
    "totalJobsCollection = db.TotalJobs"
   ]
  },
  {
   "cell_type": "code",
   "execution_count": 27,
   "metadata": {
    "collapsed": true
   },
   "outputs": [],
   "source": [
    "#import the excel file\n",
    "import xlrd\n",
    "from collections import defaultdict\n",
    "totalJobs_workbook=xlrd.open_workbook('../normalize_dataset/total_jobs_new Z Score.xls', on_demand = True)\n",
    "totalJobs_sheet=totalJobs_workbook.sheet_by_index(0)"
   ]
  },
  {
   "cell_type": "code",
   "execution_count": 28,
   "metadata": {},
   "outputs": [
    {
     "name": "stdout",
     "output_type": "stream",
     "text": [
      "['City', 'Country', 'Total jobs 2011', 'Total jobs 2011 z score', '', 637737.8553297359, 260196.7741935484]\n",
      "['Aberdeen', 'United Kingdom', 176400.0, -0.13139689528109025, '', '', '']\n",
      "['Aldershot', 'United Kingdom', 90300.0, -0.26640534629343116, '', '', '']\n",
      "['Barnsley', 'United Kingdom', 73700.0, -0.29243485020521814, '', '', '']\n",
      "['Basildon', 'United Kingdom', 78400.0, -0.2850650509048929, '', '', '']\n",
      "['Birkenhead', 'United Kingdom', 98400.0, -0.25370420281840256, '', '', '']\n",
      "['Birmingham', 'United Kingdom', 1018400.0, 1.188894809160153, '', '', '']\n",
      "['Blackburn', 'United Kingdom', 58400.0, -0.31642589899138324, '', '', '']\n",
      "['Blackpool', 'United Kingdom', 96900.0, -0.2560562664248893, '', '', '']\n",
      "['Bournemouth', 'United Kingdom', 201900.0, -0.09141181397081508, '', '', '']\n",
      "['Bradford', 'United Kingdom', 198200.0, -0.09721357086681578, '', '', '']\n",
      "['Brighton', 'United Kingdom', 144700.0, -0.18110383949817743, '', '', '']\n",
      "['Bristol', 'United Kingdom', 386400.0, 0.1978920096270583, '', '', '']\n",
      "['Burnley', 'United Kingdom', 66100.0, -0.3043519724780845, '', '', '']\n",
      "['Cambridge', 'United Kingdom', 90500.0, -0.26609173781256623, '', '', '']\n",
      "['Cardiff', 'United Kingdom', 196900.0, -0.09925202599243765, '', '', '']\n",
      "['Chatham', 'United Kingdom', 82800.0, -0.27816566432586504, '', '', '']\n",
      "['Coventry', 'United Kingdom', 143400.0, -0.1831422946237993, '', '', '']\n",
      "['Crawley', 'United Kingdom', 81400.0, -0.28036092369191934, '', '', '']\n",
      "['Derby', 'United Kingdom', 120300.0, -0.21936407416369566, '', '', '']\n",
      "['Doncaster', 'United Kingdom', 111500.0, -0.2331628473217514, '', '', '']\n",
      "['Dundee', 'United Kingdom', 74000.0, -0.29196443748392076, '', '', '']\n",
      "['Edinburgh', 'United Kingdom', 319500.0, 0.09298997277774812, '', '', '']\n",
      "['Exeter', 'United Kingdom', 84100.0, -0.27612720920024314, '', '', '']\n",
      "['Glasgow', 'United Kingdom', 511200.0, 0.393583701686758, '', '', '']\n",
      "['Gloucester', 'United Kingdom', 63100.0, -0.309056099691058, '', '', '']\n",
      "['Huddersfield', 'United Kingdom', 154600.0, -0.1655802196953647, '', '', '']\n",
      "['Hull', 'United Kingdom', 115200.0, -0.22736109042575067, '', '', '']\n",
      "['Ipswich', 'United Kingdom', 67700.0, -0.30184310463116526, '', '', '']\n",
      "['Leeds', 'United Kingdom', 406700.0, 0.229723270434846, '', '', '']\n",
      "['Leicester', 'United Kingdom', 226400.0, -0.052994775064864406, '', '', '']\n",
      "['Liverpool', 'United Kingdom', 290300.0, 0.04720313457147222, '', '', '']\n",
      "['London', 'United Kingdom', 4986300.0, 7.410730265279403, '', '', '']\n",
      "['Luton', 'United Kingdom', 86200.0, -0.27283432015116166, '', '', '']\n",
      "['Manchester', 'United Kingdom', 1076100.0, 1.2793708558896777, '', '', '']\n",
      "['Mansfield', 'United Kingdom', 83500.0, -0.27706803464283786, '', '', '']\n",
      "['Middlesbrough', 'United Kingdom', 180200.0, -0.12543833414465708, '', '', '']\n",
      "['Milton Keynes', 'United Kingdom', 145200.0, -0.18031981829601518, '', '', '']\n",
      "['Newcastle', 'United Kingdom', 383300.0, 0.19303107817365228, '', '', '']\n",
      "['Newport', 'United Kingdom', 108900.0, -0.23723975757299515, '', '', '']\n",
      "['Northampton', 'United Kingdom', 131500.0, -0.20180199923526107, '', '', '']\n",
      "['Norwich', 'United Kingdom', 130600.0, -0.20321323739915312, '', '', '']\n",
      "['Nottingham', 'United Kingdom', 303800.0, 0.0683717070298532, '', '', '']\n",
      "['Oxford', 'United Kingdom', 109300.0, -0.23661254061126533, '', '', '']\n",
      "['Peterborough', 'United Kingdom', 97200.0, -0.255585853703592, '', '', '']\n",
      "['Plymouth', 'United Kingdom', 106500.0, -0.241003059343374, '', '', '']\n",
      "['Portsmouth', 'United Kingdom', 212900.0, -0.07416334752324538, '', '', '']\n",
      "['Preston', 'United Kingdom', 184900.0, -0.11806853484433186, '', '', '']\n",
      "['Reading', 'United Kingdom', 166500.0, -0.14692051508390297, '', '', '']\n",
      "['Sheffield', 'United Kingdom', 340600.0, 0.12607566750899543, '', '', '']\n",
      "['Slough', 'United Kingdom', 80800.0, -0.28130174913451406, '', '', '']\n",
      "['Southampton', 'United Kingdom', 170500.0, -0.1406483454666049, '', '', '']\n",
      "['Southend', 'United Kingdom', 105100.0, -0.24319831870942832, '', '', '']\n",
      "['Stoke', 'United Kingdom', 153800.0, -0.16683465361882432, '', '', '']\n",
      "['Sunderland', 'United Kingdom', 115600.0, -0.22673387346402088, '', '', '']\n",
      "['Swansea', 'United Kingdom', 150100.0, -0.17263641051482503, '', '', '']\n",
      "['Swindon', 'United Kingdom', 110100.0, -0.2353581066878057, '', '', '']\n",
      "['Telford', 'United Kingdom', 77400.0, -0.28663309330921743, '', '', '']\n",
      "['Wakefield', 'United Kingdom', 138900.0, -0.19019848544325962, '', '', '']\n",
      "['Warrington', 'United Kingdom', 118200.0, -0.22265696321277714, '', '', '']\n",
      "['Wigan', 'United Kingdom', 98700.0, -0.2532337900971052, '', '', '']\n",
      "['Worthing', 'United Kingdom', 45800.0, -0.3361832332858722, '', '', '']\n",
      "['York', 'United Kingdom', 105900.0, -0.2419438847859687, '', '', '']\n"
     ]
    }
   ],
   "source": [
    "for i in range(totalJobs_sheet.nrows):\n",
    "    print(totalJobs_sheet.row_values(i))"
   ]
  },
  {
   "cell_type": "code",
   "execution_count": 29,
   "metadata": {},
   "outputs": [
    {
     "data": {
      "text/plain": [
       "<pymongo.results.InsertManyResult at 0x7fce02cffab0>"
      ]
     },
     "execution_count": 29,
     "metadata": {},
     "output_type": "execute_result"
    }
   ],
   "source": [
    "totalJobsCollection.drop()\n",
    "l=list()\n",
    "for i in range(1,totalJobs_sheet.nrows):\n",
    "    row = totalJobs_sheet.row_values(i)\n",
    "    dic2 = {'city_name':row[0],'total_jobs':row[2],'total_jobs_normalized_value':row[3]}\n",
    "    l.append(dic2)\n",
    "#print (l)\n",
    "totalJobsCollection.insert_many(l)"
   ]
  },
  {
   "cell_type": "code",
   "execution_count": 30,
   "metadata": {},
   "outputs": [
    {
     "data": {
      "text/plain": [
       "62"
      ]
     },
     "execution_count": 30,
     "metadata": {},
     "output_type": "execute_result"
    }
   ],
   "source": [
    "totalJobsCollection.count()"
   ]
  },
  {
   "cell_type": "markdown",
   "metadata": {},
   "source": [
    "## Reading Road Traffic data"
   ]
  },
  {
   "cell_type": "code",
   "execution_count": 31,
   "metadata": {
    "collapsed": true
   },
   "outputs": [],
   "source": [
    "# Create database and collection objects for road traffic and delay caused by it\n",
    "db = client.data_diggers\n",
    "roadTrafficCollection = db.roadTraffic"
   ]
  },
  {
   "cell_type": "code",
   "execution_count": 32,
   "metadata": {
    "collapsed": true
   },
   "outputs": [],
   "source": [
    "#import the excel file\n",
    "import xlrd\n",
    "from collections import defaultdict\n",
    "roadTraffic_workbook=xlrd.open_workbook('../normalize_dataset/road traffic.xls', on_demand = True)\n",
    "roadTraffic_sheet=roadTraffic_workbook.sheet_by_index(0)"
   ]
  },
  {
   "cell_type": "code",
   "execution_count": 33,
   "metadata": {},
   "outputs": [
    {
     "name": "stdout",
     "output_type": "stream",
     "text": [
      "['City', 'Area Code', 'Delay 2015', 'Delay 2016', '', 'Z-score norm 2015', 'Z-score norm 2016']\n",
      "['County Durham UA', 'E06000047 (00EJ)', 21.2, 22.4, '', -0.8983897493709471, -0.8705272692129561]\n",
      "['Darlington UA', 'E06000005 (00EH)', 28.8, 29.5, '', -0.7219273750370041, -0.705674261611509]\n",
      "['Hartlepool UA', 'E06000001 (00EB)', 23.3, 22.7, '', -0.8496304090944631, -0.863561649173458]\n",
      "['Middlesbrough UA', 'E06000002 (00EC)', 31.2, 28.1, '', -0.666202414721022, -0.7381804884624991]\n",
      "['Northumberland UA', 'E06000048 (00EM)', 18.5, 19.9, '', -0.9610803297264271, -0.9285741028754381]\n",
      "['Redcar and Cleveland UA', 'E06000003 (00EE)', 17.4, 16.6, '', -0.986620936537919, -1.00519592330991]\n",
      "['Stockton-on-Tees UA', 'E06000004 (00EF)', 37.6, 39.0, '', -0.5176025205450691, -0.48509629369407997]\n",
      "['Tyne and Wear (Met County)', 'E11000004 (2D)', 42.8, 45.7, '', -0.39686510652710805, -0.32953077947863]\n",
      "['Gateshead', 'E08000020 (00CH)', 51.7, 50.4, '', -0.19021837868867403, -0.22040273219316503]\n",
      "['Newcastle upon Tyne', 'E08000021 (00CJ)', 65.4, 69.8, '', 0.127878269781724, 0.230040697027691]\n",
      "['North Tyneside', 'E08000022 (00CK)', 34.7, 42.1, '', -0.584936847593548, -0.413118219952603]\n",
      "['South Tyneside', 'E08000023 (00CL)', 37.7, 42.3, '', -0.51528064719857, -0.408474473259605]\n",
      "['Sunderland', 'E08000024 (00CM)', 29.2, 30.4, '', -0.712639881651007, -0.684777401493016]\n",
      "['Blackburn with Darwen UA', 'E06000008 (00EX)', 61.9, 59.8, '', 0.0466127026542495, -0.00214663762223494]\n",
      "['Blackpool UA', 'E06000009 (00EY)', 65.4, 67.3, '', 0.127878269781724, 0.17199386336520903]\n",
      "['Cheshire East UA', 'E06000049 (00EQ)', 31.3, 33.3, '', -0.663880541374523, -0.617443074444538]\n",
      "['Cheshire West and Chester UA', 'E06000050 (00EW)', 31.2, 32.4, '', -0.666202414721022, -0.6383399345630311]\n",
      "['Halton UA', 'E06000006 (00ET)', 26.7, 33.2, '', -0.7706867153134881, -0.6197649477910371]\n",
      "['Warrington UA', 'E06000007 (00EU)', 54.0, 53.6, '', -0.13681529171919202, -0.146102785105189]\n",
      "['Cumbria', 'E10000006 (16)', 24.8, 25.7, '', -0.814802308896974, -0.793905448778481]\n",
      "['Lancashire', 'E10000017 (30)', 38.4, 39.0, '', -0.499027533773075, -0.48509629369407997]\n",
      "['Greater Manchester (Met County)', 'E11000001 (2A)', 69.9, 71.8, '', 0.23236257037419, 0.27647816395767605]\n",
      "['Bolton', 'E08000001 (00BL)', 58.5, 57.6, '', -0.032330991126725196, -0.0532278512452184]\n",
      "['Bury', 'E08000002 (00BM)', 61.2, 62.9, '', 0.0303595892287548, 0.069831436119242]\n",
      "['Manchester', 'E08000003 (00BN)', 94.5, 98.0, '', 0.8035434136130071, 0.88480898074048]\n",
      "['Oldham', 'E08000004 (00BP)', 59.7, 62.5, '', -0.00446851096873406, 0.060543942733245]\n",
      "['Rochdale', 'E08000005 (00BQ)', 60.6, 61.8, '', 0.0164283491497592, 0.0442908293077502]\n",
      "['Salford', 'E08000006 (00BR)', 74.5, 77.3, '', 0.339168744313156, 0.404181198015135]\n",
      "['Stockport', 'E08000007 (00BS)', 70.0, 73.8, '', 0.23468444372068903, 0.322915630887661]\n",
      "['Tameside', 'E08000008 (00BT)', 83.2, 85.0, '', 0.541171725458591, 0.5829654456955771]\n",
      "['Trafford', 'E08000009 (00BU)', 66.1, 68.8, '', 0.14413138320721802, 0.20682196356269802]\n",
      "['Wigan', 'E08000010 (00BW)', 58.5, 58.5, '', -0.032330991126725196, -0.032330991126725196]\n",
      "['Merseyside (Met County)', 'E11000002 (2B)', 54.7, 56.0, '', -0.120562178293697, -0.0903778247892066]\n",
      "['Knowsley', 'E08000011 (00BX)', 31.5, 34.4, '', -0.6592367946815241, -0.591902467633046]\n",
      "['Liverpool', 'E08000012 (00BY)', 80.5, 83.9, '', 0.478481145103111, 0.557424838884086]\n",
      "['Sefton', 'E08000014 (00CA)', 51.7, 51.9, '', -0.19021837868867403, -0.185574631995676]\n",
      "['St. Helens', 'E08000013 (00BZ)', 40.6, 40.7, '', -0.44794632015009206, -0.44562444680359203]\n",
      "['Wirral', 'E08000015 (00CB)', 40.6, 40.0, '', -0.44794632015009206, -0.46187756022908705]\n",
      "['East Riding of Yorkshire UA', 'E06000011 (00FB)', 18.0, 18.6, '', -0.9726896964589231, -0.9587584563799281]\n",
      "['Kingston upon Hull, City of UA', 'E06000010 (00FA)', 80.8, 83.8, '', 0.48544676514260904, 0.5551029655375861]\n",
      "['North East Lincolnshire UA', 'E06000012 (00FC)', 38.7, 39.4, '', -0.49206191373357805, -0.47580880030808304]\n",
      "['North Lincolnshire UA', 'E06000013 (00FD)', 19.6, 21.2, '', -0.935539722914935, -0.8983897493709471]\n",
      "['York UA', 'E06000014 (00FF)', 54.2, 54.5, '', -0.13217154502619302, -0.125205924986695]\n",
      "['North Yorkshire', 'E10000023 (36)', 21.8, 22.5, '', -0.884458509291952, -0.8682053958664571]\n",
      "['South Yorkshire (Met County)', 'E11000003 (2C)', 43.1, 42.1, '', -0.38989948648761, -0.413118219952603]\n",
      "['Barnsley', 'E08000016 (00CC)', 33.3, 34.9, '', -0.617443074444538, -0.5802931009005491]\n",
      "['Doncaster', 'E08000017 (00CE)', 36.8, 33.2, '', -0.536177507317064, -0.6197649477910371]\n",
      "['Rotherham', 'E08000018 (00CF)', 33.6, 34.2, '', -0.61047745440504, -0.596546214326044]\n",
      "['Sheffield', 'E08000019 (00CG)', 59.5, 57.8, '', -0.00911225766173263, -0.04858410455222]\n",
      "['West Yorkshire (Met County)', 'E11000006 (2F)', 50.8, 52.2, '', -0.211115238807168, -0.178609011956178]\n",
      "['Bradford', 'E08000032 (00CX)', 61.3, 64.0, '', 0.0326814625752539, 0.0953720429307338]\n",
      "['Calderdale', 'E08000033 (00CY)', 49.9, 53.0, '', -0.23201209892566102, -0.16003402518418403]\n",
      "['Kirklees', 'E08000034 (00CZ)', 55.0, 56.8, '', -0.11359655825419901, -0.0718028380172126]\n",
      "['Leeds', 'E08000035 (00DA)', 48.1, 49.0, '', -0.273805819162648, -0.252908959044154]\n",
      "['Wakefield', 'E08000036 (00DB)', 38.9, 38.3, '', -0.48741816704057905, -0.501349407119575]\n",
      "['Derby UA', 'E06000015 (00FK)', 65.0, 65.1, '', 0.118590776395726, 0.12091264974222601]\n",
      "['Leicester UA', 'E06000016 (00FN)', 79.9, 80.8, '', 0.464549905024116, 0.48544676514260904]\n",
      "['Nottingham UA', 'E06000018 (00FY)', 77.1, 78.8, '', 0.39953745132213603, 0.439009298212623]\n",
      "['Rutland UA', 'E06000017 (00FP)', 11.9, 11.8, '', -1.11432397059538, -1.11664584394188]\n",
      "['Derbyshire', 'E10000007 (17)', 26.4, 27.4, '', -0.7776523353529861, -0.754433601887993]\n",
      "['Leicestershire', 'E10000018 (31)', 28.1, 29.8, '', -0.7381804884624991, -0.6987086415720111]\n",
      "['Lincolnshire', 'E10000019 (32)', 20.0, 20.2, '', -0.926252229528938, -0.92160848283594]\n",
      "['Northamptonshire', 'E10000021 (34)', 27.9, 29.1, '', -0.742824235155497, -0.714961754997506]\n",
      "['Nottinghamshire', 'E10000024 (37)', 29.7, 30.2, '', -0.7010305149185111, -0.6894211481860141]\n",
      "['Herefordshire, County of UA', 'E06000019 (00GA)', 22.0, 22.7, '', -0.8798147625989531, -0.863561649173458]\n",
      "['Shropshire UA', 'E06000051 (00GG)', 19.9, 20.8, '', -0.9285741028754381, -0.9076772427569441]\n",
      "['Stoke-on-Trent UA', 'E06000021 (00GL)', 57.9, 59.3, '', -0.0462622312057207, -0.0137560043547312]\n",
      "['Telford and Wrekin UA', 'E06000020 (00GF)', 15.7, 17.4, '', -1.02609278342841, -0.986620936537919]\n",
      "['Staffordshire', 'E10000028 (41)', 29.4, 30.1, '', -0.7079961349580081, -0.6917430215325141]\n",
      "['Warwickshire', 'E10000031 (44)', 28.5, 29.9, '', -0.7288929950765021, -0.696386768225512]\n",
      "['Worcestershire', 'E10000034 (47)', 27.5, 28.2, '', -0.7521117285414941, -0.735858615115999]\n",
      "['West Midlands (Met County)', 'E11000005 (2E)', 66.0, 65.5, '', 0.14180950986071902, 0.130200143128223]\n",
      "['Birmingham', 'E08000025 (00CN)', 78.4, 78.9, '', 0.42972180482662703, 0.44133117155912305]\n",
      "['Coventry', 'E08000026 (00CQ)', 47.8, 44.3, '', -0.28077143920214503, -0.36203700632961905]\n",
      "['Dudley', 'E08000027 (00CR)', 62.9, 65.1, '', 0.069831436119242, 0.12091264974222601]\n",
      "['Sandwell', 'E08000028 (00CS)', 66.3, 66.9, '', 0.14877512990021702, 0.162706369979212]\n",
      "['Solihull', 'E08000029 (00CT)', 31.4, 33.7, '', -0.6615586680280231, -0.60815558105854]\n",
      "['Walsall', 'E08000030 (00CU)', 63.0, 53.7, '', 0.07215330946574129, -0.143780911758689]\n",
      "['Wolverhampton', 'E08000031 (00CW)', 78.6, 79.7, '', 0.434365551519625, 0.45990615833111703]\n",
      "['Bedford UA', 'E06000055 (00KB)', 41.1, 39.9, '', -0.43633695341759604, -0.464199433575587]\n",
      "['Central Bedfordshire UA', 'E06000056 (00KC)', 22.9, 23.5, '', -0.85891790248046, -0.844986662401464]\n",
      "['Luton UA', 'E06000032 (00KA)', 60.6, 65.4, '', 0.0164283491497592, 0.127878269781724]\n",
      "['Peterborough UA', 'E06000031 (00JA)', 24.9, 24.0, '', -0.8124804355504751, -0.833377295668968]\n",
      "['Southend-on-Sea UA', 'E06000033 (00KF)', 70.0, 71.7, '', 0.23468444372068903, 0.274156290611177]\n",
      "['Thurrock UA', 'E06000034 (00KG)', 23.9, 28.5, '', -0.835699169015467, -0.7288929950765021]\n",
      "['Cambridgeshire', 'E10000003 (12)', 27.3, 27.6, '', -0.756755475234493, -0.7497898551949951]\n",
      "['Essex', 'E10000012 (22)', 29.5, 31.5, '', -0.705674261611509, -0.6592367946815241]\n",
      "['Hertfordshire', 'E10000015 (26)', 34.1, 36.1, '', -0.5988680876725431, -0.552430620742558]\n",
      "['Norfolk', 'E10000020 (33)', 26.7, 27.4, '', -0.7706867153134881, -0.754433601887993]\n",
      "['Suffolk', 'E10000029 (42)', 27.0, 28.5, '', -0.76372109527399, -0.7288929950765021]\n",
      "['Inner London', 'E13000001 (1B)', 151.8, 155.3, '', 2.13397684115708, 2.21524240828455]\n",
      "['Camden', 'E09000007 (00AG)', 231.1, 243.7, '', 3.97522240493099, 4.2677784465899]\n",
      "['City of London', 'E09000001 (00AA)', 279.6, 348.3, '', 5.10133097798313, 6.69645796702812]\n",
      "['Hackney', 'E09000012 (00AM)', 148.6, 142.8, '', 2.0596768940691, 1.92500823997215]\n",
      "['Hammersmith and Fulham', 'E09000013 (00AN)', 135.6, 129.3, '', 1.7578333590242, 1.61155533819475]\n",
      "['Haringey', 'E09000014 (00AP)', 140.5, 154.5, '', 1.87160515300266, 2.19666742151256]\n",
      "['Islington', 'E09000019 (00AU)', 184.1, 187.3, '', 2.8839419320763398, 2.95824187916432]\n",
      "['Kensington and Chelsea', 'E09000020 (00AW)', 153.3, 153.0, '', 2.16880494135457, 2.16183932131507]\n",
      "['Lambeth', 'E09000022 (00AY)', 161.4, 158.0, '', 2.35687668242101, 2.27793298864003]\n",
      "['Lewisham', 'E09000023 (00AZ)', 164.0, 167.6, '', 2.41724538942999, 2.50083282990396]\n",
      "['Newham', 'E09000025 (00BB)', 77.8, 77.5, '', 0.41579056474763104, 0.408824944708133]\n",
      "['Southwark', 'E09000028 (00BE)', 185.4, 208.6, '', 2.91412628558083, 3.45280090196866]\n",
      "['Tower Hamlets', 'E09000030 (00BG)', 125.4, 112.6, '', 1.52100227768128, 1.22380248932937]\n",
      "['Wandsworth', 'E09000032 (00BJ)', 134.8, 131.5, '', 1.73925837225221, 1.66263655181773]\n",
      "['Westminster', 'E09000033 (00BK)', 199.5, 216.3, '', 3.24151042743722, 3.6315851496491]\n",
      "['Outer London', 'E13000002 (1C)', 74.9, 76.2, '', 0.348456237699153, 0.378640591203643]\n",
      "['Barking and Dagenham', 'E09000002 (00AB)', 68.7, 70.9, '', 0.20450009021619903, 0.25558130383918304]\n",
      "['Barnet', 'E09000003 (00AC)', 88.7, 87.2, '', 0.66887475951605, 0.6340466593185611]\n",
      "['Bexley', 'E09000004 (00AD)', 48.4, 50.2, '', -0.26684019912315, -0.22504647888616303]\n",
      "['Brent', 'E09000005 (00AE)', 105.9, 106.5, '', 1.06823697511392, 1.08216821519292]\n",
      "['Bromley', 'E09000006 (00AF)', 62.5, 63.9, '', 0.060543942733245, 0.0930501695842345]\n",
      "['Croydon', 'E09000008 (00AH)', 93.1, 99.5, '', 0.771037186762017, 0.919637080937969]\n",
      "['Ealing', 'E09000009 (00AJ)', 83.5, 85.3, '', 0.548137345498089, 0.589931065735075]\n",
      "['Enfield', 'E09000010 (00AK)', 88.6, 89.4, '', 0.66655288616955, 0.6851278729415451]\n",
      "['Greenwich', 'E09000011 (00AL)', 82.9, 88.4, '', 0.5342061054190931, 0.661909139476552]\n",
      "['Harrow', 'E09000015 (00AQ)', 82.4, 84.3, '', 0.5225967386865971, 0.566712332270083]\n",
      "['Havering', 'E09000016 (00AR)', 48.5, 49.1, '', -0.264518325776651, -0.25058708569765503]\n",
      "['Hillingdon', 'E09000017 (00AS)', 52.7, 50.6, '', -0.16699964522368202, -0.215758985500166]\n",
      "['Hounslow', 'E09000018 (00AT)', 89.8, 94.0, '', 0.6944153663275421, 0.79193404688051]\n",
      "['Kingston upon Thames', 'E09000021 (00AX)', 50.0, 50.5, '', -0.22969022557916202, -0.218080858846666]\n",
      "['Merton', 'E09000024 (00BA)', 112.2, 115.0, '', 1.21451499594337, 1.27952744964535]\n",
      "['Redbridge', 'E09000026 (00BC)', 59.5, 59.4, '', -0.00911225766173263, -0.0114341310082319]\n",
      "['Richmond upon Thames', 'E09000027 (00BD)', 98.4, 101.8, '', 0.8940964741264781, 0.9730401679074521]\n",
      "['Sutton', 'E09000029 (00BF)', 83.4, 85.9, '', 0.545815472151589, 0.6038623058140711]\n",
      "['Waltham Forest', 'E09000031 (00BH)', 59.7, 62.1, '', -0.00446851096873406, 0.051256449347248004]\n",
      "['Bracknell Forest UA', 'E06000036 (00MA)', 34.5, 34.7, '', -0.5895805942865461, -0.584936847593548]\n",
      "['Brighton and Hove UA', 'E06000043 (00ML)', 81.0, 84.2, '', 0.49009051183560703, 0.5643904589235831]\n",
      "['Isle of Wight UA', 'E06000046 (00MW)', 33.8, 35.3, '', -0.605833707712041, -0.5710056075145521]\n",
      "['Medway UA', 'E06000035 (00LC)', 44.3, 45.1, '', -0.36203700632961905, -0.343462019557625]\n",
      "['Milton Keynes UA', 'E06000042 (00MG)', 26.7, 27.0, '', -0.7706867153134881, -0.76372109527399]\n",
      "['Portsmouth UA', 'E06000044 (00MR)', 72.6, 78.1, '', 0.29505315072967, 0.422756184787129]\n",
      "['Reading UA', 'E06000038 (00MC)', 107.3, 103.1, '', 1.10074320196491, 1.00322452141194]\n",
      "['Slough UA', 'E06000039 (00MD)', 99.5, 112.8, '', 0.919637080937969, 1.22844623602237]\n",
      "['Southampton UA', 'E06000045 (00MS)', 85.5, 83.6, '', 0.5945748124280741, 0.550459218844588]\n",
      "['West Berkshire UA', 'E06000037 (00MB)', 28.5, 31.5, '', -0.7288929950765021, -0.6592367946815241]\n",
      "['Windsor and Maidenhead UA', 'E06000040 (00ME)', 33.3, 38.0, '', -0.617443074444538, -0.5083150271590731]\n",
      "['Wokingham UA', 'E06000041 (00MF)', 38.8, 41.3, '', -0.489740040387078, -0.43169320672459705]\n",
      "['Buckinghamshire', 'E10000002 (11)', 27.9, 29.9, '', -0.742824235155497, -0.696386768225512]\n",
      "['East Sussex', 'E10000011 (21)', 29.4, 30.6, '', -0.7079961349580081, -0.6801336548000171]\n",
      "['Hampshire', 'E10000014 (24)', 26.7, 26.2, '', -0.7706867153134881, -0.7822960820459851]\n",
      "['Kent', 'E10000016 (29)', 33.3, 34.6, '', -0.617443074444538, -0.587258720940047]\n",
      "['Oxfordshire', 'E10000025 (38)', 28.3, 29.6, '', -0.7335367417695, -0.70335238826501]\n",
      "['Surrey', 'E10000030 (43)', 43.0, 44.3, '', -0.39222135983411, -0.36203700632961905]\n",
      "['West Sussex', 'E10000032 (45)', 27.2, 27.7, '', -0.7590773485809921, -0.747467981848496]\n",
      "['Bath and North East Somerset UA', 'E06000022 (00HA)', 46.7, 45.3, '', -0.30631204601363704, -0.338818272864627]\n",
      "['Bournemouth UA', 'E06000028 (00HN)', 49.0, 49.4, '', -0.252908959044154, -0.243621465658157]\n",
      "['Bristol, City of UA', 'E06000023 (00HB)', 93.8, 102.0, '', 0.7872903001875121, 0.9776839146004511]\n",
      "['Cornwall UA', 'E06000052 (00HE)', 22.3, 23.2, '', -0.8728491425594551, -0.8519522824409621]\n",
      "['North Somerset UA', 'E06000024 (00HC)', 24.7, 25.8, '', -0.817124182243473, -0.7915835754319811]\n",
      "['Plymouth UA', 'E06000026 (00HG)', 51.7, 57.6, '', -0.19021837868867403, -0.0532278512452184]\n",
      "['Poole UA', 'E06000029 (00HP)', 49.8, 52.5, '', -0.23433397227216, -0.17164339191668]\n",
      "['South Gloucestershire UA', 'E06000025 (00HD)', 40.6, 43.9, '', -0.44794632015009206, -0.37132449971561604]\n",
      "['Swindon UA', 'E06000030 (00HX)', 38.1, 40.4, '', -0.505993153812573, -0.45259006684309]\n",
      "['Torbay UA', 'E06000027 (00HH)', 46.5, 48.7, '', -0.31095579270663604, -0.259874579083652]\n",
      "['Wiltshire UA', 'E06000054 (00HY)', 23.0, 23.6, '', -0.856596029133961, -0.8426647890549651]\n",
      "['Devon', 'E10000008 (18)', 25.8, 24.4, '', -0.7915835754319811, -0.824089802282971]\n",
      "['Dorset', 'E10000009 (19)', 22.5, 24.0, '', -0.8682053958664571, -0.833377295668968]\n",
      "['Gloucestershire', 'E10000013 (23)', 31.3, 33.0, '', -0.663880541374523, -0.624408694484035]\n",
      "['Somerset', 'E10000027 (40)', 26.6, 27.6, '', -0.773008588659987, -0.7497898551949951]\n",
      "['', '', '', '', '', '', '']\n",
      "['', 'mean', 59.89245283018867, 61.840251572327055, '', '', '']\n",
      "['', 'std', 43.06867131696586, 46.618727045348585, '', '', '']\n"
     ]
    }
   ],
   "source": [
    "for i in range(roadTraffic_sheet.nrows):\n",
    "    print(roadTraffic_sheet.row_values(i))"
   ]
  },
  {
   "cell_type": "code",
   "execution_count": 34,
   "metadata": {},
   "outputs": [
    {
     "data": {
      "text/plain": [
       "<pymongo.results.InsertManyResult at 0x7fce1c04da68>"
      ]
     },
     "execution_count": 34,
     "metadata": {},
     "output_type": "execute_result"
    }
   ],
   "source": [
    "db.drop_collection('roadTraffic')\n",
    "rt=list()\n",
    "for i in range(1,roadTraffic_sheet.nrows-3):\n",
    "    row2 = roadTraffic_sheet.row_values(i)\n",
    "    if row2[0]!='':\n",
    "        dic3 = {'city_name':row2[0].split(' UA')[0].split(' (Met County)')[0],'Delay 2015':row2[2],'Delay 2016':row2[3],'Delay_2015_normalized_value':row2[5],'Delay_2016_normalized_value':row2[6]}\n",
    "        rt.append(dic3)\n",
    "#print (l)\n",
    "roadTrafficCollection.insert_many(rt)"
   ]
  },
  {
   "cell_type": "code",
   "execution_count": 35,
   "metadata": {},
   "outputs": [
    {
     "data": {
      "text/plain": [
       "159"
      ]
     },
     "execution_count": 35,
     "metadata": {},
     "output_type": "execute_result"
    }
   ],
   "source": [
    "roadTrafficCollection.count()\n"
   ]
  },
  {
   "cell_type": "markdown",
   "metadata": {},
   "source": [
    "## Number of people exposed to road traffic noise 55dB"
   ]
  },
  {
   "cell_type": "code",
   "execution_count": 36,
   "metadata": {
    "collapsed": true
   },
   "outputs": [],
   "source": [
    "# Create database and collection objects for Number of people exposed to road traffic noise 55 dB\n",
    "db = client.data_diggers\n",
    "trafficNoiseCollection = db.trafficNoise"
   ]
  },
  {
   "cell_type": "code",
   "execution_count": 37,
   "metadata": {
    "collapsed": true
   },
   "outputs": [],
   "source": [
    "#import the excel file\n",
    "import xlrd\n",
    "from collections import defaultdict\n",
    "trafficNoise_workbook=xlrd.open_workbook('../normalize_dataset/road_traffic_noise.xls', on_demand = True)\n",
    "trafficNoise_sheet=trafficNoise_workbook.sheet_by_index(0)"
   ]
  },
  {
   "cell_type": "code",
   "execution_count": 38,
   "metadata": {},
   "outputs": [
    {
     "name": "stdout",
     "output_type": "stream",
     "text": [
      "['City', '55dB or more at NIGHT (number of people exposed from road traffic noise)', '55dB or more at NIGHT (number of people exposed from road traffic noise) Z SCORED', '', 147225.38978825998, 47705.0]\n",
      "['Stockton-on-Tees', 9100.0, -0.26221699976832685, '', '', '']\n",
      "['Blackpool', 12200.0, -0.24116084902925644, '', '', '']\n",
      "['Preston', 20700.0, -0.1834262421640634, '', '', '']\n",
      "['Blackburn', 11600.0, -0.24523623304327008, '', '', '']\n",
      "['Burnley', 12000.0, -0.242519310367261, '', '', '']\n",
      "['Bradford', 125300.0, 0.5270490376123125, '', '', '']\n",
      "['Huddersfield', 125300.0, 0.5270490376123125, '', '', '']\n",
      "['Leeds', 125300.0, 0.5270490376123125, '', '', '']\n",
      "['Wakefield', 125300.0, 0.5270490376123125, '', '', '']\n",
      "['York', 7100.0, -0.27580161314837226, '', '', '']\n",
      "['Kingston upon Hull', 8100.0, -0.2690093064583496, '', '', '']\n",
      "['Birkenhead', 21800.0, -0.1759547048050384, '', '', '']\n",
      "['Liverpool', 60000.0, 0.08351141075382926, '', '', '']\n",
      "['Southport', 6100.0, -0.282593919838395, '', '', '']\n",
      "['Manchester', 255700.0, 1.4127658299912744, '', '', '']\n",
      "['Warrington', 14300.0, -0.22689700498020876, '', '', '']\n",
      "['Sheffield', 45600.0, -0.014297805582497812, '', '', '']\n",
      "['Doncaster', 8700.0, -0.26493392244433595, '', '', '']\n",
      "['Grimsby', 7600.0, -0.27240545980336095, '', '', '']\n",
      "['The Potteries', 25200.0, -0.15286086205896118, '', '', '']\n",
      "['Chesterfield', 4500.0, -0.29346161054243136, '', '', '']\n",
      "['Mansfield', 6000.0, -0.28327315050739726, '', '', '']\n",
      "['Lincoln', 4100.0, -0.29617853321844045, '', '', '']\n",
      "['Telford', 2600.0, -0.3063669932534745, '', '', '']\n",
      "['Derby', 14100.0, -0.22825546631821328, '', '', '']\n",
      "['Nottingham', 45900.0, -0.012260113575490998, '', '', '']\n",
      "['Norwich', 13300.0, -0.23368931167023146, '', '', '']\n",
      "['Birmingham', 207400.0, 1.0846974168631773, '', '', '']\n",
      "['Nuneaton ', 2500.0, -0.30704622392247677, '', '', '']\n",
      "['Coventry', 14900.0, -0.22282162096619512, '', '', '']\n",
      "['Leicester', 27300.0, -0.13859701800991348, '', '', '']\n",
      "['Peterborough', 5000.0, -0.29006545719742, '', '', '']\n",
      "['Milton Keynes', 2900.0, -0.3043293012464677, '', '', '']\n",
      "['Northampton', 14400.0, -0.2262177743112065, '', '', '']\n",
      "['Bedford', 7000.0, -0.27648084381737453, '', '', '']\n",
      "['Cambridge', 11000.0, -0.2493116170572837, '', '', '']\n",
      "['Gloucester', 6800.0, -0.2778393051553791, '', '', '']\n",
      "['Cheltenham', 8600.0, -0.2656131531133382, '', '', '']\n",
      "['Oxford', 13000.0, -0.23572700367723828, '', '', '']\n",
      "['Luton', 11000.0, -0.2493116170572837, '', '', '']\n",
      "['St Albans', 9000.0, -0.2628962304373291, '', '', '']\n",
      "['Colchester', 6300.0, -0.28123545850039045, '', '', '']\n",
      "['Ipswich', 10300.0, -0.2540662317402996, '', '', '']\n",
      "['Swindon', 5800.0, -0.2846316118454018, '', '', '']\n",
      "['Reading', 32200.0, -0.10531471522880217, '', '', '']\n",
      "['High Wycombe', 16500.0, -0.21195393026215878, '', '', '']\n",
      "['London', 1106500.0, 7.191660361862599, '', '', '']\n",
      "['Slough', 14500.0, -0.22553854364220421, '', '', '']\n",
      "['Southend on Sea', 16100.0, -0.21467085293816787, '', '', '']\n",
      "['Chatham', 14700.0, -0.22418008230419967, '', '', '']\n",
      "['Basildon', 2700.0, -0.3056877625844722, '', '', '']\n",
      "['Aldershot', 22000.0, -0.17459624346703384, '', '', '']\n",
      "['Crawley', 15000.0, -0.22214239029719285, '', '', '']\n",
      "['Exeter', 4400.0, -0.29414084121143363, '', '', '']\n",
      "['Portsmouth', 39300.0, -0.05708933772964091, '', '', '']\n",
      "['Southampton', 33500.0, -0.09648471653177265, '', '', '']\n",
      "['Worthing', 36700.0, -0.07474933512369997, '', '', '']\n",
      "['Hastings', 12500.0, -0.23912315702224962, '', '', '']\n",
      "['Eastbourne', 7900.0, -0.27036776779635413, '', '', '']\n",
      "['Plymouth', 7100.0, -0.27580161314837226, '', '', '']\n"
     ]
    }
   ],
   "source": [
    "for i in range(trafficNoise_sheet.nrows):\n",
    "    print(trafficNoise_sheet.row_values(i))"
   ]
  },
  {
   "cell_type": "code",
   "execution_count": 39,
   "metadata": {},
   "outputs": [
    {
     "data": {
      "text/plain": [
       "<pymongo.results.InsertManyResult at 0x7fce02cd28b8>"
      ]
     },
     "execution_count": 39,
     "metadata": {},
     "output_type": "execute_result"
    }
   ],
   "source": [
    "db.drop_collection('trafficNoise')\n",
    "tn=list()\n",
    "for i in range(1,trafficNoise_sheet.nrows):\n",
    "    row3 = trafficNoise_sheet.row_values(i)\n",
    "    dic4 = {'city_name':row3[0],'Number of people exposed to traffic noise':row3[1],'Normalized value of Number of people exposed to traffic noise':row3[2],}\n",
    "    tn.append(dic4)\n",
    "#print (l)\n",
    "trafficNoiseCollection.insert_many(tn)"
   ]
  },
  {
   "cell_type": "code",
   "execution_count": 40,
   "metadata": {},
   "outputs": [
    {
     "data": {
      "text/plain": [
       "60"
      ]
     },
     "execution_count": 40,
     "metadata": {},
     "output_type": "execute_result"
    }
   ],
   "source": [
    "trafficNoiseCollection.count()"
   ]
  },
  {
   "cell_type": "markdown",
   "metadata": {},
   "source": [
    "## Happiness ranking data"
   ]
  },
  {
   "cell_type": "code",
   "execution_count": 41,
   "metadata": {
    "collapsed": true
   },
   "outputs": [],
   "source": [
    "# Create database and collection objects for Happiness rankings by Country\n",
    "db = client.data_diggers\n",
    "happinessCollection = db.happinessRank"
   ]
  },
  {
   "cell_type": "code",
   "execution_count": 42,
   "metadata": {
    "collapsed": true
   },
   "outputs": [],
   "source": [
    "#import the excel file\n",
    "import xlrd\n",
    "from collections import defaultdict\n",
    "happiness_workbook=xlrd.open_workbook('../normalize_dataset/1.happiness_geo.xls', on_demand = True)\n",
    "happiness_sheet=happiness_workbook.sheet_by_index(1)"
   ]
  },
  {
   "cell_type": "code",
   "execution_count": 43,
   "metadata": {},
   "outputs": [
    {
     "name": "stdout",
     "output_type": "stream",
     "text": [
      "['Happiness1 by Counties, Unitary Authorities and Local Authority Districts, April 2012 to March 20152', '', '', '', '', '', '', '', '']\n",
      "['', '', '', '', '', '', '', '', '']\n",
      "['', '', 'Average (mean) rating', '', '', '', 'Sample size', '', '']\n",
      "['', '', '', 'Average (mean) rating', '', '', '', '', '']\n",
      "['', '', '', '', '', '', '', '', '']\n",
      "['Area Codes', 'Area names', '', 'CV', 'Lower limit', 'Upper limit', '', '', 'Max-min normalize']\n",
      "['K02000001', 'United Kingdom', 7.38, 0.07, 7.37, 7.39, 304740.0, '', 0.38]\n",
      "['E92000001', 'England', 7.37, 0.08, 7.36, 7.38, 226880.0, '', 0.37]\n",
      "['E12000001', 'North East', 7.29, 0.28, 7.25, 7.33, 19400.0, '', 0.29]\n",
      "['E06000047', ' County Durham', 7.16, 0.89, 7.04, 7.29, 1750.0, '', 0.18]\n",
      "['E06000005', ' Darlington', 7.45, 0.84, 7.32, 7.57, 1600.0, '', 0.44]\n",
      "['E06000001', ' Hartlepool', 7.39, 0.84, 7.26, 7.51, 1740.0, '', 0.38]\n",
      "['E06000002', ' Middlesbrough', 7.3, 0.89, 7.17, 7.43, 1620.0, '', 0.3]\n",
      "['E06000057', ' Northumberland', 7.45, 0.77, 7.34, 7.56, 1680.0, '', 0.44]\n",
      "['E06000003', ' Redcar and Cleveland', 7.35, 0.87, 7.22, 7.47, 1610.0, '', 0.35]\n",
      "['E06000004', ' Stockton-on-Tees', 7.48, 0.84, 7.36, 7.61, 1430.0, '', 0.46]\n",
      "['E08000037', ' Gateshead', 7.22, 0.88, 7.09, 7.34, 1510.0, '', 0.23]\n",
      "['E08000021', ' Newcastle upon Tyne', 7.24, 0.83, 7.12, 7.36, 1620.0, '', 0.25]\n",
      "['E08000022', ' North Tyneside', 7.31, 0.92, 7.18, 7.45, 1500.0, '', 0.31]\n",
      "['E08000023', ' South Tyneside', 7.13, 0.93, 7.0, 7.26, 1680.0, '', 0.15]\n",
      "['E08000024', ' Sunderland', 7.27, 0.87, 7.14, 7.39, 1650.0, '', 0.28]\n",
      "['E12000002', 'North West', 7.31, 0.21, 7.28, 7.34, 36120.0, '', 0.31]\n",
      "['E06000008', ' Blackburn with Darwen', 7.3, 1.03, 7.16, 7.45, 1410.0, '', 0.3]\n",
      "['E06000009', ' Blackpool', 7.31, 0.91, 7.18, 7.44, 1520.0, '', 0.31]\n",
      "['E06000049', ' Cheshire East', 7.61, 0.74, 7.5, 7.72, 1030.0, '', 0.58]\n",
      "['E06000050', ' Cheshire West and Chester', 7.4, 1.1, 7.24, 7.56, 880.0, '', 0.39]\n",
      "['E06000006', ' Halton', 7.13, 0.98, 7.0, 7.27, 1460.0, '', 0.15]\n",
      "['E06000007', ' Warrington', 7.44, 0.88, 7.31, 7.57, 1370.0, '', 0.43]\n",
      "['E10000006', ' Cumbria', 7.42, 0.78, 7.31, 7.53, 1880.0, '', 0.41]\n",
      "['E07000026', ' Allerdale', 7.7, 1.68, 7.44, 7.95, 390.0, '', 0.66]\n",
      "['E07000027', ' Barrow-in-Furness', 7.01, 2.51, 6.66, 7.36, 240.0, '', 0.04]\n",
      "['E07000028', ' Carlisle', 7.3, 1.8, 7.04, 7.55, 400.0, '', 0.3]\n",
      "['E07000029', ' Copeland', 7.46, 2.19, 7.13, 7.78, 240.0, '', 0.45]\n",
      "['E07000030', ' Eden', 7.49, 1.94, 7.2, 7.78, 230.0, '', 0.47]\n",
      "['E07000031', ' South Lakeland', 7.53, 1.46, 7.31, 7.75, 390.0, '', 0.51]\n",
      "['E08000001', ' Bolton', 7.32, 0.87, 7.2, 7.45, 1540.0, '', 0.32]\n",
      "['E08000002', ' Bury', 7.41, 1.01, 7.26, 7.56, 1210.0, '', 0.4]\n",
      "['E08000003', ' Manchester', 7.18, 0.94, 7.05, 7.32, 1870.0, '', 0.2]\n",
      "['E08000004', ' Oldham', 7.12, 1.02, 6.98, 7.27, 1410.0, '', 0.14]\n",
      "['E08000005', ' Rochdale', 7.26, 0.91, 7.13, 7.39, 1570.0, '', 0.27]\n",
      "['E08000006', ' Salford', 7.22, 0.89, 7.09, 7.34, 1550.0, '', 0.23]\n",
      "['E08000007', ' Stockport', 7.49, 0.77, 7.37, 7.6, 1610.0, '', 0.47]\n",
      "['E08000008', ' Tameside', 7.26, 0.93, 7.13, 7.39, 1630.0, '', 0.27]\n",
      "['E08000009', ' Trafford', 7.45, 0.82, 7.33, 7.57, 1540.0, '', 0.44]\n",
      "['E08000010', ' Wigan', 7.35, 0.85, 7.23, 7.47, 1650.0, '', 0.35]\n",
      "['E10000017', ' Lancashire', 7.43, 0.62, 7.34, 7.52, 3300.0, '', 0.42]\n",
      "['E07000117', ' Burnley', 7.46, 2.47, 7.09, 7.83, 200.0, '', 0.45]\n",
      "['E07000118', ' Chorley', 7.62, 1.52, 7.39, 7.85, 360.0, '', 0.59]\n",
      "['E07000119', ' Fylde', 7.83, 2.06, 7.51, 8.15, 230.0, '', 0.78]\n",
      "['E07000120', ' Hyndburn', 7.26, 2.35, 6.91, 7.6, 200.0, '', 0.27]\n",
      "['E07000121', ' Lancaster', 7.48, 1.79, 7.22, 7.75, 370.0, '', 0.46]\n",
      "['E07000122', ' Pendle', 7.27, 2.61, 6.89, 7.65, 240.0, '', 0.28]\n",
      "['E07000123', ' Preston', 7.37, 2.02, 7.08, 7.67, 390.0, '', 0.37]\n",
      "['E07000124', ' Ribble Valley', 7.49, 2.25, 7.15, 7.83, 140.0, '', 0.47]\n",
      "['E07000125', ' Rossendale', 7.43, 2.51, 7.06, 7.81, 180.0, '', 0.42]\n",
      "['E07000126', ' South Ribble', 7.32, 2.07, 7.02, 7.62, 330.0, '', 0.32]\n",
      "['E07000127', ' West Lancashire', 7.29, 1.79, 7.03, 7.55, 320.0, '', 0.29]\n",
      "['E07000128', ' Wyre', 7.46, 2.26, 7.13, 7.79, 330.0, '', 0.45]\n",
      "['E08000011', ' Knowsley', 7.1, 0.99, 6.96, 7.24, 1350.0, '', 0.13]\n",
      "['E08000012', ' Liverpool', 6.96, 0.98, 6.82, 7.09, 1790.0, '', 0.0]\n",
      "['E08000014', ' Sefton', 7.28, 0.94, 7.14, 7.41, 1520.0, '', 0.29]\n",
      "['E08000013', ' St. Helens', 7.1, 0.95, 6.97, 7.24, 1480.0, '', 0.13]\n",
      "['E08000015', ' Wirral', 7.21, 1.01, 7.06, 7.35, 1550.0, '', 0.22]\n",
      "['E12000003', 'Yorkshire and the Humber', 7.34, 0.23, 7.31, 7.38, 25180.0, '', 0.34]\n",
      "['E06000011', ' East Riding of Yorkshire', 7.44, 0.82, 7.32, 7.56, 1560.0, '', 0.43]\n",
      "['E06000010', ' Kingston upon Hull, City of', 7.22, 1.01, 7.08, 7.37, 1630.0, '', 0.23]\n",
      "['E06000012', ' North East Lincolnshire', 7.3, 0.9, 7.18, 7.43, 1650.0, '', 0.3]\n",
      "['E06000013', ' North Lincolnshire', 7.54, 0.84, 7.42, 7.67, 1540.0, '', 0.52]\n",
      "['E06000014', ' York', 7.31, 0.79, 7.2, 7.42, 1790.0, '', 0.31]\n",
      "['E10000023', ' North Yorkshire', 7.5, 0.71, 7.4, 7.61, 1800.0, '', 0.48]\n",
      "['E07000163', ' Craven', 7.65, 2.39, 7.29, 8.02, 180.0, '', 0.62]\n",
      "['E07000164', ' Hambleton', 7.61, 2.0, 7.3, 7.91, 230.0, '', 0.58]\n",
      "['E07000165', ' Harrogate', 7.45, 1.45, 7.24, 7.66, 460.0, '', 0.44]\n",
      "['E07000166', ' Richmondshire', 7.44, 2.39, 7.09, 7.79, 150.0, '', 0.43]\n",
      "['E07000167', ' Ryedale', 7.72, 1.71, 7.46, 7.98, 190.0, '', 0.68]\n",
      "['E07000168', ' Scarborough', 7.4, 1.71, 7.15, 7.65, 310.0, '', 0.39]\n",
      "['E07000169', ' Selby', 7.44, 1.86, 7.17, 7.72, 290.0, '', 0.43]\n",
      "['E08000016', ' Barnsley', 7.26, 0.91, 7.13, 7.39, 1680.0, '', 0.27]\n",
      "['E08000017', ' Doncaster', 7.35, 0.91, 7.22, 7.48, 1630.0, '', 0.35]\n",
      "['E08000018', ' Rotherham', 7.28, 0.88, 7.16, 7.41, 1600.0, '', 0.29]\n",
      "['E08000019', ' Sheffield', 7.27, 0.82, 7.15, 7.39, 1710.0, '', 0.28]\n",
      "['E08000032', ' Bradford', 7.34, 0.87, 7.21, 7.47, 1530.0, '', 0.34]\n",
      "['E08000033', ' Calderdale', 7.44, 0.82, 7.32, 7.56, 1440.0, '', 0.43]\n",
      "['E08000034', ' Kirklees', 7.25, 0.88, 7.13, 7.37, 1480.0, '', 0.26]\n",
      "['E08000035', ' Leeds', 7.33, 0.71, 7.23, 7.43, 2390.0, '', 0.33]\n",
      "['E08000036', ' Wakefield', 7.31, 0.8, 7.2, 7.43, 1740.0, '', 0.31]\n",
      "['E12000004', 'East Midlands', 7.42, 0.27, 7.38, 7.45, 16190.0, '', 0.41]\n",
      "['E06000015', ' Derby', 7.45, 0.84, 7.33, 7.57, 1540.0, '', 0.44]\n",
      "['E06000016', ' Leicester', 7.35, 0.92, 7.21, 7.48, 1620.0, '', 0.35]\n",
      "['E06000018', ' Nottingham', 7.23, 0.8, 7.12, 7.35, 1810.0, '', 0.24]\n",
      "['E06000017', ' Rutland', 7.55, 1.47, 7.33, 7.77, 440.0, '', 0.53]\n",
      "['E10000007', ' Derbyshire', 7.43, 0.68, 7.33, 7.53, 2170.0, '', 0.42]\n",
      "['E07000032', ' Amber Valley', 7.52, 1.31, 7.33, 7.72, 330.0, '', 0.5]\n",
      "['E07000033', ' Bolsover', 7.12, 2.88, 6.72, 7.53, 210.0, '', 0.14]\n",
      "['E07000034', ' Chesterfield', 7.42, 1.86, 7.14, 7.69, 310.0, '', 0.41]\n",
      "['E07000035', ' Derbyshire Dales', 7.56, 2.26, 7.22, 7.9, 190.0, '', 0.54]\n",
      "['E07000036', ' Erewash', 7.61, 1.78, 7.34, 7.88, 300.0, '', 0.58]\n",
      "['E07000037', ' High Peak', 7.37, 1.86, 7.1, 7.64, 280.0, '', 0.37]\n",
      "['E07000038', ' North East Derbyshire', 7.42, 1.98, 7.13, 7.71, 290.0, '', 0.41]\n",
      "['E07000039', ' South Derbyshire', 7.34, 2.02, 7.05, 7.64, 260.0, '', 0.34]\n",
      "['E10000018', ' Leicestershire', 7.53, 0.68, 7.43, 7.63, 2000.0, '', 0.51]\n",
      "['E07000129', ' Blaby', 7.72, 1.48, 7.5, 7.95, 300.0, '', 0.68]\n",
      "['E07000130', ' Charnwood', 7.43, 1.51, 7.21, 7.65, 450.0, '', 0.42]\n",
      "['E07000131', ' Harborough', 7.53, 1.95, 7.24, 7.82, 280.0, '', 0.51]\n",
      "['E07000132', ' Hinckley and Bosworth', 7.51, 1.67, 7.26, 7.76, 280.0, '', 0.49]\n",
      "['E07000133', ' Melton', 7.77, 1.74, 7.5, 8.04, 190.0, '', 0.72]\n",
      "['E07000134', ' North West Leicestershire', 7.5, 1.93, 7.21, 7.78, 300.0, '', 0.48]\n",
      "['E07000135', ' Oadby and Wigston', 7.42, 2.12, 7.11, 7.73, 200.0, '', 0.41]\n",
      "['E10000019', ' Lincolnshire', 7.45, 0.68, 7.35, 7.55, 2330.0, '', 0.44]\n",
      "['E07000136', ' Boston', 7.23, 2.71, 6.84, 7.62, 190.0, '', 0.24]\n",
      "['E07000137', ' East Lindsey', 7.34, 1.65, 7.11, 7.58, 470.0, '', 0.34]\n",
      "['E07000138', ' Lincoln', 7.23, 1.83, 6.97, 7.49, 280.0, '', 0.24]\n",
      "['E07000139', ' North Kesteven', 7.68, 1.77, 7.41, 7.95, 370.0, '', 0.64]\n",
      "['E07000140', ' South Holland', 7.36, 1.81, 7.09, 7.62, 280.0, '', 0.36]\n",
      "['E07000141', ' South Kesteven', 7.72, 1.36, 7.51, 7.92, 460.0, '', 0.68]\n",
      "['E07000142', ' West Lindsey', 7.46, 2.04, 7.16, 7.76, 290.0, '', 0.45]\n",
      "['E10000021', ' Northamptonshire', 7.39, 0.72, 7.28, 7.49, 2060.0, '', 0.38]\n",
      "['E07000150', ' Corby', 7.01, 2.38, 6.67, 7.34, 200.0, '', 0.04]\n",
      "['E07000151', ' Daventry', 7.46, 1.98, 7.17, 7.76, 200.0, '', 0.45]\n",
      "['E07000152', ' East Northamptonshire', 7.25, 2.33, 6.91, 7.59, 260.0, '', 0.26]\n",
      "['E07000153', ' Kettering', 7.31, 1.78, 7.05, 7.57, 280.0, '', 0.31]\n",
      "['E07000154', ' Northampton', 7.41, 1.34, 7.21, 7.61, 590.0, '', 0.4]\n",
      "['E07000155', ' South Northamptonshire', 7.86, 1.58, 7.62, 8.11, 310.0, '', 0.8]\n",
      "['E07000156', ' Wellingborough', 7.32, 2.51, 6.95, 7.68, 230.0, '', 0.32]\n",
      "['E10000024', ' Nottinghamshire', 7.38, 0.7, 7.28, 7.48, 2230.0, '', 0.38]\n",
      "['E07000170', ' Ashfield', 7.16, 1.86, 6.9, 7.42, 280.0, '', 0.18]\n",
      "['E07000171', ' Bassetlaw', 7.5, 1.81, 7.23, 7.77, 370.0, '', 0.48]\n",
      "['E07000172', ' Broxtowe', 7.38, 1.89, 7.11, 7.66, 300.0, '', 0.38]\n",
      "['E07000173', ' Gedling', 7.39, 1.66, 7.15, 7.64, 320.0, '', 0.38]\n",
      "['E07000174', ' Mansfield', 7.3, 2.25, 6.98, 7.63, 300.0, '', 0.3]\n",
      "['E07000175', ' Newark and Sherwood', 7.4, 1.92, 7.12, 7.68, 340.0, '', 0.39]\n",
      "['E07000176', ' Rushcliffe', 7.53, 1.55, 7.3, 7.77, 320.0, '', 0.51]\n",
      "['E12000005', 'West Midlands', 7.35, 0.24, 7.32, 7.39, 22820.0, '', 0.35]\n",
      "['E06000019', ' Herefordshire, County of', 7.49, 0.77, 7.37, 7.6, 1760.0, '', 0.47]\n",
      "['E06000051', ' Shropshire', 7.54, 0.84, 7.41, 7.66, 1570.0, '', 0.52]\n",
      "['E06000021', ' Stoke-on-Trent', 7.15, 1.07, 7.0, 7.3, 1240.0, '', 0.17]\n",
      "['E06000020', ' Telford and Wrekin', 7.26, 0.99, 7.11, 7.4, 1490.0, '', 0.27]\n",
      "['E10000028', ' Staffordshire', 7.41, 0.71, 7.31, 7.52, 2190.0, '', 0.4]\n",
      "['E07000192', ' Cannock Chase', 7.22, 2.4, 6.88, 7.56, 260.0, '', 0.23]\n",
      "['E07000193', ' East Staffordshire', 7.27, 2.08, 6.97, 7.57, 270.0, '', 0.28]\n",
      "['E07000194', ' Lichfield', 7.63, 2.06, 7.32, 7.95, 280.0, '', 0.6]\n",
      "['E07000195', ' Newcastle-under-Lyme', 7.26, 2.12, 6.96, 7.56, 310.0, '', 0.27]\n",
      "['E07000196', ' South Staffordshire', 7.43, 1.91, 7.15, 7.71, 310.0, '', 0.42]\n",
      "['E07000197', ' Stafford', 7.5, 1.58, 7.26, 7.73, 350.0, '', 0.48]\n",
      "['E07000198', ' Staffordshire Moorlands', 7.77, 1.67, 7.52, 8.03, 240.0, '', 0.72]\n",
      "['E07000199', ' Tamworth', 7.24, 2.3, 6.91, 7.57, 180.0, '', 0.25]\n",
      "['E10000031', ' Warwickshire', 7.52, 0.74, 7.41, 7.63, 1530.0, '', 0.5]\n",
      "['E07000218', ' North Warwickshire', 7.33, 2.05, 7.03, 7.63, 140.0, '', 0.33]\n",
      "['E07000219', ' Nuneaton and Bedworth', 7.38, 1.87, 7.11, 7.66, 320.0, '', 0.38]\n",
      "['E07000220', ' Rugby', 7.56, 1.56, 7.33, 7.8, 280.0, '', 0.54]\n",
      "['E07000221', ' Stratford-on-Avon', 7.73, 1.42, 7.52, 7.95, 380.0, '', 0.69]\n",
      "['E07000222', ' Warwick', 7.52, 1.38, 7.32, 7.73, 420.0, '', 0.5]\n",
      "['E08000025', ' Birmingham', 7.2, 0.75, 7.09, 7.3, 2170.0, '', 0.21]\n",
      "['E08000026', ' Coventry', 7.35, 0.76, 7.24, 7.46, 1400.0, '', 0.35]\n",
      "['E08000027', ' Dudley', 7.24, 0.95, 7.11, 7.38, 1540.0, '', 0.25]\n",
      "['E08000028', ' Sandwell', 7.36, 0.95, 7.22, 7.49, 1540.0, '', 0.36]\n",
      "['E08000029', ' Solihull', 7.45, 0.75, 7.34, 7.56, 1570.0, '', 0.44]\n",
      "['E08000030', ' Walsall', 7.47, 0.9, 7.33, 7.6, 1430.0, '', 0.46]\n",
      "['E08000031', ' Wolverhampton', 6.99, 0.79, 6.88, 7.1, 1690.0, '', 0.03]\n",
      "['E10000034', ' Worcestershire', 7.47, 0.77, 7.36, 7.59, 1700.0, '', 0.46]\n",
      "['E07000234', ' Bromsgrove', 7.43, 2.09, 7.12, 7.74, 260.0, '', 0.42]\n",
      "['E07000235', ' Malvern Hills', 7.6, 1.89, 7.31, 7.88, 240.0, '', 0.57]\n",
      "['E07000236', ' Redditch', 7.58, 1.89, 7.29, 7.86, 270.0, '', 0.55]\n",
      "['E07000237', ' Worcester', 7.38, 1.83, 7.11, 7.65, 280.0, '', 0.38]\n",
      "['E07000238', ' Wychavon', 7.51, 1.72, 7.25, 7.76, 380.0, '', 0.49]\n",
      "['E07000239', ' Wyre Forest', 7.4, 1.88, 7.12, 7.68, 280.0, '', 0.39]\n",
      "['E12000006', 'East', 7.43, 0.24, 7.39, 7.46, 20180.0, '', 0.42]\n",
      "['E06000055', ' Bedford', 7.33, 1.29, 7.14, 7.52, 530.0, '', 0.33]\n",
      "['E06000056', ' Central Bedfordshire', 7.49, 1.07, 7.33, 7.65, 880.0, '', 0.47]\n",
      "['E06000032', ' Luton', 7.31, 0.88, 7.19, 7.44, 1390.0, '', 0.31]\n",
      "['E06000031', ' Peterborough', 7.31, 0.95, 7.18, 7.45, 1300.0, '', 0.31]\n",
      "['E06000033', ' Southend-on-Sea', 7.39, 0.92, 7.25, 7.52, 1370.0, '', 0.38]\n",
      "['E06000034', ' Thurrock', 7.3, 0.96, 7.16, 7.44, 1250.0, '', 0.3]\n",
      "['E10000003', ' Cambridgeshire', 7.35, 0.81, 7.23, 7.46, 1870.0, '', 0.35]\n",
      "['E07000008', ' Cambridge', 7.24, 1.74, 6.99, 7.49, 330.0, '', 0.25]\n",
      "['E07000009', ' East Cambridgeshire', 7.77, 1.69, 7.51, 8.03, 280.0, '', 0.72]\n",
      "['E07000010', ' Fenland', 7.11, 2.7, 6.73, 7.49, 270.0, '', 0.13]\n",
      "['E07000011', ' Huntingdonshire', 7.37, 1.69, 7.13, 7.62, 510.0, '', 0.37]\n",
      "['E07000012', ' South Cambridgeshire', 7.34, 1.42, 7.14, 7.55, 490.0, '', 0.34]\n",
      "['E10000012', ' Essex', 7.41, 0.52, 7.34, 7.49, 3690.0, '', 0.4]\n",
      "['E07000066', ' Basildon', 7.28, 1.57, 7.06, 7.51, 400.0, '', 0.29]\n",
      "['E07000067', ' Braintree', 7.55, 1.4, 7.34, 7.76, 400.0, '', 0.53]\n",
      "['E07000068', ' Brentwood', 7.19, 2.59, 6.81, 7.56, 160.0, '', 0.21]\n",
      "['E07000069', ' Castle Point', 7.18, 2.37, 6.84, 7.52, 210.0, '', 0.2]\n",
      "['E07000070', ' Chelmsford', 7.58, 1.26, 7.39, 7.76, 510.0, '', 0.55]\n",
      "['E07000071', ' Colchester', 7.46, 1.42, 7.25, 7.67, 470.0, '', 0.45]\n",
      "['E07000072', ' Epping Forest', 7.45, 1.79, 7.19, 7.72, 310.0, '', 0.44]\n",
      "['E07000073', ' Harlow', 7.01, 2.74, 6.63, 7.4, 170.0, '', 0.04]\n",
      "['E07000074', ' Maldon', 7.57, 2.83, 7.14, 8.0, 210.0, '', 0.54]\n",
      "['E07000075', ' Rochford', 7.35, 2.11, 7.04, 7.66, 230.0, '', 0.35]\n",
      "['E07000076', ' Tendring', 7.43, 1.69, 7.19, 7.68, 390.0, '', 0.42]\n",
      "['E07000077', ' Uttlesford', 7.71, 1.61, 7.46, 7.95, 240.0, '', 0.67]\n",
      "['E10000015', ' Hertfordshire', 7.43, 0.58, 7.35, 7.52, 2930.0, '', 0.42]\n",
      "['E07000095', ' Broxbourne', 7.4, 2.35, 7.05, 7.75, 200.0, '', 0.39]\n",
      "['E07000096', ' Dacorum', 7.44, 1.5, 7.22, 7.66, 380.0, '', 0.43]\n",
      "['E07000242', ' East Hertfordshire', 7.49, 1.47, 7.27, 7.71, 370.0, '', 0.47]\n",
      "['E07000098', ' Hertsmere', 7.54, 2.02, 7.23, 7.84, 250.0, '', 0.52]\n",
      "['E07000099', ' North Hertfordshire', 7.51, 1.4, 7.3, 7.72, 370.0, '', 0.49]\n",
      "['E07000240', ' St Albans', 7.24, 1.78, 6.98, 7.49, 390.0, '', 0.25]\n",
      "['E07000243', ' Stevenage', 7.45, 1.96, 7.16, 7.74, 240.0, '', 0.44]\n",
      "['E07000102', ' Three Rivers', 7.58, 1.84, 7.31, 7.86, 250.0, '', 0.55]\n",
      "['E07000103', ' Watford', 7.4, 2.19, 7.08, 7.72, 220.0, '', 0.39]\n",
      "['E07000241', ' Welwyn Hatfield', 7.35, 2.14, 7.04, 7.66, 270.0, '', 0.35]\n",
      "['E10000020', ' Norfolk', 7.53, 0.65, 7.43, 7.62, 2700.0, '', 0.51]\n",
      "['E07000143', ' Breckland', 7.62, 1.21, 7.44, 7.8, 460.0, '', 0.59]\n",
      "['E07000144', ' Broadland', 7.53, 1.47, 7.32, 7.75, 400.0, '', 0.51]\n",
      "['E07000145', ' Great Yarmouth', 7.49, 2.18, 7.16, 7.81, 270.0, '', 0.47]\n",
      "['E07000146', ' Kings Lynn and West Norfolk', 7.43, 1.71, 7.17, 7.68, 450.0, '', 0.42]\n",
      "['E07000147', ' North Norfolk', 7.42, 1.94, 7.14, 7.71, 320.0, '', 0.41]\n",
      "['E07000148', ' Norwich', 7.48, 1.85, 7.21, 7.76, 400.0, '', 0.46]\n",
      "['E07000149', ' South Norfolk', 7.7, 1.45, 7.48, 7.92, 400.0, '', 0.66]\n",
      "['E10000029', ' Suffolk', 7.48, 0.69, 7.38, 7.58, 2290.0, '', 0.46]\n",
      "['E07000200', ' Babergh', 7.72, 2.05, 7.41, 8.04, 270.0, '', 0.68]\n",
      "['E07000201', ' Forest Heath', 7.39, 2.78, 6.98, 7.81, 160.0, '', 0.38]\n",
      "['E07000202', ' Ipswich', 7.38, 1.63, 7.14, 7.62, 440.0, '', 0.38]\n",
      "['E07000203', ' Mid Suffolk', 7.58, 1.65, 7.34, 7.83, 310.0, '', 0.55]\n",
      "['E07000204', ' St Edmundsbury', 7.53, 1.57, 7.29, 7.76, 350.0, '', 0.51]\n",
      "['E07000205', ' Suffolk Coastal', 7.4, 1.78, 7.14, 7.66, 410.0, '', 0.39]\n",
      "['E07000206', ' Waveney', 7.44, 1.66, 7.2, 7.68, 350.0, '', 0.43]\n",
      "['E12000007', 'London', 7.31, 0.2, 7.28, 7.34, 25840.0, '', 0.31]\n",
      "['E09000007', ' Camden', 7.21, 1.07, 7.06, 7.36, 800.0, '', 0.22]\n",
      "['E09000012', ' Hackney', 7.08, 1.19, 6.91, 7.24, 740.0, '', 0.11]\n",
      "['E09000013', ' Hammersmith and Fulham', 7.17, 1.2, 7.0, 7.34, 840.0, '', 0.19]\n",
      "['E09000014', ' Haringey', 7.28, 1.2, 7.11, 7.45, 740.0, '', 0.29]\n",
      "['E09000019', ' Islington', 7.04, 1.37, 6.85, 7.23, 650.0, '', 0.07]\n",
      "['E09000020', ' Kensington and Chelsea', 7.56, 0.96, 7.42, 7.7, 970.0, '', 0.54]\n",
      "['E09000022', ' Lambeth', 7.21, 1.2, 7.04, 7.38, 670.0, '', 0.22]\n",
      "['E09000023', ' Lewisham', 7.3, 1.13, 7.14, 7.47, 800.0, '', 0.3]\n",
      "['E09000025', ' Newham', 7.43, 1.15, 7.26, 7.6, 830.0, '', 0.42]\n",
      "['E09000028', ' Southwark', 7.34, 1.05, 7.19, 7.49, 900.0, '', 0.34]\n",
      "['E09000030', ' Tower Hamlets', 7.37, 1.07, 7.22, 7.53, 810.0, '', 0.37]\n",
      "['E09000032', ' Wandsworth', 7.36, 1.05, 7.21, 7.51, 710.0, '', 0.36]\n",
      "['E09000033', ' Westminster', 7.21, 1.04, 7.06, 7.36, 930.0, '', 0.22]\n",
      "['E09000002', ' Barking and Dagenham', 7.22, 1.38, 7.02, 7.42, 790.0, '', 0.23]\n",
      "['E09000003', ' Barnet', 7.42, 1.04, 7.27, 7.58, 770.0, '', 0.41]\n",
      "['E09000004', ' Bexley', 7.24, 1.16, 7.08, 7.41, 780.0, '', 0.25]\n",
      "['E09000005', ' Brent', 7.31, 0.96, 7.17, 7.45, 1060.0, '', 0.31]\n",
      "['E09000006', ' Bromley', 7.48, 0.95, 7.34, 7.62, 1040.0, '', 0.46]\n",
      "['E09000008', ' Croydon', 7.18, 1.32, 6.99, 7.37, 770.0, '', 0.2]\n",
      "['E09000009', ' Ealing', 7.45, 1.04, 7.3, 7.61, 850.0, '', 0.44]\n",
      "['E09000010', ' Enfield', 7.42, 0.86, 7.3, 7.55, 820.0, '', 0.41]\n",
      "['E09000011', ' Greenwich', 7.24, 1.24, 7.06, 7.41, 800.0, '', 0.25]\n",
      "['E09000015', ' Harrow', 7.39, 0.87, 7.26, 7.51, 990.0, '', 0.38]\n",
      "['E09000016', ' Havering', 7.13, 1.23, 6.95, 7.3, 760.0, '', 0.15]\n",
      "['E09000017', ' Hillingdon', 7.25, 1.28, 7.07, 7.43, 770.0, '', 0.26]\n",
      "['E09000018', ' Hounslow', 7.4, 1.25, 7.22, 7.58, 800.0, '', 0.39]\n",
      "['E09000021', ' Kingston upon Thames', 7.5, 1.17, 7.33, 7.67, 720.0, '', 0.48]\n",
      "['E09000024', ' Merton', 7.29, 1.3, 7.11, 7.48, 750.0, '', 0.29]\n",
      "['E09000026', ' Redbridge', 7.33, 1.17, 7.16, 7.5, 880.0, '', 0.33]\n",
      "['E09000027', ' Richmond upon Thames', 7.43, 1.01, 7.28, 7.58, 770.0, '', 0.42]\n",
      "['E09000029', ' Sutton', 7.35, 1.24, 7.17, 7.52, 640.0, '', 0.35]\n",
      "['E09000031', ' Waltham Forest', 7.24, 1.23, 7.06, 7.41, 690.0, '', 0.25]\n",
      "['E12000008', 'South East', 7.45, 0.19, 7.42, 7.48, 36310.0, '', 0.44]\n",
      "['E06000036', ' Bracknell Forest', 7.28, 0.88, 7.16, 7.41, 1430.0, '', 0.29]\n",
      "['E06000043', ' Brighton and Hove', 7.29, 0.85, 7.17, 7.41, 1630.0, '', 0.29]\n",
      "['E06000046', ' Isle of Wight', 7.59, 0.7, 7.48, 7.69, 2040.0, '', 0.56]\n",
      "['E06000035', ' Medway', 7.3, 0.87, 7.18, 7.43, 1570.0, '', 0.3]\n",
      "['E06000042', ' Milton Keynes', 7.32, 0.87, 7.19, 7.44, 1540.0, '', 0.32]\n",
      "['E06000044', ' Portsmouth', 7.44, 0.83, 7.31, 7.56, 1540.0, '', 0.43]\n",
      "['E06000038', ' Reading', 7.44, 0.76, 7.33, 7.55, 1480.0, '', 0.43]\n",
      "['E06000039', ' Slough', 7.13, 1.15, 6.97, 7.29, 1290.0, '', 0.15]\n",
      "['E06000045', ' Southampton', 7.39, 0.86, 7.27, 7.52, 1530.0, '', 0.38]\n",
      "['E06000037', ' West Berkshire', 7.51, 0.84, 7.39, 7.63, 1380.0, '', 0.49]\n",
      "['E06000040', ' Windsor and Maidenhead', 7.47, 0.76, 7.36, 7.58, 1450.0, '', 0.46]\n",
      "['E06000041', ' Wokingham', 7.57, 0.79, 7.45, 7.69, 1260.0, '', 0.54]\n",
      "['E10000002', ' Buckinghamshire', 7.44, 0.74, 7.33, 7.54, 1690.0, '', 0.43]\n",
      "['E07000004', ' Aylesbury Vale', 7.39, 1.32, 7.2, 7.58, 600.0, '', 0.38]\n",
      "['E07000005', ' Chiltern', 7.66, 1.63, 7.42, 7.91, 330.0, '', 0.63]\n",
      "['E07000006', ' South Bucks', 7.67, 2.08, 7.35, 7.98, 220.0, '', 0.63]\n",
      "['E07000007', ' Wycombe', 7.28, 1.26, 7.1, 7.46, 540.0, '', 0.29]\n",
      "['E10000011', ' East Sussex', 7.4, 0.8, 7.29, 7.52, 1870.0, '', 0.39]\n",
      "['E07000061', ' Eastbourne', 7.29, 2.16, 6.98, 7.6, 350.0, '', 0.29]\n",
      "['E07000062', ' Hastings', 7.26, 2.16, 6.95, 7.58, 260.0, '', 0.27]\n",
      "['E07000063', ' Lewes', 7.63, 1.64, 7.38, 7.88, 360.0, '', 0.6]\n",
      "['E07000064', ' Rother', 7.53, 1.65, 7.28, 7.78, 330.0, '', 0.51]\n",
      "['E07000065', ' Wealden', 7.35, 1.46, 7.14, 7.56, 570.0, '', 0.35]\n",
      "['E10000014', ' Hampshire', 7.56, 0.5, 7.49, 7.63, 3700.0, '', 0.54]\n",
      "['E07000084', ' Basingstoke and Deane', 7.3, 1.39, 7.1, 7.5, 480.0, '', 0.3]\n",
      "['E07000085', ' East Hampshire', 7.3, 1.87, 7.03, 7.57, 340.0, '', 0.3]\n",
      "['E07000086', ' Eastleigh', 7.64, 1.49, 7.42, 7.87, 320.0, '', 0.61]\n",
      "['E07000087', ' Fareham', 7.59, 1.6, 7.35, 7.83, 300.0, '', 0.56]\n",
      "['E07000088', ' Gosport', 7.44, 1.74, 7.18, 7.69, 210.0, '', 0.43]\n",
      "['E07000089', ' Hart', 8.03, 1.56, 7.78, 8.28, 240.0, '', 0.96]\n",
      "['E07000090', ' Havant', 7.45, 1.95, 7.16, 7.74, 350.0, '', 0.44]\n",
      "['E07000091', ' New Forest', 7.75, 1.27, 7.56, 7.95, 550.0, '', 0.71]\n",
      "['E07000092', ' Rushmoor', 7.51, 2.24, 7.18, 7.84, 240.0, '', 0.49]\n",
      "['E07000093', ' Test Valley', 7.54, 1.75, 7.28, 7.8, 340.0, '', 0.52]\n",
      "['E07000094', ' Winchester', 7.72, 1.5, 7.49, 7.94, 330.0, '', 0.68]\n",
      "['E10000016', ' Kent', 7.39, 0.59, 7.3, 7.48, 3820.0, '', 0.38]\n",
      "['E07000105', ' Ashford', 7.45, 1.66, 7.21, 7.7, 380.0, '', 0.44]\n",
      "['E07000106', ' Canterbury', 7.22, 2.14, 6.91, 7.52, 400.0, '', 0.23]\n",
      "['E07000107', ' Dartford', 7.51, 2.36, 7.16, 7.87, 210.0, '', 0.49]\n",
      "['E07000108', ' Dover', 7.18, 2.3, 6.86, 7.51, 310.0, '', 0.2]\n",
      "['E07000109', ' Gravesham', 7.38, 2.46, 7.02, 7.74, 210.0, '', 0.38]\n",
      "['E07000110', ' Maidstone', 7.6, 1.47, 7.38, 7.82, 400.0, '', 0.57]\n",
      "['E07000111', ' Sevenoaks', 7.47, 2.13, 7.16, 7.79, 280.0, '', 0.46]\n",
      "['E07000112', ' Shepway', 7.45, 1.81, 7.19, 7.72, 320.0, '', 0.44]\n",
      "['E07000113', ' Swale', 7.29, 1.84, 7.02, 7.55, 400.0, '', 0.29]\n",
      "['E07000114', ' Thanet', 7.4, 2.08, 7.09, 7.7, 330.0, '', 0.39]\n",
      "['E07000115', ' Tonbridge and Malling', 7.45, 2.28, 7.11, 7.79, 280.0, '', 0.44]\n",
      "['E07000116', ' Tunbridge Wells', 7.34, 1.86, 7.07, 7.61, 290.0, '', 0.34]\n",
      "['E10000025', ' Oxfordshire', 7.42, 0.71, 7.31, 7.52, 1800.0, '', 0.41]\n",
      "['E07000177', ' Cherwell', 7.52, 1.6, 7.29, 7.76, 370.0, '', 0.5]\n",
      "['E07000178', ' Oxford', 7.27, 1.59, 7.04, 7.5, 330.0, '', 0.28]\n",
      "['E07000179', ' South Oxfordshire', 7.49, 1.62, 7.25, 7.73, 420.0, '', 0.47]\n",
      "['E07000180', ' Vale of White Horse', 7.47, 1.46, 7.25, 7.68, 380.0, '', 0.46]\n",
      "['E07000181', ' West Oxfordshire', 7.38, 1.58, 7.15, 7.61, 300.0, '', 0.38]\n",
      "['E10000030', ' Surrey', 7.51, 0.53, 7.43, 7.59, 3060.0, '', 0.49]\n",
      "['E07000207', ' Elmbridge', 7.52, 1.51, 7.3, 7.75, 360.0, '', 0.5]\n",
      "['E07000208', ' Epsom and Ewell', 7.63, 1.86, 7.35, 7.92, 180.0, '', 0.6]\n",
      "['E07000209', ' Guildford', 7.37, 1.75, 7.12, 7.63, 340.0, '', 0.37]\n",
      "['E07000210', ' Mole Valley', 7.63, 1.8, 7.36, 7.91, 260.0, '', 0.6]\n",
      "['E07000211', ' Reigate and Banstead', 7.6, 1.61, 7.35, 7.84, 320.0, '', 0.57]\n",
      "['E07000212', ' Runnymede', 7.31, 2.46, 6.95, 7.67, 220.0, '', 0.31]\n",
      "['E07000213', ' Spelthorne', 7.47, 1.64, 7.23, 7.71, 290.0, '', 0.46]\n",
      "['E07000214', ' Surrey Heath', 7.48, 1.79, 7.21, 7.74, 270.0, '', 0.46]\n",
      "['E07000215', ' Tandridge', 7.59, 1.71, 7.33, 7.85, 210.0, '', 0.56]\n",
      "['E07000216', ' Waverley', 7.64, 1.38, 7.44, 7.85, 360.0, '', 0.61]\n",
      "['E07000217', ' Woking', 7.41, 1.88, 7.14, 7.69, 250.0, '', 0.4]\n",
      "['E10000032', ' West Sussex', 7.55, 0.66, 7.45, 7.64, 2250.0, '', 0.53]\n",
      "['E07000223', ' Adur', 7.52, 2.56, 7.13, 7.9, 150.0, '', 0.5]\n",
      "['E07000224', ' Arun', 7.6, 1.38, 7.39, 7.8, 400.0, '', 0.57]\n",
      "['E07000225', ' Chichester', 7.63, 1.62, 7.39, 7.88, 330.0, '', 0.6]\n",
      "['E07000226', ' Crawley', 7.42, 2.15, 7.1, 7.73, 270.0, '', 0.41]\n",
      "['E07000227', ' Horsham', 7.55, 1.54, 7.32, 7.78, 420.0, '', 0.53]\n",
      "['E07000228', ' Mid Sussex', 7.63, 1.58, 7.39, 7.87, 390.0, '', 0.6]\n",
      "['E07000229', ' Worthing', 7.42, 1.94, 7.14, 7.71, 280.0, '', 0.41]\n",
      "['E12000009', 'South West', 7.42, 0.22, 7.39, 7.45, 24850.0, '', 0.41]\n",
      "['E06000022', ' Bath and North East Somerset', 7.54, 0.75, 7.43, 7.65, 1630.0, '', 0.52]\n",
      "['E06000028', ' Bournemouth', 7.27, 0.82, 7.15, 7.39, 1660.0, '', 0.28]\n",
      "['E06000023', ' Bristol, City of', 7.17, 0.92, 7.04, 7.3, 1350.0, '', 0.19]\n",
      "['E06000052', ' Cornwall', 7.5, 0.78, 7.39, 7.61, 1890.0, '', 0.48]\n",
      "['E06000024', ' North Somerset', 7.44, 0.82, 7.32, 7.56, 1330.0, '', 0.43]\n",
      "['E06000026', ' Plymouth', 7.32, 0.89, 7.19, 7.45, 1890.0, '', 0.32]\n",
      "['E06000029', ' Poole', 7.38, 0.8, 7.26, 7.49, 1490.0, '', 0.38]\n",
      "['E06000025', ' South Gloucestershire', 7.44, 0.85, 7.31, 7.56, 1260.0, '', 0.43]\n",
      "['E06000030', ' Swindon', 7.35, 0.91, 7.22, 7.49, 1410.0, '', 0.35]\n",
      "['E06000027', ' Torbay', 7.36, 0.78, 7.25, 7.47, 1710.0, '', 0.36]\n",
      "['E06000054', ' Wiltshire', 7.5, 0.73, 7.39, 7.61, 1840.0, '', 0.48]\n",
      "['E10000008', ' Devon', 7.47, 0.67, 7.37, 7.57, 2140.0, '', 0.46]\n",
      "['E07000040', ' East Devon', 7.84, 1.4, 7.62, 8.06, 340.0, '', 0.79]\n",
      "['E07000041', ' Exeter', 7.24, 2.0, 6.95, 7.53, 270.0, '', 0.25]\n",
      "['E07000042', ' Mid Devon', 7.38, 2.0, 7.08, 7.67, 220.0, '', 0.38]\n",
      "['E07000043', ' North Devon', 7.56, 1.82, 7.29, 7.83, 270.0, '', 0.54]\n",
      "['E07000044', ' South Hams', 7.44, 1.78, 7.18, 7.7, 300.0, '', 0.43]\n",
      "['E07000045', ' Teignbridge', 7.44, 1.59, 7.21, 7.68, 400.0, '', 0.43]\n",
      "['E07000046', ' Torridge', 7.53, 2.43, 7.17, 7.9, 180.0, '', 0.51]\n",
      "['E07000047', ' West Devon', 7.19, 2.38, 6.85, 7.54, 170.0, '', 0.21]\n",
      "['E10000009', ' Dorset', 7.56, 0.72, 7.45, 7.67, 1840.0, '', 0.54]\n",
      "['E07000048', ' Christchurch', 7.17, 2.54, 6.81, 7.53, 230.0, '', 0.19]\n",
      "['E07000049', ' East Dorset', 7.39, 1.61, 7.15, 7.62, 390.0, '', 0.38]\n",
      "['E07000050', ' North Dorset', 7.93, 1.43, 7.71, 8.16, 300.0, '', 0.87]\n",
      "['E07000051', ' Purbeck', 7.51, 2.38, 7.15, 7.86, 210.0, '', 0.49]\n",
      "['E07000052', ' West Dorset', 7.66, 1.38, 7.45, 7.86, 430.0, '', 0.63]\n",
      "['E07000053', ' Weymouth and Portland', 7.58, 1.79, 7.32, 7.85, 280.0, '', 0.55]\n",
      "['E10000013', ' Gloucestershire', 7.39, 0.76, 7.28, 7.5, 1760.0, '', 0.38]\n",
      "['E07000078', ' Cheltenham', 7.42, 1.86, 7.15, 7.69, 340.0, '', 0.41]\n",
      "['E07000079', ' Cotswold', 7.75, 1.81, 7.47, 8.02, 270.0, '', 0.71]\n",
      "['E07000080', ' Forest of Dean', 7.34, 1.95, 7.05, 7.62, 240.0, '', 0.34]\n",
      "['E07000081', ' Gloucester', 7.24, 1.79, 6.98, 7.49, 330.0, '', 0.25]\n",
      "['E07000082', ' Stroud', 7.23, 1.96, 6.95, 7.51, 310.0, '', 0.24]\n",
      "['E07000083', ' Tewkesbury', 7.47, 1.64, 7.23, 7.72, 280.0, '', 0.46]\n",
      "['E10000027', ' Somerset', 7.42, 0.83, 7.3, 7.54, 1660.0, '', 0.41]\n",
      "['E07000187', ' Mendip', 7.43, 1.94, 7.15, 7.72, 350.0, '', 0.42]\n",
      "['E07000188', ' Sedgemoor', 7.32, 1.89, 7.04, 7.59, 350.0, '', 0.32]\n",
      "['E07000189', ' South Somerset', 7.42, 1.45, 7.21, 7.64, 520.0, '', 0.41]\n",
      "['E07000190', ' Taunton Deane', 7.41, 1.71, 7.15, 7.66, 320.0, '', 0.4]\n",
      "['E07000191', ' West Somerset', 7.77, 2.8, 7.33, 8.2, 120.0, '', 0.72]\n",
      "['W92000004', 'Wales', 7.4, 0.21, 7.37, 7.43, 32120.0, '', 0.39]\n",
      "['W06000001', ' Isle of Anglesey', 7.61, 0.85, 7.49, 7.74, 1520.0, '', 0.58]\n",
      "['W06000002', ' Gwynedd', 7.54, 0.76, 7.42, 7.65, 1410.0, '', 0.52]\n",
      "['W06000003', ' Conwy', 7.56, 0.77, 7.44, 7.67, 1730.0, '', 0.54]\n",
      "['W06000004', ' Denbighshire', 7.47, 0.78, 7.36, 7.59, 1570.0, '', 0.46]\n",
      "['W06000005', ' Flintshire', 7.5, 0.78, 7.39, 7.62, 1450.0, '', 0.48]\n",
      "['W06000006', ' Wrexham', 7.49, 0.89, 7.36, 7.62, 1430.0, '', 0.47]\n",
      "['W06000023', ' Powys', 7.5, 0.88, 7.37, 7.63, 1530.0, '', 0.48]\n",
      "['W06000008', ' Ceredigion', 7.57, 0.85, 7.45, 7.7, 1330.0, '', 0.54]\n",
      "['W06000009', ' Pembrokeshire', 7.49, 0.86, 7.36, 7.62, 1440.0, '', 0.47]\n",
      "['W06000010', ' Carmarthenshire', 7.37, 0.88, 7.24, 7.5, 1530.0, '', 0.37]\n",
      "['W06000011', ' Swansea', 7.31, 0.93, 7.18, 7.45, 1660.0, '', 0.31]\n",
      "['W06000012', ' Neath Port Talbot', 7.4, 0.86, 7.27, 7.52, 1490.0, '', 0.39]\n",
      "['W06000013', ' Bridgend', 7.42, 0.87, 7.29, 7.55, 1390.0, '', 0.41]\n",
      "['W06000014', ' Vale of Glamorgan', 7.31, 0.88, 7.18, 7.44, 1540.0, '', 0.31]\n",
      "['W06000015', ' Cardiff', 7.37, 0.85, 7.25, 7.49, 1660.0, '', 0.37]\n",
      "['W06000016', ' Rhondda Cynon Taf', 7.33, 0.92, 7.19, 7.46, 1510.0, '', 0.33]\n",
      "['W06000024', ' Merthyr Tydfil', 7.25, 1.2, 7.08, 7.42, 970.0, '', 0.26]\n",
      "['W06000018', ' Caerphilly', 7.27, 1.01, 7.12, 7.41, 1540.0, '', 0.28]\n",
      "['W06000019', ' Blaenau Gwent', 7.23, 1.2, 7.06, 7.4, 1110.0, '', 0.24]\n",
      "['W06000020', ' Torfaen', 7.34, 1.0, 7.19, 7.48, 1440.0, '', 0.34]\n",
      "['W06000021', ' Monmouthshire', 7.58, 0.78, 7.46, 7.7, 1560.0, '', 0.55]\n",
      "['W06000022', ' Newport', 7.22, 1.17, 7.05, 7.39, 1300.0, '', 0.23]\n",
      "['S92000003', 'Scotland', 7.41, 0.19, 7.38, 7.44, 39770.0, '', 0.4]\n",
      "['S12000033', ' Aberdeen City', 7.46, 0.84, 7.34, 7.59, 1330.0, '', 0.45]\n",
      "['S12000034', ' Aberdeenshire', 7.45, 0.97, 7.31, 7.59, 1180.0, '', 0.44]\n",
      "['S12000041', ' Angus', 7.49, 0.96, 7.35, 7.63, 1230.0, '', 0.47]\n",
      "['S12000035', ' Argyll and Bute', 7.58, 0.77, 7.47, 7.7, 1470.0, '', 0.55]\n",
      "['S12000036', ' City of Edinburgh', 7.58, 0.65, 7.48, 7.67, 1580.0, '', 0.55]\n",
      "['S12000005', ' Clackmannanshire', 7.44, 1.46, 7.23, 7.65, 510.0, '', 0.43]\n",
      "['S12000006', ' Dumfries and Galloway', 7.65, 0.78, 7.53, 7.77, 1720.0, '', 0.62]\n",
      "['S12000042', ' Dundee City', 7.22, 0.94, 7.08, 7.35, 1560.0, '', 0.23]\n",
      "['S12000008', ' East Ayrshire', 7.3, 1.0, 7.15, 7.44, 1350.0, '', 0.3]\n",
      "['S12000045', ' East Dunbartonshire', 7.53, 0.81, 7.41, 7.65, 1230.0, '', 0.51]\n",
      "['S12000010', ' East Lothian', 7.38, 0.89, 7.25, 7.51, 1130.0, '', 0.38]\n",
      "['S12000011', ' East Renfrewshire', 7.38, 0.89, 7.25, 7.51, 1150.0, '', 0.38]\n",
      "['S12000014', ' Falkirk', 7.52, 0.71, 7.41, 7.62, 1460.0, '', 0.5]\n",
      "['S12000015', ' Fife', 7.3, 0.94, 7.17, 7.44, 1570.0, '', 0.3]\n",
      "['S12000046', ' Glasgow City', 7.13, 0.88, 7.0, 7.25, 1520.0, '', 0.15]\n",
      "['S12000017', ' Highland', 7.82, 0.76, 7.7, 7.94, 1430.0, '', 0.77]\n",
      "['S12000018', ' Inverclyde', 7.21, 1.01, 7.06, 7.35, 1220.0, '', 0.22]\n",
      "['S12000019', ' Midlothian', 7.39, 1.07, 7.24, 7.55, 950.0, '', 0.38]\n",
      "['S12000020', ' Moray', 7.18, 0.9, 7.06, 7.31, 1330.0, '', 0.2]\n",
      "['S12000013', ' Eilean Siar', 8.08, 1.46, 7.84, 8.31, 380.0, '', 1.0]\n",
      "['S12000021', ' North Ayrshire', 7.32, 0.94, 7.18, 7.45, 1480.0, '', 0.32]\n",
      "['S12000044', ' North Lanarkshire', 7.19, 0.92, 7.06, 7.32, 1580.0, '', 0.21]\n",
      "['S12000023', ' Orkney Islands', 8.05, 1.35, 7.83, 8.26, 300.0, '', 0.97]\n",
      "['S12000024', ' Perth and Kinross', 7.62, 0.75, 7.51, 7.73, 1450.0, '', 0.59]\n",
      "['S12000038', ' Renfrewshire', 7.36, 0.94, 7.23, 7.5, 1410.0, '', 0.36]\n",
      "['S12000026', ' Scottish Borders', 7.58, 0.85, 7.45, 7.71, 1480.0, '', 0.55]\n",
      "['S12000027', ' Shetland Islands', 7.78, 1.84, 7.5, 8.07, 250.0, '', 0.73]\n",
      "['S12000028', ' South Ayrshire', 7.43, 0.91, 7.3, 7.56, 1410.0, '', 0.42]\n",
      "['S12000029', ' South Lanarkshire', 7.41, 0.82, 7.29, 7.53, 1510.0, '', 0.4]\n",
      "['S12000030', ' Stirling', 7.49, 0.94, 7.36, 7.63, 1030.0, '', 0.47]\n",
      "['S12000039', ' West Dunbartonshire', 7.28, 0.94, 7.14, 7.41, 1310.0, '', 0.29]\n",
      "['S12000040', ' West Lothian', 7.53, 0.82, 7.4, 7.65, 1280.0, '', 0.51]\n",
      "['N92000002', 'Northern Ireland4', 7.58, 0.41, 7.52, 7.64, 5980.0, '', 0.55]\n",
      "['N09000001', 'Antrim and Newtownabbey', 7.87, 1.35, 7.66, 8.08, 400.0, '', 0.81]\n",
      "['N09000002', 'Armagh, Banbridge and Craigavon', 7.69, 1.31, 7.49, 7.89, 650.0, '', 0.65]\n",
      "['N09000003', 'Belfast', 7.28, 0.96, 7.15, 7.42, 1120.0, '', 0.29]\n",
      "['N09000004', 'Causeway Coast and Glens', 7.68, 1.68, 7.43, 7.93, 450.0, '', 0.64]\n",
      "['N09000005', 'Derry and Strabane', 7.1, 1.77, 6.86, 7.35, 460.0, '', 0.13]\n",
      "['N09000006', 'Fermanagh and Omagh', 7.94, 1.47, 7.71, 8.17, 380.0, '', 0.88]\n",
      "['N09000007', 'Lisburn and Castlereagh', 7.88, 1.19, 7.69, 8.06, 440.0, '', 0.82]\n",
      "['N09000008', 'Mid and East Antrim', 7.77, 1.63, 7.52, 8.02, 500.0, '', 0.72]\n",
      "['N09000009', 'Mid Ulster', 7.57, 1.49, 7.35, 7.8, 470.0, '', 0.54]\n",
      "['N09000010', 'Newry, Mourne and Down', 7.59, 1.13, 7.42, 7.76, 620.0, '', 0.56]\n",
      "['N09000011', 'North Down and Ards', 7.46, 1.44, 7.25, 7.67, 510.0, '', 0.45]\n",
      "['', '', '', '', '', '', '', '', '']\n",
      "['mean', '', 7.42, '', '', '', '', '', '']\n",
      "['SD', '', 0.17, '', '', '', '', '', '']\n",
      "['min', '', 6.96, '', '', '', '', '', '']\n",
      "['max', '', 8.08, '', '', '', '', '', '']\n",
      "['', '', '', '', '', '', '', '', '']\n",
      "['', '', '', '', '', '', '', '', '']\n",
      "['', '', '', '', '', '', '', '', '']\n",
      "['', '', '', '', '', '', '', '', '']\n",
      "[\"1 Question: Overall, how happy did you feel yesterday?  Where 0 is 'not at all happy' and 10 is 'completely happy'.\", '', '', '', '', '', '', '', '']\n",
      "['2 Please note that this table excludes Metropolitan Counties. ', '', '', '', '', '', '', '', '']\n",
      "['3 Estimates may not add to 100% due to rounding.', '', '', '', '', '', '', '', '']\n",
      "['4 Northern Ireland reformed its local government boundaries in April 2015. Estimates have been provided by the 11 newly created boundaries. For more information see http://www.doeni.gov.uk/local_government_reform', '', '', '', '', '', '', '', '']\n",
      "['5 Comparisons between areas must be done so with caution as these estimates are provided from Annual Population Survey, a sample survey. As such confidence intervals are produced to present the sampling variability.', '', '', '', '', '', '', '', '']\n",
      "['# Data unavailable.', '', '', '', '', '', '', '', '']\n",
      "['x Data has been suppressed as the CV> 20% or unavailable, or the sample size is insufficient.', '', '', '', '', '', '', '', '']\n",
      "['', '', '', '', '', '', '', '', '']\n",
      "[\"The colour coding reflects an estimate's co-efficient of variation (CV), which indicates the quality of a figure; the smaller the CV value, the higher the quality. \", '', '', '', '', '', '', '', '']\n",
      "['', '', '', '', '', '', '', '', '']\n",
      "['', '', '', '', '', '', '', '', '']\n",
      "['Source: April 2012 to March 2015, Annual Population Survey Personal Well-being 3-year National Statistics dataset, ONS. For more information on the 3-year dataset please see the user guide.  ', '', '', '', '', '', '', '', '']\n",
      "['', '', '', '', '', '', '', '', '']\n",
      "['http://www.ons.gov.uk/ons/guide-method/method-quality/specific/social-and-welfare-methodology/subjective-wellbeing-survey-user-guide/index.html', '', '', '', '', '', '', '', '']\n",
      "['', '', '', '', '', '', '', '', '']\n",
      "['Main table contents', '', '', '', '', '', '', '', '']\n"
     ]
    }
   ],
   "source": [
    "for i in range(happiness_sheet.nrows):\n",
    "    print(happiness_sheet.row_values(i))"
   ]
  },
  {
   "cell_type": "code",
   "execution_count": 44,
   "metadata": {},
   "outputs": [
    {
     "data": {
      "text/plain": [
       "<pymongo.results.InsertManyResult at 0x7fce03db6900>"
      ]
     },
     "execution_count": 44,
     "metadata": {},
     "output_type": "execute_result"
    }
   ],
   "source": [
    "db.drop_collection('happinessRank')\n",
    "hl=list()\n",
    "for i in range(6,happiness_sheet.nrows):\n",
    "    row4 = happiness_sheet.row_values(i)\n",
    "    if row4[6]!= '':\n",
    "        if row4[1][0] == ' ':\n",
    "            row4[1] = row4[1][1:]\n",
    "        dic5 = {'city_name':row4[1],'Average happiness rating':row4[2],'Sample size':row4[6],'Normalized value of happiness ranking':row4[8]}\n",
    "        hl.append(dic5)\n",
    "happinessCollection.insert_many(hl)"
   ]
  },
  {
   "cell_type": "code",
   "execution_count": 45,
   "metadata": {},
   "outputs": [
    {
     "data": {
      "text/plain": [
       "430"
      ]
     },
     "execution_count": 45,
     "metadata": {},
     "output_type": "execute_result"
    }
   ],
   "source": [
    "happinessCollection.count()"
   ]
  }
 ],
 "metadata": {
  "kernelspec": {
   "display_name": "Python [conda root]",
   "language": "python",
   "name": "conda-root-py"
  },
  "language_info": {
   "codemirror_mode": {
    "name": "ipython",
    "version": 3
   },
   "file_extension": ".py",
   "mimetype": "text/x-python",
   "name": "python",
   "nbconvert_exporter": "python",
   "pygments_lexer": "ipython3",
   "version": "3.6.1"
  }
 },
 "nbformat": 4,
 "nbformat_minor": 2
}

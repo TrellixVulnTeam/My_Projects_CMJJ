{
 "cells": [
  {
   "cell_type": "code",
   "execution_count": 64,
   "metadata": {},
   "outputs": [
    {
     "data": {
      "text/plain": [
       "['admin', 'data_diggers', 'enron', 'local']"
      ]
     },
     "execution_count": 64,
     "metadata": {},
     "output_type": "execute_result"
    }
   ],
   "source": [
    "from pymongo import MongoClient\n",
    "client = MongoClient('mongodb://localhost:27017')\n",
    "client.database_names()"
   ]
  },
  {
   "cell_type": "markdown",
   "metadata": {},
   "source": [
    "# merge all of the dataset to one"
   ]
  },
  {
   "cell_type": "code",
   "execution_count": 65,
   "metadata": {},
   "outputs": [
    {
     "data": {
      "text/plain": [
       "1742"
      ]
     },
     "execution_count": 65,
     "metadata": {},
     "output_type": "execute_result"
    }
   ],
   "source": [
    "import json\n",
    "with open('../cities.json', 'r') as f:\n",
    "    cities = json.load(f)\n",
    "db = client.data_diggers\n",
    "collection = db.training_data\n",
    "collection.drop()\n",
    "collection.insert_many(cities)\n",
    "collection.count()"
   ]
  },
  {
   "cell_type": "code",
   "execution_count": 66,
   "metadata": {},
   "outputs": [
    {
     "name": "stdout",
     "output_type": "stream",
     "text": [
      "{'_id': ObjectId('5a4d4cf57c4c7b78c0dc1768'), 'city_name': 'Aberdeen', 'countries': 'United Kingdom', 'population': '222793', 'N_population': '-0.260979594'}\n"
     ]
    }
   ],
   "source": [
    "# population_collection\n",
    "new_collection = db.population_collection\n",
    "print(new_collection.find_one())\n",
    "collects = new_collection.find()\n",
    "for collect in collects:\n",
    "    result = collection.update_many({'region': collect['city_name']},{'$inc': {'population': float(collect['population'])}})\n",
    "    if result.matched_count == 0:\n",
    "        result1 = collection.update_one({'city_name': collect['city_name']},{'$inc': {'population': float(collect['population'])}})"
   ]
  },
  {
   "cell_type": "code",
   "execution_count": 67,
   "metadata": {
    "collapsed": true
   },
   "outputs": [],
   "source": [
    "# house_price\n",
    "new_collection = db.houseprice_collection\n",
    "# print(new_collection.find_one())\n",
    "collects = new_collection.find()\n",
    "for collect in collects:\n",
    "    result = collection.update_many({'region': collect['city_name']},{'$inc': {'house_price': collect['average_price']}})\n",
    "    if result.matched_count == 0:\n",
    "        result1 = collection.update_one({'city_name': collect['city_name']},{'$inc': {'house_price': collect['average_price']}})\n",
    "#         print(result1.matched_count)"
   ]
  },
  {
   "cell_type": "code",
   "execution_count": 68,
   "metadata": {
    "collapsed": true
   },
   "outputs": [],
   "source": [
    "# school_number\n",
    "new_collection = db.education\n",
    "# print(new_collection.find_one())\n",
    "collects = new_collection.find()\n",
    "for collect in collects:\n",
    "    result = collection.update_many({'region': collect['city_name']},{'$inc': {'school_number': collect['school_number_normalize_maxmin']}})\n",
    "    if result.matched_count == 0:\n",
    "        result1 = collection.update_one({'city_name': collect['city_name']},{'$inc': {'school_number': collect['school_number_normalize_maxmin']}})\n",
    "#         print(result1.matched_count)"
   ]
  },
  {
   "cell_type": "code",
   "execution_count": 69,
   "metadata": {
    "collapsed": true
   },
   "outputs": [],
   "source": [
    "# unemployment\n",
    "new_collection = db.unemployment\n",
    "# print(new_collection.find_one())\n",
    "collects = new_collection.find()\n",
    "for collect in collects:\n",
    "    result = collection.update_many({'region': collect['city_name']},{'$inc': {'unemployment': float(collect['Unemployment_rate'])}})\n",
    "    if result.matched_count == 0:\n",
    "        result1 = collection.update_one({'city_name': collect['city_name']},{'$inc': {'unemployment': float(collect['Unemployment_rate'])}})\n",
    "#         print(result1.matched_count)"
   ]
  },
  {
   "cell_type": "code",
   "execution_count": 70,
   "metadata": {},
   "outputs": [
    {
     "name": "stdout",
     "output_type": "stream",
     "text": [
      "{'_id': ObjectId('5a4d4cf47c4c7b78c0dc157e'), 'city_name': 'Stockton-on-Tees', 'Number of people exposed to traffic noise': 9100.0, 'Normalized value of Number of people exposed to traffic noise': -0.26221699976832685}\n"
     ]
    }
   ],
   "source": [
    "# trafficNoise\n",
    "new_collection = db.trafficNoise\n",
    "print(new_collection.find_one())\n",
    "collects = new_collection.find()\n",
    "for collect in collects:\n",
    "    result = collection.update_many({'region': collect['city_name']},{'$inc': {'traffic_noise': collect['Number of people exposed to traffic noise']}})\n",
    "    if result.matched_count == 0:\n",
    "        result1 = collection.update_one({'city_name': collect['city_name']},{'$inc': {'traffic_noise': collect['Number of people exposed to traffic noise']}})\n",
    "#         print(result1.matched_count)"
   ]
  },
  {
   "cell_type": "code",
   "execution_count": 71,
   "metadata": {},
   "outputs": [
    {
     "name": "stdout",
     "output_type": "stream",
     "text": [
      "{'_id': ObjectId('5a4d4cf87c4c7b78c0dc25d5'), 'city_name': 'Barnstaple', 'hospitals_number_normalize_maxmin': 1}\n"
     ]
    }
   ],
   "source": [
    "# hospitals\n",
    "new_collection = db.hospitals\n",
    "print(new_collection.find_one())\n",
    "collects = new_collection.find()\n",
    "for collect in collects:\n",
    "    result = collection.update_many({'region': collect['city_name']},{'$inc': {'hospitals_number': collect['hospitals_number_normalize_maxmin']}})\n",
    "    if result.matched_count == 0:\n",
    "        result1 = collection.update_one({'city_name': collect['city_name']},{'$inc': {'hospitals_number': collect['hospitals_number_normalize_maxmin']}})\n",
    "#         print(result1.matched_count)"
   ]
  },
  {
   "cell_type": "code",
   "execution_count": 72,
   "metadata": {},
   "outputs": [
    {
     "name": "stdout",
     "output_type": "stream",
     "text": [
      "{'_id': ObjectId('5a4d4cf77c4c7b78c0dc1960'), 'city_name': 'Aberdeen', 'GVA_per_worker_per_month': '56800', 'GVA_norm': '1.6172106581', 'GVA_max_min_norm': '0.6071428571'}\n"
     ]
    }
   ],
   "source": [
    "# gva_collection\n",
    "new_collection = db.gva_collection\n",
    "print(new_collection.find_one())\n",
    "collects = new_collection.find()\n",
    "for collect in collects:\n",
    "    result = collection.update_many({'region': collect['city_name']},{'$inc': {'GVA': float(collect['GVA_per_worker_per_month'])}})\n",
    "    if result.matched_count == 0:\n",
    "        result1 = collection.update_one({'city_name': collect['city_name']},{'$inc': {'GVA': float(collect['GVA_per_worker_per_month'])}})\n",
    "#         print(result1.matched_count)"
   ]
  },
  {
   "cell_type": "code",
   "execution_count": 73,
   "metadata": {},
   "outputs": [
    {
     "name": "stdout",
     "output_type": "stream",
     "text": [
      "56\n"
     ]
    }
   ],
   "source": [
    "#UniRank\n",
    "new_collection = db.UniRank\n",
    "# for i in new_collection.find():\n",
    "#     print(i)\n",
    "print(new_collection.count())\n",
    "collects = new_collection.find()\n",
    "for collect in collects:\n",
    "    result = collection.update_many({'region': collect['city_name']},{'$inc': {'number_of_universities': collect['Number_of_universities']}})\n",
    "    if result.matched_count == 0:\n",
    "        result1 = collection.update_one({'city_name': collect['city_name']},{'$inc': {'number_of_universities':collect['Number_of_universities']}})\n",
    "#         print(result1.matched_count)"
   ]
  },
  {
   "cell_type": "code",
   "execution_count": 74,
   "metadata": {},
   "outputs": [
    {
     "name": "stdout",
     "output_type": "stream",
     "text": [
      "{'_id': ObjectId('5a4d4cf57c4c7b78c0dc15ba'), 'city_name': 'United Kingdom', 'Average happiness rating': 7.38, 'Sample size': 304740.0, 'Normalized value of happiness ranking': 0.38}\n"
     ]
    }
   ],
   "source": [
    "#happinessRank\n",
    "new_collection = db.happinessRank\n",
    "print(new_collection.find_one())\n",
    "collects = new_collection.find()\n",
    "for collect in collects:\n",
    "    result = collection.update_many({'region': collect['city_name']},{'$inc': {'happiness': float(collect['Average happiness rating'])}})\n",
    "    result = collection.update_many({'region': collect['city_name']},{'$inc': {'sample':int(collect['Sample size'])}})\n",
    "    if result.matched_count == 0:\n",
    "        result1 = collection.update_one({'city_name': collect['city_name']},{'$inc': {'happiness':float(collect['Average happiness rating'])}})\n",
    "        result1 = collection.update_one({'city_name': collect['city_name']},{'$inc': {'sample':int(collect['Sample size'])}})\n",
    "#         print(result1.matched_count)"
   ]
  },
  {
   "cell_type": "code",
   "execution_count": 75,
   "metadata": {},
   "outputs": [
    {
     "name": "stdout",
     "output_type": "stream",
     "text": [
      "{'_id': ObjectId('5a4d4cf87c4c7b78c0dc2955'), 'city_name': 'Mendip', 'stations_number_normalize_maxmin': 1}\n"
     ]
    }
   ],
   "source": [
    "# railway_station\n",
    "new_collection = db.railway_station\n",
    "print(new_collection.find_one())\n",
    "collects = new_collection.find()\n",
    "for collect in collects:\n",
    "    result = collection.update_many({'region': collect['city_name']},{'$inc': {'stations_number': collect['stations_number_normalize_maxmin']}})\n",
    "    if result.matched_count == 0:\n",
    "        result1 = collection.update_one({'city_name': collect['city_name']},{'$inc': {'stations_number':collect['stations_number_normalize_maxmin']}})\n",
    "#         print(result1.matched_count)"
   ]
  },
  {
   "cell_type": "code",
   "execution_count": 76,
   "metadata": {},
   "outputs": [
    {
     "name": "stdout",
     "output_type": "stream",
     "text": [
      "{'_id': ObjectId('5a4d4cf87c4c7b78c0dc27dd'), 'city_name': 'Mendip', 'pubs_number_normalize_maxmin': 171}\n"
     ]
    }
   ],
   "source": [
    "# pubs\n",
    "new_collection = db.pubs\n",
    "print(new_collection.find_one())\n",
    "collects = new_collection.find()\n",
    "for collect in collects:\n",
    "    result = collection.update_many({'region': collect['city_name']},{'$inc': {'pubs_number': collect['pubs_number_normalize_maxmin']}})\n",
    "    if result.matched_count == 0:\n",
    "        result1 = collection.update_one({'city_name': collect['city_name']},{'$inc': {'pubs_number':collect['pubs_number_normalize_maxmin']}})\n",
    "#         print(result1.matched_count)"
   ]
  },
  {
   "cell_type": "code",
   "execution_count": 77,
   "metadata": {},
   "outputs": [
    {
     "name": "stdout",
     "output_type": "stream",
     "text": [
      "{'_id': ObjectId('5a4d4cf47c4c7b78c0dc14df'), 'city_name': 'County Durham', 'Delay 2015': 21.2, 'Delay 2016': 22.4, 'Delay_2015_normalized_value': -0.8983897493709471, 'Delay_2016_normalized_value': -0.8705272692129561}\n"
     ]
    }
   ],
   "source": [
    "#roadTraffic\n",
    "new_collection = db.roadTraffic\n",
    "print(new_collection.find_one())\n",
    "collects = new_collection.find()\n",
    "for collect in collects:\n",
    "    result = collection.update_many({'region': collect['city_name']},{'$inc': {'road_traffic_2015': collect['Delay 2015']}})\n",
    "    result = collection.update_many({'region': collect['city_name']},{'$inc': {'road_traffic_2016': collect['Delay 2016']}})\n",
    "    if result.matched_count == 0:\n",
    "        result1 = collection.update_one({'city_name': collect['city_name']},{'$inc': {'road_traffic_2015':collect['Delay 2015']}})\n",
    "        result1 = collection.update_one({'city_name': collect['city_name']},{'$inc': {'road_traffic_2016':collect['Delay 2016']}})\n",
    "#         print(result1.matched_count)"
   ]
  },
  {
   "cell_type": "code",
   "execution_count": 78,
   "metadata": {},
   "outputs": [
    {
     "name": "stdout",
     "output_type": "stream",
     "text": [
      "{'_id': ObjectId('5a4d4cf47c4c7b78c0dc14a1'), 'city_name': 'Aberdeen', 'total_jobs': 176400.0, 'total_jobs_normalized_value': -0.13139689528109025}\n"
     ]
    }
   ],
   "source": [
    "#TotalJobs\n",
    "new_collection = db.TotalJobs\n",
    "print(new_collection.find_one())\n",
    "collects = new_collection.find()\n",
    "for collect in collects:\n",
    "    result = collection.update_many({'region': collect['city_name']},{'$inc': {'total_jobs': collect['total_jobs']}})\n",
    "    if result.matched_count == 0:\n",
    "        result1 = collection.update_one({'city_name': collect['city_name']},{'$inc': {'total_jobs':collect['total_jobs']}})\n",
    "#         print(result1.matched_count)"
   ]
  },
  {
   "cell_type": "code",
   "execution_count": 79,
   "metadata": {},
   "outputs": [
    {
     "name": "stdout",
     "output_type": "stream",
     "text": [
      "{'_id': ObjectId('5a4d4cf97c4c7b78c0dc2ada'), 'city_name': 'Aberdeen', 'SummerDay_ave_temperature': 18.218181818181815, 'SummerDay_ave_temperature_norm': -0.3521141851983764, 'SummerNight_ave_temperature': 10.248484848484848, 'SummerNight_ave_temperature_norm': -0.7521238470129499, 'WinterDay_ave_temperature': 7.121875000000001, 'WinterDay_ave_temperature_norm': -0.5557403332744789, 'WinterNight_ave_temperature': 0.7562500000000001, 'WinterNight_ave_temperature_norm': -1.0494076046377836, 'FrostDay_perYear': 52.0, 'FrostDay_perYear_norm': 0.8851094209994033, 'Rainfall_perMon': 63.06899224806201, 'Rainfall_perMon_norm': -0.5691616903369965, 'Sunshine_perMon': 119.6046511627907, 'Sunshine_perMon_norm': -0.20515482811430466}\n"
     ]
    }
   ],
   "source": [
    "# weather\n",
    "new_collection = db.weather\n",
    "print(new_collection.find_one())\n",
    "collects = new_collection.find()\n",
    "for collect in collects:\n",
    "    result = collection.update_many({'region': collect['city_name']},{'$inc': {'SummerDay_ave_temperature': collect['SummerDay_ave_temperature'],\n",
    "                                                                               'SummerNight_ave_temperature': collect['SummerNight_ave_temperature'],\n",
    "                                                                               'WinterDay_ave_temperature': collect['WinterDay_ave_temperature'],\n",
    "                                                                               'WinterNight_ave_temperature': collect['WinterNight_ave_temperature'],\n",
    "                                                                               'FrostDay_perYear': collect['FrostDay_perYear'],\n",
    "                                                                               'Rainfall_perMon': collect['Rainfall_perMon'],\n",
    "                                                                               'Sunshine_perMon': collect['Sunshine_perMon'],\n",
    "                                                                              }})\n",
    "    if result.matched_count == 0:\n",
    "        result1 = collection.update_one({'city_name': collect['city_name']},{'$inc': {'SummerDay_ave_temperature': collect['SummerDay_ave_temperature'],\n",
    "                                                                               'SummerNight_ave_temperature': collect['SummerNight_ave_temperature'],\n",
    "                                                                               'WinterDay_ave_temperature': collect['WinterDay_ave_temperature'],\n",
    "                                                                               'WinterNight_ave_temperature': collect['WinterNight_ave_temperature'],\n",
    "                                                                               'FrostDay_perYear': collect['FrostDay_perYear'],\n",
    "                                                                               'Rainfall_perMon': collect['Rainfall_perMon'],\n",
    "                                                                               'Sunshine_perMon': collect['Sunshine_perMon'],\n",
    "                                                                              }})\n",
    "#     print(collect['city_name'])\n"
   ]
  },
  {
   "cell_type": "code",
   "execution_count": 80,
   "metadata": {},
   "outputs": [
    {
     "name": "stdout",
     "output_type": "stream",
     "text": [
      "84\n"
     ]
    }
   ],
   "source": [
    "all_found =  collection.find({\n",
    "                            'house_price':{'$exists':'true'},\n",
    "                              'total_jobs':{'$exists':'true'},\n",
    "#                               'school_number':{'$exists':'true'},\n",
    "                              'unemployment':{'$exists':'true'},\n",
    "                              'traffic_noise':{'$exists':'true'},\n",
    "#                               'hospitals_number':{'$exists':'true'},\n",
    "                              'population':{'$exists':'true'},\n",
    "                              'GVA':{'$exists':'true'},\n",
    "#                               'stations_number':{'$exists':'true'},\n",
    "                              'happiness':{'$exists':'true'},\n",
    "#                               'pubs_number':{'$exists':'true'},\n",
    "                              'road_traffic_2016':{'$exists':'true'},\n",
    "#                               'SummerDay_ave_temperature':{'$exists':'true'},\n",
    "                             })\n",
    "\n",
    "print(all_found.count())"
   ]
  },
  {
   "cell_type": "code",
   "execution_count": null,
   "metadata": {
    "collapsed": true
   },
   "outputs": [],
   "source": []
  }
 ],
 "metadata": {
  "kernelspec": {
   "display_name": "Python [conda root]",
   "language": "python",
   "name": "conda-root-py"
  },
  "language_info": {
   "codemirror_mode": {
    "name": "ipython",
    "version": 3
   },
   "file_extension": ".py",
   "mimetype": "text/x-python",
   "name": "python",
   "nbconvert_exporter": "python",
   "pygments_lexer": "ipython3",
   "version": "3.6.1"
  }
 },
 "nbformat": 4,
 "nbformat_minor": 2
}

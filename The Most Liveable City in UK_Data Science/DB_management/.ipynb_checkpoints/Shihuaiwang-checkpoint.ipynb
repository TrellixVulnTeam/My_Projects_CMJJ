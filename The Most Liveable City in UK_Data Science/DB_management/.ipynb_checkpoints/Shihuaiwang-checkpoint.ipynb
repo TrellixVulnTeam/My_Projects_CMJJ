{
 "cells": [
  {
   "cell_type": "code",
   "execution_count": 3,
   "metadata": {
    "collapsed": true
   },
   "outputs": [],
   "source": [
    "from pymongo import MongoClient\n",
    "client = MongoClient()\n",
    "db = client.data_diggers\n",
    "collection =db.population_collection"
   ]
  },
  {
   "cell_type": "code",
   "execution_count": 4,
   "metadata": {
    "scrolled": true
   },
   "outputs": [
    {
     "name": "stdout",
     "output_type": "stream",
     "text": [
      "['City', 'Country', 'Population 2011', 'Normalization']\n",
      "['Aberdeen', 'United Kingdom', '222793', '-0.260979594']\n",
      "['Aldershot', 'United Kingdom', '179951', '-0.296649764']\n",
      "['Barnsley', 'United Kingdom', '231221', '-0.253962457']\n",
      "['Basildon', 'United Kingdom', '174497', '-0.301190754']\n",
      "['Belfast', 'United Kingdom', '468712', '-0.05622789']\n",
      "['Birkenhead', 'United Kingdom', '319783', '-0.1802259']\n",
      "['Birmingham', 'United Kingdom', '2419500', '1.567994583']\n",
      "['Blackburn', 'United Kingdom', '147489', '-0.323677565']\n",
      "['Blackpool', 'United Kingdom', '217822', '-0.265118439']\n",
      "['Bournemouth', 'United Kingdom', '466054', '-0.058440936']\n",
      "['Bradford', 'United Kingdom', '522452', '-0.011484066']\n",
      "['Brighton', 'United Kingdom', '334551', '-0.16793009']\n",
      "['Bristol', 'United Kingdom', '691001', '0.128849519']\n",
      "['Burnley', 'United Kingdom', '176511', '-0.299513901']\n",
      "['Cambridge', 'United Kingdom', '123867', '-0.343345198']\n",
      "['Cardiff', 'United Kingdom', '346090', '-0.15832274']\n",
      "['Chatham', 'United Kingdom', '263925', '-0.226733167']\n",
      "['Coventry', 'United Kingdom', '316960', '-0.182576324']\n",
      "['Crawley', 'United Kingdom', '106597', '-0.357724168']\n",
      "['Derby', 'United Kingdom', '248752', '-0.239366179']\n",
      "['Doncaster', 'United Kingdom', '302402', '-0.194697288']\n",
      "['Dundee', 'United Kingdom', '147268', '-0.323861569']\n",
      "['Edinburgh', 'United Kingdom', '476626', '-0.049638709']\n",
      "['Exeter', 'United Kingdom', '117773', '-0.348419051']\n",
      "['Glasgow', 'United Kingdom', '963753', '0.355942329']\n",
      "['Gloucester', 'United Kingdom', '121688', '-0.34515943']\n",
      "['Huddersfield', 'United Kingdom', '422458', '-0.094738885']\n",
      "['Hull', 'United Kingdom', '256406', '-0.232993472']\n",
      "['Ipswich', 'United Kingdom', '133384', '-0.335421362']\n",
      "['Leeds', 'United Kingdom', '751485', '0.179208385']\n",
      "['Leicester', 'United Kingdom', '479924', '-0.0468928']\n",
      "['Liverpool', 'United Kingdom', '612308', '0.063329873']\n",
      "['London', 'United Kingdom', '9350226', '7.338504206']\n",
      "['Luton', 'United Kingdom', '203201', '-0.277291857']\n",
      "['Manchester', 'United Kingdom', '2364679', '1.52235072']\n",
      "['Mansfield', 'United Kingdom', '223963', '-0.260005454']\n",
      "['Middlesbrough', 'United Kingdom', '465199', '-0.059152808']\n",
      "['Milton Keynes', 'United Kingdom', '248821', '-0.239308729']\n",
      "['Newcastle', 'United Kingdom', '829319', '0.24401283']\n",
      "['Newport', 'United Kingdom', '236811', '-0.249308233']\n",
      "['Northampton', 'United Kingdom', '212069', '-0.269908376']\n",
      "['Norwich', 'United Kingdom', '257158', '-0.232367359']\n",
      "['Nottingham', 'United Kingdom', '640791', '0.087044766']\n",
      "['Oxford', 'United Kingdom', '151906', '-0.319999979']\n",
      "['Peterborough', 'United Kingdom', '183631', '-0.293585803']\n",
      "['Plymouth', 'United Kingdom', '256384', '-0.23301179']\n",
      "['Portsmouth', 'United Kingdom', '519943', '-0.013573055']\n",
      "['Preston', 'United Kingdom', '356414', '-0.149726997']\n",
      "['Reading', 'United Kingdom', '310078', '-0.188306265']\n",
      "['Sheffield', 'United Kingdom', '809978', '0.227909549']\n",
      "['Slough', 'United Kingdom', '140205', '-0.32974221']\n",
      "['Southampton', 'United Kingdom', '362081', '-0.145008663']\n",
      "['Southend', 'United Kingdom', '344956', '-0.159266907']\n",
      "['Stoke', 'United Kingdom', '372879', '-0.136018268']\n",
      "['Sunderland', 'United Kingdom', '275506', '-0.217090848']\n",
      "['Swansea', 'United Kingdom', '378835', '-0.131059314']\n",
      "['Swindon', 'United Kingdom', '209156', '-0.272333735']\n",
      "['Telford', 'United Kingdom', '166641', '-0.307731645']\n",
      "['Wakefield', 'United Kingdom', '325837', '-0.175185351']\n",
      "['Warrington', 'United Kingdom', '202228', '-0.278101975']\n",
      "['Wigan', 'United Kingdom', '317849', '-0.181836145']\n",
      "['Worthing', 'United Kingdom', '104640', '-0.359353563']\n",
      "['York', 'United Kingdom', '198051', '-0.281579737']\n",
      "['', '', '', '']\n",
      "['', '', '', '']\n",
      "['', '', '', '']\n",
      "['Notes:', '', '', '']\n",
      "['Population', '\"Source: Eurostat']\n",
      "['', '', '', '']\n",
      "['', '', '', '']\n",
      "['', '', '', '']\n",
      "['Data generated from: http://www.centreforcities.org/data-tool/su/28658030', '', '', '']\n",
      "[['City', 'Country', 'Population 2011', 'Normalization'], ['Aberdeen', 'United Kingdom', '222793', '-0.260979594'], ['Aldershot', 'United Kingdom', '179951', '-0.296649764'], ['Barnsley', 'United Kingdom', '231221', '-0.253962457'], ['Basildon', 'United Kingdom', '174497', '-0.301190754'], ['Belfast', 'United Kingdom', '468712', '-0.05622789'], ['Birkenhead', 'United Kingdom', '319783', '-0.1802259'], ['Birmingham', 'United Kingdom', '2419500', '1.567994583'], ['Blackburn', 'United Kingdom', '147489', '-0.323677565'], ['Blackpool', 'United Kingdom', '217822', '-0.265118439'], ['Bournemouth', 'United Kingdom', '466054', '-0.058440936'], ['Bradford', 'United Kingdom', '522452', '-0.011484066'], ['Brighton', 'United Kingdom', '334551', '-0.16793009'], ['Bristol', 'United Kingdom', '691001', '0.128849519'], ['Burnley', 'United Kingdom', '176511', '-0.299513901'], ['Cambridge', 'United Kingdom', '123867', '-0.343345198'], ['Cardiff', 'United Kingdom', '346090', '-0.15832274'], ['Chatham', 'United Kingdom', '263925', '-0.226733167'], ['Coventry', 'United Kingdom', '316960', '-0.182576324'], ['Crawley', 'United Kingdom', '106597', '-0.357724168'], ['Derby', 'United Kingdom', '248752', '-0.239366179'], ['Doncaster', 'United Kingdom', '302402', '-0.194697288'], ['Dundee', 'United Kingdom', '147268', '-0.323861569'], ['Edinburgh', 'United Kingdom', '476626', '-0.049638709'], ['Exeter', 'United Kingdom', '117773', '-0.348419051'], ['Glasgow', 'United Kingdom', '963753', '0.355942329'], ['Gloucester', 'United Kingdom', '121688', '-0.34515943'], ['Huddersfield', 'United Kingdom', '422458', '-0.094738885'], ['Hull', 'United Kingdom', '256406', '-0.232993472'], ['Ipswich', 'United Kingdom', '133384', '-0.335421362'], ['Leeds', 'United Kingdom', '751485', '0.179208385'], ['Leicester', 'United Kingdom', '479924', '-0.0468928'], ['Liverpool', 'United Kingdom', '612308', '0.063329873'], ['London', 'United Kingdom', '9350226', '7.338504206'], ['Luton', 'United Kingdom', '203201', '-0.277291857'], ['Manchester', 'United Kingdom', '2364679', '1.52235072'], ['Mansfield', 'United Kingdom', '223963', '-0.260005454'], ['Middlesbrough', 'United Kingdom', '465199', '-0.059152808'], ['Milton Keynes', 'United Kingdom', '248821', '-0.239308729'], ['Newcastle', 'United Kingdom', '829319', '0.24401283'], ['Newport', 'United Kingdom', '236811', '-0.249308233'], ['Northampton', 'United Kingdom', '212069', '-0.269908376'], ['Norwich', 'United Kingdom', '257158', '-0.232367359'], ['Nottingham', 'United Kingdom', '640791', '0.087044766'], ['Oxford', 'United Kingdom', '151906', '-0.319999979'], ['Peterborough', 'United Kingdom', '183631', '-0.293585803'], ['Plymouth', 'United Kingdom', '256384', '-0.23301179'], ['Portsmouth', 'United Kingdom', '519943', '-0.013573055'], ['Preston', 'United Kingdom', '356414', '-0.149726997'], ['Reading', 'United Kingdom', '310078', '-0.188306265'], ['Sheffield', 'United Kingdom', '809978', '0.227909549'], ['Slough', 'United Kingdom', '140205', '-0.32974221'], ['Southampton', 'United Kingdom', '362081', '-0.145008663'], ['Southend', 'United Kingdom', '344956', '-0.159266907'], ['Stoke', 'United Kingdom', '372879', '-0.136018268'], ['Sunderland', 'United Kingdom', '275506', '-0.217090848'], ['Swansea', 'United Kingdom', '378835', '-0.131059314'], ['Swindon', 'United Kingdom', '209156', '-0.272333735'], ['Telford', 'United Kingdom', '166641', '-0.307731645'], ['Wakefield', 'United Kingdom', '325837', '-0.175185351'], ['Warrington', 'United Kingdom', '202228', '-0.278101975'], ['Wigan', 'United Kingdom', '317849', '-0.181836145'], ['Worthing', 'United Kingdom', '104640', '-0.359353563'], ['York', 'United Kingdom', '198051', '-0.281579737'], ['', '', '', ''], ['', '', '', ''], ['', '', '', ''], ['Notes:', '', '', ''], ['Population', '\"Source: Eurostat'], ['', '', '', ''], ['', '', '', ''], ['', '', '', ''], ['Data generated from: http://www.centreforcities.org/data-tool/su/28658030', '', '', '']]\n"
     ]
    }
   ],
   "source": [
    "import csv\n",
    "l=list()\n",
    "filename ='../normalize_dataset/9.population.csv'\n",
    "with open(filename) as f:\n",
    "    f_csv = csv.reader(f)\n",
    "    for row in f_csv:\n",
    "  \n",
    "        rows=row[0].split('\\t')\n",
    "        print(rows)\n",
    "        l.append(rows)\n",
    "    print(l)"
   ]
  },
  {
   "cell_type": "code",
   "execution_count": 5,
   "metadata": {
    "scrolled": false
   },
   "outputs": [
    {
     "name": "stderr",
     "output_type": "stream",
     "text": [
      "/usr/local/anaconda/anaconda3/lib/python3.6/site-packages/ipykernel/__main__.py:5: DeprecationWarning: insert is deprecated. Use insert_one or insert_many instead.\n"
     ]
    },
    {
     "data": {
      "text/plain": [
       "[ObjectId('5a253dd17c4c7b513f810da0'),\n",
       " ObjectId('5a253dd17c4c7b513f810da1'),\n",
       " ObjectId('5a253dd17c4c7b513f810da2'),\n",
       " ObjectId('5a253dd17c4c7b513f810da3'),\n",
       " ObjectId('5a253dd17c4c7b513f810da4'),\n",
       " ObjectId('5a253dd17c4c7b513f810da5'),\n",
       " ObjectId('5a253dd17c4c7b513f810da6'),\n",
       " ObjectId('5a253dd17c4c7b513f810da7'),\n",
       " ObjectId('5a253dd17c4c7b513f810da8'),\n",
       " ObjectId('5a253dd17c4c7b513f810da9'),\n",
       " ObjectId('5a253dd17c4c7b513f810daa'),\n",
       " ObjectId('5a253dd17c4c7b513f810dab'),\n",
       " ObjectId('5a253dd17c4c7b513f810dac'),\n",
       " ObjectId('5a253dd17c4c7b513f810dad'),\n",
       " ObjectId('5a253dd17c4c7b513f810dae'),\n",
       " ObjectId('5a253dd17c4c7b513f810daf'),\n",
       " ObjectId('5a253dd17c4c7b513f810db0'),\n",
       " ObjectId('5a253dd17c4c7b513f810db1'),\n",
       " ObjectId('5a253dd17c4c7b513f810db2'),\n",
       " ObjectId('5a253dd17c4c7b513f810db3'),\n",
       " ObjectId('5a253dd17c4c7b513f810db4'),\n",
       " ObjectId('5a253dd17c4c7b513f810db5'),\n",
       " ObjectId('5a253dd17c4c7b513f810db6'),\n",
       " ObjectId('5a253dd17c4c7b513f810db7'),\n",
       " ObjectId('5a253dd17c4c7b513f810db8'),\n",
       " ObjectId('5a253dd17c4c7b513f810db9'),\n",
       " ObjectId('5a253dd17c4c7b513f810dba'),\n",
       " ObjectId('5a253dd17c4c7b513f810dbb'),\n",
       " ObjectId('5a253dd17c4c7b513f810dbc'),\n",
       " ObjectId('5a253dd17c4c7b513f810dbd'),\n",
       " ObjectId('5a253dd17c4c7b513f810dbe'),\n",
       " ObjectId('5a253dd17c4c7b513f810dbf'),\n",
       " ObjectId('5a253dd17c4c7b513f810dc0'),\n",
       " ObjectId('5a253dd17c4c7b513f810dc1'),\n",
       " ObjectId('5a253dd17c4c7b513f810dc2'),\n",
       " ObjectId('5a253dd17c4c7b513f810dc3'),\n",
       " ObjectId('5a253dd17c4c7b513f810dc4'),\n",
       " ObjectId('5a253dd17c4c7b513f810dc5'),\n",
       " ObjectId('5a253dd17c4c7b513f810dc6'),\n",
       " ObjectId('5a253dd17c4c7b513f810dc7'),\n",
       " ObjectId('5a253dd17c4c7b513f810dc8'),\n",
       " ObjectId('5a253dd17c4c7b513f810dc9'),\n",
       " ObjectId('5a253dd17c4c7b513f810dca'),\n",
       " ObjectId('5a253dd17c4c7b513f810dcb'),\n",
       " ObjectId('5a253dd17c4c7b513f810dcc'),\n",
       " ObjectId('5a253dd17c4c7b513f810dcd'),\n",
       " ObjectId('5a253dd17c4c7b513f810dce'),\n",
       " ObjectId('5a253dd17c4c7b513f810dcf'),\n",
       " ObjectId('5a253dd17c4c7b513f810dd0'),\n",
       " ObjectId('5a253dd17c4c7b513f810dd1'),\n",
       " ObjectId('5a253dd17c4c7b513f810dd2'),\n",
       " ObjectId('5a253dd17c4c7b513f810dd3'),\n",
       " ObjectId('5a253dd17c4c7b513f810dd4'),\n",
       " ObjectId('5a253dd17c4c7b513f810dd5'),\n",
       " ObjectId('5a253dd17c4c7b513f810dd6'),\n",
       " ObjectId('5a253dd17c4c7b513f810dd7'),\n",
       " ObjectId('5a253dd17c4c7b513f810dd8'),\n",
       " ObjectId('5a253dd17c4c7b513f810dd9'),\n",
       " ObjectId('5a253dd17c4c7b513f810dda'),\n",
       " ObjectId('5a253dd17c4c7b513f810ddb'),\n",
       " ObjectId('5a253dd17c4c7b513f810ddc'),\n",
       " ObjectId('5a253dd17c4c7b513f810ddd'),\n",
       " ObjectId('5a253dd17c4c7b513f810dde')]"
      ]
     },
     "execution_count": 5,
     "metadata": {},
     "output_type": "execute_result"
    }
   ],
   "source": [
    "population=list()\n",
    "collection.drop()\n",
    "for i in range(63):\n",
    "    population.append({\"city_name\":l[i+1][0],\"countries\":l[i+1][1],\"population\":l[i+1][2],\"N_population\":l[i+1][3]})\n",
    "collection.insert(population)   \n"
   ]
  },
  {
   "cell_type": "code",
   "execution_count": 6,
   "metadata": {},
   "outputs": [
    {
     "data": {
      "text/plain": [
       "63"
      ]
     },
     "execution_count": 6,
     "metadata": {},
     "output_type": "execute_result"
    }
   ],
   "source": [
    "collection.count()\n"
   ]
  },
  {
   "cell_type": "markdown",
   "metadata": {},
   "source": [
    "The House price"
   ]
  },
  {
   "cell_type": "code",
   "execution_count": 8,
   "metadata": {
    "collapsed": true
   },
   "outputs": [],
   "source": [
    "db.drop_collection('houseprice_collection')\n",
    "collection =db.houseprice_collection\n",
    "collection.drop()"
   ]
  },
  {
   "cell_type": "code",
   "execution_count": 9,
   "metadata": {
    "collapsed": true
   },
   "outputs": [],
   "source": [
    "import csv\n",
    "l=list()\n",
    "s =set()\n",
    "filename ='../normalize_dataset/7.UK-House price_Nor.csv'\n",
    "with open(filename) as f:\n",
    "    f_csv = csv.reader(f)\n",
    "    for row in f_csv:\n",
    "        if row[0]!='Date':\n",
    "            l.append({\n",
    "                \"city_name\":row[1],\n",
    "                \"average_price\":row[3],\n",
    "                \"Normalization\":row[5]\n",
    "            })\n",
    "            s.add(row[1])\n",
    "    for city_name in s:\n",
    "        count = 0\n",
    "        summ = 0\n",
    "        nor_sum =0\n",
    "        for city in l:\n",
    "            if city['city_name'] == city_name:\n",
    "                summ += float(city['average_price'])\n",
    "                nor_sum += float(city['Normalization'])\n",
    "                count += 1\n",
    "        average_price = summ/float(count)\n",
    "        normalization = nor_sum/float(count)\n",
    "        collection.insert_one({\"city_name\":city_name,\"average_price\":average_price,\"Normalization\":normalization})\n",
    " "
   ]
  },
  {
   "cell_type": "code",
   "execution_count": 11,
   "metadata": {},
   "outputs": [
    {
     "data": {
      "text/plain": [
       "441"
      ]
     },
     "execution_count": 11,
     "metadata": {},
     "output_type": "execute_result"
    }
   ],
   "source": [
    "collection.count()"
   ]
  },
  {
   "cell_type": "markdown",
   "metadata": {},
   "source": [
    "10.gva_per_worker.csv"
   ]
  },
  {
   "cell_type": "code",
   "execution_count": 12,
   "metadata": {
    "collapsed": true
   },
   "outputs": [],
   "source": [
    "collection = db.gva_collection\n",
    "collection.drop()"
   ]
  },
  {
   "cell_type": "code",
   "execution_count": 13,
   "metadata": {},
   "outputs": [
    {
     "name": "stdout",
     "output_type": "stream",
     "text": [
      "['City name', 'GVA per worker per month', 'GVA_norm', 'GVA_max_min_norm']\n",
      "['Aberdeen', '56800', '1.6172106581', '0.6071428571']\n",
      "['Aldershot', '56400', '1.5561747009', '0.5941558442']\n",
      "['Barnsley', '41100', '-0.7784506597', '0.0974025974']\n",
      "['Basildon', '52400', '0.9458151295', '0.4642857143']\n",
      "['Belfast', '47600', '0.2133836438', '0.3084415584']\n",
      "['Birkenhead', '42700', '-0.5343068312', '0.1493506494']\n",
      "['Birmingham', '43300', '-0.4427528955', '0.1688311688']\n",
      "['Blackburn', '39000', '-1.0988894347', '0.0292207792']\n",
      "['Blackpool', '38600', '-1.1599253919', '0.0162337662']\n",
      "['Bournemouth', '46800', '0.0913117295', '0.2824675325']\n",
      "['Bradford', '42400', '-0.580083799', '0.1396103896']\n",
      "['Brighton', '46500', '0.0455347617', '0.2727272727']\n",
      "['Bristol', '49400', '0.488045451', '0.3668831169']\n",
      "['Burnley', '44300', '-0.2901630026', '0.2012987013']\n",
      "['Cambridge', '50200', '0.6101173652', '0.3928571429']\n",
      "['Cardiff', '42700', '-0.5343068312', '0.1493506494']\n",
      "['Chatham', '47600', '0.2133836438', '0.3084415584']\n",
      "['Coventry', '42900', '-0.5037888526', '0.1558441558']\n",
      "['Crawley', '44000', '-0.3359399705', '0.1915584416']\n",
      "['Derby', '49600', '0.5185634295', '0.3733766234']\n",
      "['Doncaster', '38100', '-1.2362203383', '0']\n",
      "['Dundee', '40400', '-0.8852635847', '0.0746753247']\n",
      "['Edinburgh', '50500', '0.6558943331', '0.4025974026']\n",
      "['Exeter', '43900', '-0.3511989597', '0.1883116883']\n",
      "['Glasgow', '42700', '-0.5343068312', '0.1493506494']\n",
      "['Gloucester', '47000', '0.1218297081', '0.288961039']\n",
      "['Huddersfield', '41400', '-0.7326736919', '0.1071428571']\n",
      "['Hull', '40800', '-0.8242276276', '0.0876623377']\n",
      "['Ipswich', '44200', '-0.3054219919', '0.1980519481']\n",
      "['Leeds', '46600', '0.060793751', '0.275974026']\n",
      "['Leicester', '41400', '-0.7326736919', '0.1071428571']\n",
      "['Liverpool', '44200', '-0.3054219919', '0.1980519481']\n",
      "['London', '68900', '3.4635483616', '1']\n",
      "['Luton', '49200', '0.4575274724', '0.3603896104']\n",
      "['Manchester', '43600', '-0.3969759276', '0.1785714286']\n",
      "['Mansfield', '41800', '-0.6716377347', '0.1201298701']\n",
      "['Middlesbrough', '43300', '-0.4427528955', '0.1688311688']\n",
      "['Milton Keynes', '61700', '2.3649011331', '0.7662337662']\n",
      "['Newcastle', '42500', '-0.5648248097', '0.1428571429']\n",
      "['Newport', '44000', '-0.3359399705', '0.1915584416']\n",
      "['Northampton', '42600', '-0.5495658205', '0.1461038961']\n",
      "['Norwich', '45600', '-0.0917961419', '0.2435064935']\n",
      "['Nottingham', '41900', '-0.6563787455', '0.1233766234']\n",
      "['Oxford', '50600', '0.6711533224', '0.4058441558']\n",
      "['Peterborough', '46100', '-0.0155011955', '0.2597402597']\n",
      "['Plymouth', '42900', '-0.5037888526', '0.1558441558']\n",
      "['Portsmouth', '52500', '0.9610741188', '0.4675324675']\n",
      "['Preston', '39800', '-0.9768175205', '0.0551948052']\n",
      "['Reading', '63600', '2.6548219295', '0.8279220779']\n",
      "['Sheffield', '42200', '-0.6106017776', '0.1331168831']\n",
      "['Slough', '65100', '2.8837067688', '0.8766233766']\n",
      "['Southampton', '51400', '0.7932252367', '0.4318181818']\n",
      "['Southend', '45100', '-0.1680910883', '0.2272727273']\n",
      "['Stoke', '40600', '-0.8547456062', '0.0811688312']\n",
      "['Sunderland', '41200', '-0.7631916705', '0.1006493506']\n",
      "['Swansea', '41100', '-0.7784506597', '0.0974025974']\n",
      "['Swindon', '55800', '1.4646207652', '0.5746753247']\n",
      "['Telford', '41900', '-0.6563787455', '0.1233766234']\n",
      "['Wakefield', '41700', '-0.686896724', '0.1168831169']\n",
      "['Warrington', '46000', '-0.0307601848', '0.2564935065']\n",
      "['Wigan', '39400', '-1.0378534776', '0.0422077922']\n",
      "['Worthing', '49700', '0.5338224188', '0.3766233766']\n",
      "['York', '43400', '-0.4274939062', '0.1720779221']\n",
      "['', '', '', '']\n",
      "['mean', '46201.5873015873', '', '']\n",
      "['std', '6553.5140060072', '', '']\n",
      "['min', '38100', '', '']\n",
      "['max', '68900', '', '']\n",
      "['', '', '', '']\n",
      "['Notes:', '', '', '']\n",
      "['GVA per worker', 'measure of region productivity', '', '']\n",
      "['', '', '', '']\n",
      "['', '', '', '']\n",
      "['', '', '', '']\n",
      "['Data generated from: http://www.centreforcities.org/data-tool/su/2612815e', '', '', '']\n"
     ]
    }
   ],
   "source": [
    "import csv\n",
    "l=list()\n",
    "filename ='../normalize_dataset/10.gva_per_worker.csv'\n",
    "with open(filename) as f:\n",
    "    f_csv = csv.reader(f)\n",
    "    for row in f_csv:\n",
    "        print(row)\n",
    "        l.append({\n",
    "            \"city_name\":row[0],\n",
    "            \"GVA_per_worker_per_month\":row[1],\n",
    "            \"GVA_norm\":row[2],\n",
    "            \"GVA_max_min_norm\":row[3]    \n",
    "        })\n",
    "        collection.delete_one(l[0])\n",
    "    for i in range(1,63):\n",
    "        collection.insert_one(l[i])"
   ]
  },
  {
   "cell_type": "code",
   "execution_count": 14,
   "metadata": {},
   "outputs": [
    {
     "data": {
      "text/plain": [
       "62"
      ]
     },
     "execution_count": 14,
     "metadata": {},
     "output_type": "execute_result"
    }
   ],
   "source": [
    "collection.count()"
   ]
  },
  {
   "cell_type": "markdown",
   "metadata": {},
   "source": [
    "11.Unemployment"
   ]
  },
  {
   "cell_type": "code",
   "execution_count": 15,
   "metadata": {
    "collapsed": true
   },
   "outputs": [],
   "source": [
    "collection = db.unemployment\n",
    "collection.drop()"
   ]
  },
  {
   "cell_type": "code",
   "execution_count": 16,
   "metadata": {},
   "outputs": [
    {
     "name": "stdout",
     "output_type": "stream",
     "text": [
      "['City', 'Unemployment rate 2011 (%)', 'UR_norm', 'UR_min_max_norm']\n",
      "['Aberdeen', '7.51', '-0.4370771187', '0.3906976744']\n",
      "['Aldershot', '5.9', '-1.1263297952', '0.2409302326']\n",
      "['Barnsley', '10.26', '0.7402178256', '0.6465116279']\n",
      "['Basildon', '5.29', '-1.3874752193', '0.1841860465']\n",
      "['Belfast', '7.5', '-0.4413581913', '0.3897674419']\n",
      "['Birkenhead', '8.61', '0.033840859', '0.4930232558']\n",
      "['Birmingham', '11.73', '1.3695354868', '0.783255814']\n",
      "['Blackburn', '8.69', '0.0680894392', '0.5004651163']\n",
      "['Blackpool', '7.07', '-0.6254443098', '0.3497674419']\n",
      "['Bournemouth', '5.95', '-1.1049244326', '0.2455813953']\n",
      "['Bradford', '12.31', '1.6178376932', '0.8372093023']\n",
      "['Brighton', '7.08', '-0.6211632373', '0.3506976744']\n",
      "['Bristol', '7.5', '-0.4413581913', '0.3897674419']\n",
      "['Burnley', '6.87', '-0.7110657603', '0.3311627907']\n",
      "['Cambridge', '6.03', '-1.0706758524', '0.2530232558']\n",
      "['Cardiff', '8.27', '-0.1117156068', '0.4613953488']\n",
      "['Chatham', '9.25', '0.3078295006', '0.5525581395']\n",
      "['Coventry', '9.43', '0.384888806', '0.5693023256']\n",
      "['Crawley', '5.68', '-1.2205133908', '0.2204651163']\n",
      "['Derby', '9.26', '0.3121105731', '0.5534883721']\n",
      "['Doncaster', '12.51', '1.7034591437', '0.8558139535']\n",
      "['Dundee', '11.08', '1.0912657727', '0.7227906977']\n",
      "['Edinburgh', '6.72', '-0.7752818482', '0.3172093023']\n",
      "['Exeter', '3.31', '-2.2351275792', '0']\n",
      "['Glasgow', '10.27', '0.7444988981', '0.6474418605']\n",
      "['Gloucester', '8.24', '-0.1245588244', '0.4586046512']\n",
      "['Huddersfield', '8.75', '0.0937758744', '0.5060465116']\n",
      "['Hull', '14.06', '2.3670253851', '1']\n",
      "['Ipswich', '7.88', '-0.2786774353', '0.4251162791']\n",
      "['Leeds', '8.65', '0.0509651491', '0.496744186']\n",
      "['Leicester', '10.98', '1.0484550474', '0.7134883721']\n",
      "['Liverpool', '11.42', '1.2368222385', '0.7544186047']\n",
      "['London', '9.26', '0.3121105731', '0.5534883721']\n",
      "['Luton', '8.48', '-0.0218130838', '0.4809302326']\n",
      "['Manchester', '9.84', '0.5604127796', '0.6074418605']\n",
      "['Mansfield', '11.58', '1.3053193989', '0.7693023256']\n",
      "['Middlesbrough', '12.26', '1.5964323306', '0.8325581395']\n",
      "['Milton Keynes', '6.26', '-0.9722111843', '0.2744186047']\n",
      "['Newcastle', '11.19', '1.1383575704', '0.7330232558']\n",
      "['Newport', '10.59', '0.8814932189', '0.6772093023']\n",
      "['Northampton', '7.6', '-0.398547466', '0.3990697674']\n",
      "['Norwich', '6.09', '-1.0449894173', '0.2586046512']\n",
      "['Nottingham', '10.6', '0.8857742915', '0.6781395349']\n",
      "['Oxford', '4.71', '-1.6357774257', '0.1302325581']\n",
      "['Peterborough', '9.26', '0.3121105731', '0.5534883721']\n",
      "['Plymouth', '6.84', '-0.7239089779', '0.328372093']\n",
      "['Portsmouth', '6.36', '-0.9294004591', '0.2837209302']\n",
      "['Preston', '7.64', '-0.3814231759', '0.4027906977']\n",
      "['Reading', '5.22', '-1.4174427269', '0.1776744186']\n",
      "['Sheffield', '10.6', '0.8857742915', '0.6781395349']\n",
      "['Slough', '10.31', '0.7616231882', '0.6511627907']\n",
      "['Southampton', '6.42', '-0.9037140239', '0.2893023256']\n",
      "['Southend', '6.13', '-1.0278651272', '0.2623255814']\n",
      "['Stoke', '11.12', '1.1083900628', '0.7265116279']\n",
      "['Sunderland', '12.79', '1.8233291744', '0.8818604651']\n",
      "['Swansea', '9.85', '0.5646938521', '0.608372093']\n",
      "['Swindon', '7.06', '-0.6297253824', '0.3488372093']\n",
      "['Telford', '9.69', '0.4961966917', '0.5934883721']\n",
      "['Wakefield', '10.12', '0.6802828103', '0.6334883721']\n",
      "['Warrington', '6.22', '-0.9893354744', '0.2706976744']\n",
      "['Wigan', '7.72', '-0.3471745957', '0.4102325581']\n",
      "['Worthing', '5.68', '-1.2205133908', '0.2204651163']\n",
      "['York', '5.9', '-1.1263297952', '0.2409302326']\n",
      "['', '', '', '']\n",
      "['mean', '8.530952381', '', '']\n",
      "['std', '2.3358632543', '', '']\n",
      "['min', '3.31', '', '']\n",
      "['max', '14.06', '', '']\n",
      "['', '', '', '']\n",
      "['Notes:', '', '', '']\n",
      "['Unemployment rate', '', '', '']\n",
      "['', '', '', '']\n",
      "['', '', '', '']\n",
      "['', '', '', '']\n",
      "['Data generated from: http://www.centreforcities.org/data-tool/su/b9ec82eb', '', '', '']\n"
     ]
    }
   ],
   "source": [
    "import csv\n",
    "l=list()\n",
    "filename ='../normalize_dataset/11.unemployment_rate.csv'\n",
    "with open(filename) as f:\n",
    "    f_csv = csv.reader(f)\n",
    "    for row in f_csv:\n",
    "        print(row)\n",
    "        l.append({\n",
    "            \"city_name\":row[0],\n",
    "            \"Unemployment_rate\":row[1],\n",
    "            \"Unemployment_norm\":row[2],\n",
    "            \"Unemployment_max_min_norm\":row[3]    \n",
    "        })\n",
    "    collection.delete_one(l[0])\n",
    "    for i in range(1,63):\n",
    "        collection.insert_one(l[i])"
   ]
  },
  {
   "cell_type": "code",
   "execution_count": 18,
   "metadata": {},
   "outputs": [
    {
     "data": {
      "text/plain": [
       "{'Unemployment_max_min_norm': '0.3906976744',\n",
       " 'Unemployment_norm': '-0.4370771187',\n",
       " 'Unemployment_rate': '7.51',\n",
       " '_id': ObjectId('5a253e2b7c4c7b513f810fd6'),\n",
       " 'city_name': 'Aberdeen'}"
      ]
     },
     "execution_count": 18,
     "metadata": {},
     "output_type": "execute_result"
    }
   ],
   "source": [
    "collection.find_one()"
   ]
  }
 ],
 "metadata": {
  "kernelspec": {
   "display_name": "Python [conda root]",
   "language": "python",
   "name": "conda-root-py"
  },
  "language_info": {
   "codemirror_mode": {
    "name": "ipython",
    "version": 3
   },
   "file_extension": ".py",
   "mimetype": "text/x-python",
   "name": "python",
   "nbconvert_exporter": "python",
   "pygments_lexer": "ipython3",
   "version": "3.6.1"
  }
 },
 "nbformat": 4,
 "nbformat_minor": 2
}

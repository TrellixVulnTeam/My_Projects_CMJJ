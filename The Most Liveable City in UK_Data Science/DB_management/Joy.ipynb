{
 "cells": [
  {
   "cell_type": "markdown",
   "metadata": {},
   "source": [
    "# reference "
   ]
  },
  {
   "cell_type": "markdown",
   "metadata": {},
   "source": [
    "## reference"
   ]
  },
  {
   "cell_type": "code",
   "execution_count": 3,
   "metadata": {
    "collapsed": true
   },
   "outputs": [],
   "source": [
    "from pymongo import MongoClient\n",
    "client = MongoClient('mongodb://localhost:27017')\n",
    "client.database_names()\n",
    "# Create database and collection objects for convenience\n",
    "db = client.data_diggers\n",
    "collection = db.reference"
   ]
  },
  {
   "cell_type": "code",
   "execution_count": 3,
   "metadata": {},
   "outputs": [
    {
     "data": {
      "text/plain": [
       "<pymongo.results.InsertManyResult at 0x7f983d907120>"
      ]
     },
     "execution_count": 3,
     "metadata": {},
     "output_type": "execute_result"
    }
   ],
   "source": [
    "import json\n",
    "with open('../cities.json', 'r') as f:\n",
    "    cities = json.load(f)\n",
    "collection.drop()\n",
    "collection.insert_many(cities)"
   ]
  },
  {
   "cell_type": "code",
   "execution_count": 4,
   "metadata": {},
   "outputs": [
    {
     "name": "stdout",
     "output_type": "stream",
     "text": [
      "{'_id': ObjectId('5a2805ea2ece250ddc329938'), 'city_name': 'Aberdeen', 'latitude': '57.13514', 'region': 'Aberdeen City', 'uk_region': 'Scotland', 'longitude': '-2.11731'}\n"
     ]
    }
   ],
   "source": [
    "print(collection.find_one())"
   ]
  },
  {
   "cell_type": "markdown",
   "metadata": {},
   "source": [
    "## education"
   ]
  },
  {
   "cell_type": "code",
   "execution_count": 4,
   "metadata": {},
   "outputs": [
    {
     "name": "stdout",
     "output_type": "stream",
     "text": [
      "{'Stowmarket': 0.0109717868338558, 'Holt': 0.0020898641588296763, 'Budleigh Salterton': 0.001567398119122257, 'Pershore': 0.006269592476489028, 'Hagley': 0.0, 'Cullompton': 0.00522466039707419, 'Levenshulme': 0.0, 'Ash': 0.001567398119122257, 'Breadsall': 0.0, 'West Denton': 0.0, 'Skegness': 0.006269592476489028, 'Ashington': 0.003134796238244514, 'Middlewich': 0.002612330198537095, 'West Yorkshire': 0.0, 'Clacton-on-Sea': 0.008881922675026124, 'East Sussex': 0.0005224660397074191, 'Rochdale': 0.030303030303030304, 'Exmouth': 0.00522466039707419, 'Hoddesdon': 0.005747126436781609, 'Southsea': 0.008359456635318705, 'Sunbury-on-Thames': 0.0041797283176593526, 'Purley': 0.006269592476489028, 'High Wycombe': 0.030303030303030304, 'Ashby-de-la-Zouch': 0.004702194357366771, 'Erith': 0.006792058516196447, 'Ashton-under-Lyne': 0.012016718913270637, 'Falmouth': 0.004702194357366771, 'Swindon': 0.05172413793103448, 'Oxted': 0.004702194357366771, 'Hockley': 0.0020898641588296763, 'Peckham': 0.0, 'Belvedere': 0.003134796238244514, 'Harmondsworth': 0.0010449320794148381, 'Sefton': 0.0, 'Chertsey': 0.005747126436781609, 'Ongar': 0.002612330198537095, 'Padstow': 0.0005224660397074191, 'Gravesend': 0.021421107628004178, 'Acklam': 0.0, 'Purfleet': 0.0, 'Lancing': 0.0036572622779519333, 'Bury': 0.029258098223615466, 'Brigg': 0.0041797283176593526, 'Kettering': 0.02612330198537095, 'Heckingham': 0.0, 'Dawlish': 0.0020898641588296763, 'Luton': 0.04493207941483804, 'Leicester': 0.11389759665621735, 'North Tawton': 0.0, 'WHITCHURCH': 0.0, 'Knottingley': 0.0036572622779519333, 'Sale': 0.012016718913270637, 'Solihull': 0.032915360501567396, 'Totnes': 0.008881922675026124, 'Dagenham East': 0.0, 'Poplar': 0.0, 'Broadstairs': 0.006792058516196447, 'Torrington': 0.001567398119122257, 'Aldeburgh': 0.0, 'Cheddleton': 0.0, 'Chesterfield': 0.04179728317659352, 'Shaftesbury': 0.0041797283176593526, 'Southwold': 0.0010449320794148381, 'Exeter': 0.040229885057471264, 'Letchworth Garden City': 0.007836990595611285, 'Lingfield': 0.001567398119122257, 'Ware': 0.013584117032392894, 'Chessington': 0.003134796238244514, 'Ruardean': 0.0005224660397074191, 'Rayleigh': 0.004702194357366771, 'Worksop': 0.013061650992685475, 'Sydenham': 0.0, 'Bexleyheath': 0.006792058516196447, 'St Ives': 0.004702194357366771, 'Witham': 0.0073145245559038665, 'Nottingham': 0.15778474399164055, 'Eastbourne': 0.018808777429467086, 'Northallerton': 0.011494252873563218, 'Little Waltham': 0.0, 'Saltash': 0.004702194357366771, 'Northampton': 0.0741901776384535, 'Chester le Street': 0.0109717868338558, 'Tenbury Wells': 0.0020898641588296763, 'Windsor': 0.014629049111807733, 'Sandy': 0.006269592476489028, 'Gunnislake': 0.0005224660397074191, 'East Tilbury': 0.0, 'Dukinfield': 0.005747126436781609, 'Staplefield': 0.0, 'Burton-upon-Trent': 0.0, 'Pilning': 0.0, 'Husborne Crawley': 0.0, 'Winchester': 0.01671891327063741, 'Brixham': 0.003134796238244514, 'Atherstone': 0.0073145245559038665, 'Redditch': 0.018808777429467086, 'Silsoe': 0.0005224660397074191, 'Bampton': 0.001567398119122257, 'Merriott': 0.0, 'Lowestoft': 0.01567398119122257, 'Bude': 0.0041797283176593526, 'Welling': 0.006792058516196447, 'Huddersfield': 0.042842215256008356, 'Barnetby': 0.0005224660397074191, 'Castle Cary': 0.0010449320794148381, 'Barnard Castle': 0.0041797283176593526, 'Filey': 0.001567398119122257, 'Harrow-on-the-Hill': 0.0, 'Beccles': 0.006792058516196447, 'Sheffield': 0.12121212121212122, 'Bradford-on-Avon': 0.0020898641588296763, 'Haverhill': 0.0073145245559038665, 'Chippenham': 0.01671891327063741, 'Winterborne Whitechurch': 0.0, 'Near Kidderminster': 0.0, 'Loughton': 0.006792058516196447, 'Buckingham': 0.009404388714733543, 'Newcastle upon Tyne': 0.001567398119122257, 'Seaview': 0.0, 'Sandown': 0.0020898641588296763, 'Romney Marsh': 0.001567398119122257, 'Chinnor': 0.0005224660397074191, 'Uttoxeter': 0.007836990595611285, 'Lymington': 0.0073145245559038665, 'Stourbridge': 0.01671891327063741, 'Malvern Wells': 0.0, 'Bury St Edmunds': 0.02612330198537095, 'Wickford': 0.006269592476489028, 'Penryn': 0.0010449320794148381, 'Bletchley': 0.0, 'Godalming': 0.012539184952978056, 'High Peak': 0.008359456635318705, 'Burton-on-Trent': 0.0219435736677116, 'Thame': 0.0020898641588296763, 'Normanton': 0.0041797283176593526, 'Longfield': 0.0041797283176593526, 'Liverpool': 0.14942528735632185, 'Alderley Edge': 0.001567398119122257, 'Fordingbridge': 0.0041797283176593526, 'Quorn': 0.0, 'Minster-on-Sea': 0.0005224660397074191, 'Saltburn': 0.0, 'Newcastle-upon-Tyne': 0.07575757575757576, 'Wolverhampton': 0.06792058516196448, 'Tilbury': 0.0010449320794148381, 'Okehampton': 0.00522466039707419, 'Soham': 0.0, 'Terrington St Clement': 0.0, 'Stansted Mountfitchet': 0.0005224660397074191, 'Upper Heyford': 0.0, 'Rickmansworth': 0.011494252873563218, 'Nr Manningtree': 0.0, 'Consett': 0.009926854754440962, 'Bruton': 0.001567398119122257, 'Ashford Common': 0.0, 'Honiton': 0.004702194357366771, 'Nr Ashburton': 0.0, 'Whitley Bay': 0.0109717868338558, 'Littleborough': 0.0020898641588296763, 'St Leonards-on-Sea': 0.0073145245559038665, 'Beverley': 0.009404388714733543, 'Shanklin': 0.0005224660397074191, 'Doncaster': 0.07366771159874608, 'Chafford Hundred': 0.0, 'Bedlington': 0.0041797283176593526, 'Bridgwater': 0.017763845350052248, 'Carnforth': 0.01044932079414838, 'Epsom Downs': 0.0, 'Leiston': 0.0010449320794148381, 'Gorton': 0.0005224660397074191, 'Greenwich': 0.0005224660397074191, 'Belford': 0.0005224660397074191, 'Cheshunt': 0.0, 'Thorngumbald': 0.0, \"St Mary's\": 0.0, 'Wokingham': 0.018808777429467086, 'Clitheroe': 0.012539184952978056, 'Cramlington': 0.007836990595611285, 'Richmond': 0.018808777429467086, 'Tadley': 0.0036572622779519333, 'Bermondsey': 0.0, 'Shipston-on-Stour': 0.0020898641588296763, 'Haslingden': 0.0010449320794148381, 'Eckington': 0.0, 'Crediton': 0.005747126436781609, 'Ambleside': 0.001567398119122257, 'Bures': 0.0, 'Harmer Hill': 0.0, 'Staines': 0.004702194357366771, 'York': 0.07105538140020899, 'Hayling Island': 0.0020898641588296763, 'Leamington Spa': 0.014629049111807733, 'Spilsby': 0.0036572622779519333, 'Aston': 0.0, 'Horley': 0.004702194357366771, 'Chichester': 0.019853709508881923, 'Herne Bay': 0.0041797283176593526, 'Kirkburton': 0.0, 'Croxteth': 0.0, 'Northwood': 0.006792058516196447, 'Broxbourne': 0.001567398119122257, 'Nr Attleborough': 0.0, 'Calstock': 0.0, 'Royton': 0.0, 'North Walsham': 0.002612330198537095, 'Rossendale': 0.013584117032392894, 'Botley': 0.0, 'St Albans': 0.03134796238244514, 'West Bromich': 0.0, 'Hinton St George': 0.0, 'Brighton': 0.03761755485893417, 'Mexborough': 0.006269592476489028, 'Bodmin': 0.008881922675026124, 'Cobham': 0.004702194357366771, 'Cranbrook': 0.007836990595611285, 'Ixworth': 0.0, 'Gloucester': 0.045454545454545456, 'Whitby': 0.01044932079414838, 'Poulton': 0.0, 'Twickenham': 0.009926854754440962, 'Winsford': 0.006792058516196447, 'Hayes': 0.015151515151515152, 'Shepton Mallet': 0.004702194357366771, 'Fleetwood': 0.004702194357366771, 'Potters Bar': 0.0073145245559038665, 'Attleborough': 0.0041797283176593526, 'Fleet': 0.006269592476489028, 'Woburn': 0.0, 'Merstham': 0.0, 'Ormskirk': 0.017241379310344827, 'Bridlington': 0.006792058516196447, 'Felsted': 0.0, 'Cheltenham': 0.03657262277951933, 'Helston': 0.0109717868338558, 'West Hendon': 0.0, 'Greenfield': 0.0, 'Shenley': 0.0, 'Boldon Colliery': 0.0010449320794148381, 'Hinckley': 0.008359456635318705, 'Kirkby': 0.0, 'Hayle': 0.0036572622779519333, 'Bath': 0.029258098223615466, 'Market Deeping': 0.0, 'Woodbridge': 0.013584117032392894, 'Wylam': 0.0, 'Birmingham': 0.2669801462904911, 'Heanor': 0.004702194357366771, 'Clophill': 0.0, 'LONDON': 0.0, 'Halifax': 0.029258098223615466, 'Brighouse': 0.007836990595611285, 'Chelmsford': 0.04179728317659352, 'Wigton': 0.01044932079414838, 'Stoke-on-Trent': 0.09090909090909091, 'Drybrook': 0.0, 'Berkhamsted': 0.006792058516196447, 'Pinner': 0.008881922675026124, 'Malpas': 0.0020898641588296763, 'Blaydon-on-Tyne': 0.002612330198537095, 'Swanley': 0.004702194357366771, 'Weston-Super-Mare': 0.009404388714733543, 'Scunthorpe': 0.024033437826541274, 'Southall': 0.015151515151515152, 'Kidsgrove': 0.0, 'Openshaw, Manchester': 0.0, 'Ferndown': 0.003134796238244514, \"Nr. King's Lynn\": 0.0, 'Buxton': 0.012539184952978056, 'Chislehurst': 0.00522466039707419, 'Nr Darwen': 0.0, 'Bembridge': 0.0, 'Nailsea': 0.001567398119122257, 'Cumbria': 0.0010449320794148381, 'Appleby-in-Westmorland': 0.002612330198537095, 'Sandhurst': 0.0036572622779519333, 'Wootton': 0.0, 'Malton': 0.006792058516196447, 'Hornchurch': 0.012016718913270637, 'Oundle': 0.0, 'Farnham Common': 0.0, 'Warrington': 0.05172413793103448, 'Ponteland': 0.0, 'Heckmondwike': 0.0020898641588296763, 'Great Cambourne': 0.0, 'Walton on the Naze': 0.0005224660397074191, 'Mirfield': 0.0036572622779519333, 'Ruislip': 0.008881922675026124, 'North Somerset': 0.0, 'Saltburn-By-the-Sea': 0.0, 'Mablethorpe': 0.0010449320794148381, 'Egginton': 0.0, 'Stafford': 0.03239289446185998, 'Newnham': 0.0, 'Gorleston': 0.0, 'Frampton Cotterell': 0.0, \"Rowland's Castle\": 0.0, 'Ringwood': 0.004702194357366771, 'Liss': 0.0020898641588296763, 'Romsey': 0.0073145245559038665, 'Thornaby': 0.0, 'Yarm': 0.0036572622779519333, 'Folkestone': 0.013061650992685475, 'South Croydon': 0.009404388714733543, 'Sedbergh': 0.001567398119122257, 'Chalfont St Giles': 0.0010449320794148381, 'Meonstoke': 0.0, 'Newcastle Under Lyme': 0.0005224660397074191, 'Matlock': 0.014106583072100314, 'Stoke On Trent': 0.0, 'Chathill': 0.0, 'Nr Colchester': 0.001567398119122257, 'Teignmouth': 0.003134796238244514, 'Egremont': 0.0020898641588296763, 'Stratford-upon-Avon': 0.009926854754440962, 'Barrow-upon-Humber': 0.0010449320794148381, 'Wilby': 0.0, 'Iilford': 0.0, 'Longhope': 0.0, 'Coulsdon': 0.0041797283176593526, 'Cheddar': 0.001567398119122257, 'Chingford': 0.0005224660397074191, 'Nr Aylesbury': 0.0, 'Beckenham': 0.008881922675026124, 'Blackpool': 0.02037617554858934, 'Badminton': 0.0005224660397074191, 'Corbridge': 0.0005224660397074191, 'Salisbury': 0.03814002089864159, 'Walton-on-Thames': 0.0036572622779519333, 'Torpoint': 0.003134796238244514, 'Aveley': 0.0, 'Thornton Heath': 0.008359456635318705, 'Hanley Swan': 0.0005224660397074191, 'Tenterden': 0.002612330198537095, 'Frinton-on-Sea': 0.001567398119122257, 'Eccles': 0.0005224660397074191, 'Towcester': 0.007836990595611285, 'Eye': 0.00522466039707419, 'Havant': 0.009404388714733543, 'Peterborough': 0.056948798328108674, 'Billingham': 0.0073145245559038665, 'Westbury': 0.004702194357366771, 'East Grinstead': 0.006269592476489028, 'Hebden Bridge': 0.006269592476489028, 'Dudley': 0.018286311389759665, 'Barnet': 0.012016718913270637, 'Robertsbridge': 0.002612330198537095, 'Skelmersdale': 0.013584117032392894, 'Kingswinford': 0.005747126436781609, 'Mitcham': 0.011494252873563218, 'Lee-on-the-Solent': 0.0005224660397074191, 'Borehamwood': 0.008359456635318705, 'Cinderford': 0.003134796238244514, 'Warwick': 0.014629049111807733, 'Oldbury': 0.014106583072100314, 'Basildon': 0.018808777429467086, 'Crowthorne': 0.003134796238244514, 'N Lincs': 0.0, 'Harpenden': 0.009926854754440962, 'Kendal': 0.011494252873563218, 'Halstead': 0.007836990595611285, 'Clacton on Sea': 0.0, 'Witney': 0.014629049111807733, 'Seaton': 0.0010449320794148381, 'March': 0.0036572622779519333, 'Brighton and Hove': 0.0, 'Etchingham': 0.0010449320794148381, 'Long Ditton': 0.0, 'Welwyn': 0.002612330198537095, 'Marlborough': 0.0073145245559038665, 'Driffield': 0.009404388714733543, 'Crowle': 0.0005224660397074191, 'Wareham': 0.004702194357366771, 'Leyland': 0.012016718913270637, 'Coleford': 0.0041797283176593526, 'Great Missenden': 0.003134796238244514, 'Ottery St Mary': 0.0010449320794148381, 'Essendon': 0.0, 'Fawley': 0.0, 'Sudbury': 0.012016718913270637, 'Nantwich': 0.007836990595611285, 'Wlllenhall': 0.0, 'Rawcliffe': 0.0, 'Crayford': 0.0, 'Skipton': 0.014106583072100314, 'Barnoldswick': 0.0041797283176593526, 'Over Peover': 0.0, 'Hednesford': 0.0, 'Paignton': 0.006269592476489028, 'Camborne': 0.006792058516196447, 'Elland': 0.002612330198537095, 'Bournemouth': 0.025600835945663532, 'Much Wenlock': 0.0010449320794148381, 'Bedminster': 0.0, 'Radcliffe': 0.0, 'Sheringham': 0.0010449320794148381, 'Ashtead': 0.003134796238244514, 'Ledbury': 0.0036572622779519333, 'Cleator Moor': 0.0010449320794148381, 'Ilkley': 0.006269592476489028, 'Devizes': 0.009926854754440962, 'Swaffham': 0.003134796238244514, 'Seascale': 0.0005224660397074191, 'Bridport': 0.00522466039707419, 'Harrow': 0.027168234064785787, 'Wallasey': 0.009404388714733543, 'Gateshead': 0.029780564263322883, 'Bingham': 0.0, 'Dronfield': 0.006792058516196447, 'Watchet': 0.0005224660397074191, 'Midhurst': 0.0020898641588296763, 'Montpelier': 0.0, 'Uckfield': 0.007836990595611285, 'Bottesford': 0.0, 'Axminster': 0.004702194357366771, 'Lightwater': 0.0005224660397074191, 'Emsworth': 0.0036572622779519333, 'Thetford': 0.013584117032392894, 'Hersham': 0.0010449320794148381, 'Moor Row': 0.0, 'Stanley': 0.01044932079414838, 'Hassocks': 0.003134796238244514, 'Rushden': 0.006792058516196447, 'Hartlepool': 0.0219435736677116, 'Bilston': 0.01044932079414838, 'Morecambe': 0.008881922675026124, 'Coleshill': 0.0, 'East Claydon': 0.0, 'Sevenoaks': 0.019853709508881923, 'Oldham': 0.054858934169279, 'Ross-on-Wye': 0.005747126436781609, 'Sherburn-in-Elmet': 0.0, 'Camelford': 0.0010449320794148381, 'Cranleigh': 0.003134796238244514, 'Broughton Astley': 0.0, 'Southend-on-Sea': 0.015151515151515152, 'Hanworth': 0.0, 'Queenborough': 0.0, 'Burford': 0.0005224660397074191, 'Clevedon': 0.003134796238244514, 'Ironville': 0.0, 'Reading': 0.08411703239289446, 'Wooler': 0.0005224660397074191, 'Bamber Bridge': 0.0, 'Bordon': 0.003134796238244514, 'Newcastle-under-Lyme': 0.002612330198537095, 'Newton Ferrers Plymouth': 0.0, 'Dorchester': 0.011494252873563218, 'Biggleswade': 0.005747126436781609, 'Brough': 0.0036572622779519333, 'Weston-super-Mare': 0.006792058516196447, 'Guisborough': 0.002612330198537095, 'Farnsfield': 0.0, 'Aylesford': 0.0041797283176593526, 'Telford': 0.03605015673981191, 'Thirsk': 0.007836990595611285, 'Betchworth': 0.0, 'Radlett': 0.0036572622779519333, 'Heathfield': 0.0041797283176593526, 'Ryde': 0.004702194357366771, 'Rotherham': 0.05067920585161965, 'Longsight': 0.0, 'Northstowe': 0.0, 'Weybridge': 0.003134796238244514, 'Town': 0.0, 'Yelverton': 0.003134796238244514, 'Stone': 0.00522466039707419, 'South Petherton': 0.0005224660397074191, 'Maryport': 0.006792058516196447, 'Riverhead': 0.0, 'Tyne and Wear': 0.0, 'Henley-in-Arden': 0.002612330198537095, 'Alresford': 0.002612330198537095, 'Alford': 0.002612330198537095, 'Havering': 0.0, 'Blakeney': 0.0, 'New Malden': 0.006269592476489028, 'Iver': 0.0010449320794148381, 'Ascot': 0.008359456635318705, 'Ferryhill': 0.004702194357366771, 'Blyth': 0.00522466039707419, 'Hereford': 0.03082549634273772, 'Berwick-upon-Tweed': 0.0073145245559038665, 'Chigwell': 0.00522466039707419, 'Hope Valley': 0.005747126436781609, 'South Brent': 0.0, 'West Molesey': 0.0005224660397074191, 'Martock': 0.0010449320794148381, 'Cambridge': 0.06374085684430512, 'Melton Constable': 0.0, 'Much Hadham': 0.0005224660397074191, 'Brampton': 0.004702194357366771, 'Shildon': 0.0010449320794148381, 'Poulton-le-Fylde': 0.0073145245559038665, 'Whitefield': 0.0, 'Thundersley': 0.0, 'Penrith': 0.014629049111807733, 'Framfield': 0.0, 'Hyde': 0.01044932079414838, 'Taunton': 0.027690700104493208, 'Tadcaster': 0.003134796238244514, 'Glossop': 0.009404388714733543, 'Corsham': 0.0036572622779519333, 'Camden': 0.0, 'Warborough, Wallingford': 0.0, 'Street': 0.003134796238244514, 'Woodhall Spa': 0.001567398119122257, 'Sutton Coldfield': 0.02089864158829676, 'Alfold': 0.0, 'Neston': 0.003134796238244514, 'Chulmleigh': 0.0005224660397074191, 'Swanscombe': 0.0010449320794148381, 'Barton le Clay': 0.0, 'Prenton': 0.007836990595611285, 'Accrington': 0.018808777429467086, 'Ampthill': 0.0, 'Ipswich': 0.04963427377220481, 'Beckermet': 0.0, 'South Ockendon': 0.004702194357366771, 'Altrincham': 0.01619644723092999, 'Delabole': 0.0005224660397074191, 'Ilminster': 0.002612330198537095, 'Newbury': 0.021421107628004178, 'Bideford': 0.008359456635318705, 'Woodley': 0.0, 'Nr Grimsby': 0.0, 'Leyburn': 0.002612330198537095, 'St Austell': 0.01044932079414838, 'Nr Diss': 0.0010449320794148381, 'Church Stretton': 0.001567398119122257, 'Fulbourn': 0.0, 'Albury': 0.0, 'Chipping Campden': 0.001567398119122257, 'Walsingham': 0.0, 'South Shields': 0.014106583072100314, 'Great Yarmouth': 0.021421107628004178, 'Princes Risborough': 0.003134796238244514, 'Stanmore': 0.002612330198537095, 'Cromer': 0.0036572622779519333, 'Cannock': 0.015151515151515152, 'West Hoathly': 0.0, 'Woolacombe': 0.0, 'Newent': 0.001567398119122257, 'Sandbach': 0.00522466039707419, 'Great Oakley': 0.0, 'Lincoln': 0.05329153605015674, 'Penzance': 0.012016718913270637, 'Cradley Heath': 0.002612330198537095, 'Nr Royston': 0.0, 'Didcot': 0.007836990595611285, 'Urmston': 0.0, 'Burbage': 0.0, 'Staines-upon-Thames': 0.0, 'Playden Rye': 0.0, 'Royston': 0.011494252873563218, 'Crawley': 0.02037617554858934, 'Calne': 0.005747126436781609, 'Sheerness': 0.004702194357366771, 'Moretonhampstead': 0.0, 'Stockport': 0.055381400208986416, \"Hayward's Heath\": 0.0, 'Bolton': 0.07471264367816093, 'Cleckheaton': 0.003134796238244514, 'Hastings': 0.006792058516196447, 'Tetbury': 0.0020898641588296763, 'Oakham': 0.011494252873563218, 'Badby': 0.0, 'Banstead': 0.0041797283176593526, 'Spalding': 0.02246603970741902, 'Paulton': 0.0, 'Howden': 0.0, 'Chesham': 0.006269592476489028, 'Lyme Regis': 0.0010449320794148381, 'Maidenhead': 0.02037617554858934, 'Axbridge': 0.0, 'Cambourne': 0.0, 'Croydon': 0.03239289446185998, 'Knowsley': 0.0020898641588296763, 'Westgate-on-Sea': 0.001567398119122257, 'Keston': 0.0, 'Hadlow': 0.0, 'Lytham St Annes': 0.0073145245559038665, 'Belper': 0.009404388714733543, 'Minehead': 0.0041797283176593526, 'Darwen': 0.009404388714733543, 'Surbiton': 0.008881922675026124, 'Par': 0.0020898641588296763, 'Aspley Guise': 0.0, 'Iver Heath': 0.0, 'Cosgrove': 0.0, 'Watlington': 0.001567398119122257, 'Crewkerne': 0.0036572622779519333, 'Weston Super Mare': 0.0, 'Seaforth': 0.0, 'Alcester': 0.00522466039707419, 'Poynton': 0.0005224660397074191, 'Sawbridgeworth': 0.0020898641588296763, 'Carterton': 0.003134796238244514, 'Sowerby Bridge': 0.006792058516196447, 'Fairford': 0.0010449320794148381, 'Aylesbury': 0.030303030303030304, 'Salcombe': 0.0, 'Kidderminster': 0.01619644723092999, 'Beaconsfield': 0.004702194357366771, 'Newton-le-Willows': 0.0041797283176593526, 'Marazion': 0.0, 'Stourport-on-Severn': 0.0041797283176593526, 'Peacehaven': 0.001567398119122257, 'Hythe': 0.003134796238244514, 'Sutton in Ashfield': 0.0, 'Ditchling': 0.0, 'Ashbourne': 0.012016718913270637, 'Truro': 0.019331243469174503, 'Stocksfield': 0.0010449320794148381, 'Petersfield': 0.0073145245559038665, 'Timperley': 0.0, 'Mitcham Junction': 0.0, 'Hitchin': 0.017763845350052248, 'Stroud': 0.019331243469174503, 'Pinxton': 0.0005224660397074191, 'Langley': 0.0005224660397074191, 'West Tytherely': 0.0, 'Willenhall': 0.007836990595611285, 'East Boldon': 0.001567398119122257, 'Market Drayton': 0.006792058516196447, 'North Ferriby': 0.001567398119122257, 'Boscastle': 0.0, 'Horncastle': 0.0020898641588296763, 'New Milton': 0.0036572622779519333, 'Bedworth': 0.005747126436781609, 'Rugby': 0.024033437826541274, 'Epsom': 0.014106583072100314, 'Broseley': 0.0010449320794148381, 'Coventry': 0.0741901776384535, 'Felixstowe': 0.00522466039707419, 'Birchington': 0.0010449320794148381, 'Walthanstow': 0.0, 'Ludlow': 0.0041797283176593526, 'Shefford': 0.002612330198537095, 'Amersham': 0.009926854754440962, 'Little Abington': 0.0, 'Wye': 0.0, 'Lutterworth': 0.006792058516196447, 'Frimley Green, Camberley': 0.0, 'Frodsham': 0.00522466039707419, 'St Helens': 0.025600835945663532, 'Birkenshaw': 0.0, 'Sandiacre': 0.0, 'Cottingham': 0.003134796238244514, 'Blandford': 0.0, 'Dunstable': 0.018286311389759665, 'Sandwell': 0.0, 'Isleworth': 0.006792058516196447, 'Barking': 0.008881922675026124, 'Alston': 0.0010449320794148381, 'Marsworth': 0.0, 'Prudhoe': 0.0036572622779519333, 'Wetherby': 0.0073145245559038665, 'Frimley': 0.0, 'Fareham': 0.019331243469174503, 'Wheatley': 0.0, 'Kenilworth': 0.00522466039707419, 'Catterick Garrison': 0.003134796238244514, 'Smethwick': 0.008881922675026124, 'Westerham': 0.002612330198537095, 'LOUTH': 0.0005224660397074191, 'Combs High Peak': 0.0, 'Verwood': 0.001567398119122257, 'Bagshot': 0.0010449320794148381, 'Canvey Island': 0.005747126436781609, 'Hailsham': 0.004702194357366771, 'Carshalton': 0.008881922675026124, 'Knaresborough': 0.0041797283176593526, 'Colyton': 0.0010449320794148381, 'Steyning': 0.001567398119122257, 'Westerleigh': 0.0, 'Port Isaac': 0.0, 'Lowick': 0.0, 'Dulverton': 0.0005224660397074191, 'Sharpthorne': 0.0, 'Mildenhall': 0.0, 'Stoke-sub-Hamdon': 0.0, 'Browney': 0.0, 'Brierley Hill': 0.006269592476489028, 'Tonbridge': 0.017763845350052248, 'Saxmundham': 0.0036572622779519333, 'Dartmouth': 0.001567398119122257, 'Shoreham-by-Sea': 0.0041797283176593526, 'Abbots Langley': 0.0020898641588296763, 'West Drayton': 0.00522466039707419, 'Padiham': 0.0, 'Ivybridge': 0.004702194357366771, 'Ilford': 0.027690700104493208, 'Halsted': 0.0, 'Nr Wigan': 0.0, 'Glastonbury': 0.0041797283176593526, 'Wexham': 0.0, 'Hull': 0.060083594566353184, 'Brackley': 0.00522466039707419, 'Almondsbury': 0.0, 'Grange-Over-Sands': 0.0, 'Bexhill-on-Sea': 0.006269592476489028, 'Harwich': 0.0041797283176593526, 'East Cowes': 0.0010449320794148381, 'Northwich': 0.018808777429467086, 'Fakenham': 0.004702194357366771, 'Thames Ditton': 0.001567398119122257, 'Wincanton': 0.0010449320794148381, 'Lingwood': 0.0, 'Keswick': 0.002612330198537095, 'Bedford': 0.05642633228840126, 'Rainham': 0.006792058516196447, 'Brockenhurst': 0.0005224660397074191, 'Smallfield': 0.0, 'Southampton': 0.07732497387669801, 'Sturminster Newton': 0.003134796238244514, 'Riding Mill': 0.0, 'Wakefield': 0.04075235109717868, 'Henfield': 0.0, 'Hessle': 0.001567398119122257, 'Newport': 0.014629049111807733, 'Weymouth': 0.01044932079414838, 'Bexley': 0.002612330198537095, 'Welwyn Garden City': 0.0109717868338558, 'Wirral': 0.03970741901776385, 'Wilmslow': 0.005747126436781609, 'Montgomery': 0.0, 'Burnham-on-Crouch': 0.0010449320794148381, 'Aldershot': 0.004702194357366771, 'Kington': 0.0005224660397074191, 'Northolt': 0.005747126436781609, 'Barnehurst': 0.0, 'Winscombe': 0.0020898641588296763, 'Whippingham': 0.0, 'Highbridge': 0.0036572622779519333, 'Washington': 0.012016718913270637, 'Andover': 0.019853709508881923, 'Harleston': 0.001567398119122257, 'Wigan': 0.050156739811912224, 'Manchester': 0.21212121212121213, 'Abbey Wood': 0.0, 'Darlington': 0.024555903866248695, 'Malmesbury': 0.0036572622779519333, 'Broadway': 0.001567398119122257, 'Kirkby Stephen': 0.0010449320794148381, 'Mickleover': 0.0, 'Lynton': 0.0, 'Burnham': 0.0, 'Wells-next-the-Sea': 0.0005224660397074191, 'Westbury-on-Severn': 0.0, 'Rochester': 0.022988505747126436, 'Ulceby': 0.0005224660397074191, 'Holbury': 0.0, 'Kingston upon Thames': 0.013584117032392894, 'Ilkeston': 0.012016718913270637, 'Cirencester': 0.01044932079414838, 'Bridgewater': 0.0, 'Portishead': 0.001567398119122257, 'Market Rasen': 0.0073145245559038665, 'Portland': 0.0005224660397074191, 'Winkleigh': 0.0010449320794148381, 'Fowey': 0.0005224660397074191, 'West Byfleet': 0.0020898641588296763, 'Chepstow': 0.001567398119122257, 'Slough': 0.032915360501567396, 'Great Dunmow': 0.0, 'Winslow': 0.0, 'Henley-on-Thames': 0.006269592476489028, 'Knutsford': 0.00522466039707419, 'Hove': 0.008881922675026124, 'Hindhead': 0.002612330198537095, 'New Barnet': 0.0, 'Tavistock': 0.004702194357366771, 'Egham': 0.0041797283176593526, 'Grantham': 0.021421107628004178, 'Dagenham': 0.02037617554858934, 'Crook': 0.005747126436781609, 'Wivelsfield Green': 0.0, 'Tunbridge Wells': 0.019853709508881923, 'Blackburn': 0.04179728317659352, 'Whyteleafe': 0.0005224660397074191, 'Marton': 0.0, 'Dereham': 0.009404388714733543, 'Kingsbridge': 0.0041797283176593526, 'Mitcheldean': 0.0005224660397074191, 'Leeds': 0.12330198537095088, 'Holmrook': 0.0, 'New Romney': 0.0010449320794148381, 'Crosby': 0.0, 'Colchester': 0.05276907001044932, 'Kinlet': 0.0, 'Heston': 0.0, 'Nr Reading': 0.0, 'Harlow': 0.019853709508881923, 'Polruan': 0.0, 'Hounslow': 0.014106583072100314, 'Congleton': 0.0073145245559038665, 'Basingstoke': 0.029780564263322883, 'Braunton': 0.0020898641588296763, 'Houghton Regis': 0.0, 'Warminster': 0.008359456635318705, 'Yeovil': 0.014629049111807733, \"King's Lynn\": 0.03239289446185998, 'Langport': 0.002612330198537095, 'Horsham': 0.0219435736677116, 'Waltham Abbey': 0.002612330198537095, 'Bromyard': 0.002612330198537095, 'Woking': 0.023510971786833857, 'Redhill': 0.007836990595611285, 'Near Buxton': 0.0, 'Edenbridge': 0.0020898641588296763, 'Ingleby Barwick': 0.0, 'Broadstone': 0.001567398119122257, 'Portsmouth': 0.02612330198537095, 'Wantage': 0.005747126436781609, 'CARSHALTON': 0.0, 'Dorking': 0.009404388714733543, 'Downham Market': 0.003134796238244514, 'Wigston': 0.0073145245559038665, 'Rowlands Gill': 0.001567398119122257, 'Godmanchester': 0.0, 'Ashton Under Lyne': 0.0, 'Middlesbrough': 0.04231974921630094, 'Watford': 0.027690700104493208, 'Maldon': 0.005747126436781609, 'Welford': 0.0, 'Bishop Auckland': 0.019853709508881923, 'Newton Abbott': 0.0, 'Ramsgate': 0.0109717868338558, 'Windlesham': 0.0005224660397074191, 'Carlisle': 0.029258098223615466, 'Gillingham': 0.021421107628004178, 'Lancaster': 0.0219435736677116, 'Keighley': 0.02089864158829676, 'Newport Pagnell': 0.0036572622779519333, 'Umberleigh': 0.0020898641588296763, 'Pulborough': 0.00522466039707419, 'Near Crewe': 0.0, 'Sidcup': 0.01044932079414838, 'Ewhurst': 0.0, 'Ellesmere Port': 0.013584117032392894, 'Somerton': 0.001567398119122257, 'Cossall': 0.0, 'Orpington': 0.017763845350052248, 'Widnes': 0.014629049111807733, 'Barwell': 0.0, 'Reigate': 0.006792058516196447, 'Headley': 0.0, 'Wythall': 0.0, 'Faversham': 0.0073145245559038665, 'Selsey': 0.0, 'Boston': 0.018286311389759665, 'Bracknell': 0.01567398119122257, 'Monmouth': 0.0, 'Letchworth': 0.0010449320794148381, 'Upper Beeding': 0.0, 'Farnborough': 0.014106583072100314, 'Castle Gresley': 0.0, 'Buckhurst Hill': 0.0020898641588296763, 'Lewes': 0.013061650992685475, 'Mottram': 0.0, 'Ellesmere': 0.002612330198537095, 'Chorley': 0.027690700104493208, 'Mansfield': 0.03500522466039707, 'Wisbech': 0.019853709508881923, 'Daventry': 0.008881922675026124, 'Uppingham': 0.0, 'Moreton-in-Marsh': 0.0020898641588296763, 'West Sussex': 0.0005224660397074191, 'Bootle': 0.009926854754440962, 'Salford': 0.02821316614420063, 'Newton Aycliffe': 0.007836990595611285, 'Cleethorpes': 0.006269592476489028, 'Withernsea': 0.0005224660397074191, 'Waterlooville': 0.01619644723092999, 'Leominster': 0.006792058516196447, 'Batley': 0.013584117032392894, 'Cowes': 0.0020898641588296763, 'Brentford': 0.003134796238244514, 'Edgware': 0.011494252873563218, 'Newcastle': 0.014106583072100314, 'Nuneaton': 0.024555903866248695, 'Wellington': 0.005747126436781609, 'Marlow': 0.005747126436781609, 'Forest Row': 0.0010449320794148381, 'Buckfastleigh': 0.0005224660397074191, 'Caterham': 0.0073145245559038665, 'Barnstaple': 0.014629049111807733, 'Saltburn-by-the-Sea': 0.006792058516196447, 'Chorlton': 0.0, 'Braintree': 0.011494252873563218, 'Norwich': 0.10188087774294671, 'Beaworthy': 0.002612330198537095, 'Stockbridge Village': 0.0, 'Halesworth': 0.0020898641588296763, 'Deal': 0.0073145245559038665, 'Tintagel': 0.0, 'Newton Longville': 0.0, 'Bollington': 0.0, 'Cockermouth': 0.0041797283176593526, 'Barnsley South': 0.0, 'Westcliff-on-Sea': 0.005747126436781609, 'Worcester': 0.03187042842215256, 'Kidlington': 0.00522466039707419, 'Hook': 0.008359456635318705, 'Pickering': 0.002612330198537095, 'Alton': 0.008881922675026124, 'Lifton': 0.0, 'Battle': 0.0041797283176593526, 'Lostwithiel': 0.0010449320794148381, 'Wingate': 0.001567398119122257, 'Studley': 0.0020898641588296763, 'Farnham': 0.013061650992685475, 'Knebworth': 0.0005224660397074191, 'Middlesex': 0.001567398119122257, 'Sompting': 0.0, 'Lymm': 0.002612330198537095, 'Margate': 0.006792058516196447, 'Ash Vale': 0.0, 'Prescot': 0.008881922675026124, 'Craven Arms': 0.0036572622779519333, 'North Petherton': 0.0, 'Hatfield': 0.008881922675026124, 'Snodland': 0.001567398119122257, 'Hemel Hempstead': 0.025600835945663532, 'Cholsey': 0.0, 'Ashford': 0.03082549634273772, 'Hebburn': 0.004702194357366771, 'Beaminster': 0.0020898641588296763, 'Hucknall': 0.0, 'Trimdon Station': 0.0010449320794148381, 'Bourne End': 0.0010449320794148381, 'Newthorpe': 0.0, 'Shepperton': 0.002612330198537095, 'Stoke-Sub-Hamdon': 0.0005224660397074191, 'Market Weighton': 0.0, 'Farnham Royal': 0.0, 'Teddington': 0.003134796238244514, 'Liphook': 0.0020898641588296763, 'Dunmow': 0.0041797283176593526, 'Pocklington': 0.0, 'Droitwich Spa': 0.0010449320794148381, 'Prestwich': 0.0, 'Markfield': 0.0010449320794148381, 'Leatherhead': 0.011494252873563218, 'Rochford': 0.004702194357366771, 'Middleham': 0.0, 'Hitcham': 0.0, 'Oxford': 0.047021943573667714, 'Stratford': 0.0, 'West Bromwich': 0.01044932079414838, 'Trowbridge': 0.012016718913270637, 'Chard': 0.00522466039707419, 'Hackney': 0.0010449320794148381, 'Lydney': 0.00522466039707419, 'Emberton': 0.0, 'Fittleworth': 0.0, 'Sherborne': 0.007836990595611285, 'Tipton': 0.008881922675026124, 'Frome': 0.009926854754440962, 'Dalton-in-Furness': 0.0020898641588296763, 'Brockworth': 0.0, 'Lyndhurst': 0.0020898641588296763, 'Shipley': 0.008359456635318705, 'Southminster': 0.0010449320794148381, 'Kenley': 0.0005224660397074191, 'Harrogate': 0.02612330198537095, 'Grange-over-Sands': 0.0036572622779519333, 'Stonehouse': 0.00522466039707419, 'Hendon': 0.0, 'Bristol': 0.16823406478578892, 'East Malling': 0.0, 'Freshwater': 0.0, 'Southam': 0.00522466039707419, 'Hawes': 0.0, 'Wedmore': 0.0005224660397074191, 'Hexham': 0.012539184952978056, 'Hampton': 0.006269592476489028, 'West Malling': 0.005747126436781609, 'Wallingford': 0.006792058516196447, 'Sidmouth': 0.002612330198537095, 'Pudsey': 0.008359456635318705, 'Todmorden': 0.0036572622779519333, 'Choppington': 0.0020898641588296763, 'Pevensey': 0.0010449320794148381, 'Nr. Bury': 0.0, 'Alfreton': 0.01671891327063741, 'Oswestry': 0.008359456635318705, 'Stoke Poges': 0.0005224660397074191, 'Ventnor': 0.002612330198537095, 'Coniston': 0.0005224660397074191, 'Chipping Norton': 0.0073145245559038665, 'Heywood': 0.00522466039707419, 'Uxbridge': 0.01619644723092999, 'Halesowen': 0.01044932079414838, 'Workington': 0.009926854754440962, 'Bulwell': 0.0, 'Melksham': 0.00522466039707419, 'Amesbury': 0.0, 'Barrow-in-Furness': 0.01671891327063741, 'Crewe': 0.019853709508881923, 'Winchelsea': 0.0005224660397074191, 'Alconbury Weald': 0.0, 'Ickenham': 0.0, 'Goole': 0.012539184952978056, 'Leigh-on-Sea': 0.008881922675026124, 'Crowborough': 0.0041797283176593526, 'Erdington': 0.0, 'Enfield': 0.025078369905956112, 'Bransford': 0.0, 'Barton-upon-Humber': 0.002612330198537095, 'Littlehampton': 0.0073145245559038665, 'Blandford Forum': 0.009404388714733543, 'Bucknell': 0.0005224660397074191, 'Hengrove': 0.0, 'Ombersley': 0.0, 'Sandwich': 0.0020898641588296763, 'Perranporth': 0.0, 'Shavington': 0.0, 'Seaham': 0.00522466039707419, 'Gerrards Cross': 0.004702194357366771, 'Bromsgrove': 0.012016718913270637, 'Stewartby': 0.0, 'Holyport': 0.0, 'Houghton le Spring': 0.011494252873563218, 'Higham Ferrers': 0.0, 'Wythenshawe': 0.0005224660397074191, 'Diss': 0.006792058516196447, 'Dymock': 0.0, 'Berkeley': 0.001567398119122257, 'East Molesey': 0.001567398119122257, 'Penkridge': 0.0, 'St Neots': 0.009926854754440962, 'Bungay': 0.0036572622779519333, 'Rowley Regis': 0.0041797283176593526, 'Westcliffe-on-Sea': 0.0, 'Norton': 0.0, 'Maidstone': 0.03239289446185998, 'Tadworth': 0.0041797283176593526, 'Bushey': 0.009926854754440962, 'Milton Keynes': 0.061128526645768025, 'Dagnall': 0.0, 'Totland Bay': 0.0, 'Newton Abbot': 0.01671891327063741, 'Nr March': 0.0, 'Waltham Cross': 0.012016718913270637, 'Nelson': 0.013584117032392894, 'Christchurch': 0.008359456635318705, 'Stoke': 0.0, 'Peterlee': 0.01044932079414838, 'Olney': 0.0010449320794148381, 'Barkingside': 0.0, 'Ibstock': 0.0010449320794148381, 'Camberley': 0.011494252873563218, 'Barnsley': 0.03970741901776385, 'Banwell': 0.0, 'Guildford': 0.025078369905956112, 'Callington': 0.001567398119122257, 'Ludgershall': 0.0, 'Whitehaven': 0.007836990595611285, 'Copthorne': 0.0, 'Thatcham': 0.009404388714733543, 'Warlingham': 0.001567398119122257, 'Tooting, London': 0.0, 'Evesham': 0.011494252873563218, 'Durham': 0.03239289446185998, 'London': 1.0, 'Shrewsbury': 0.03396029258098224, 'Kingswood': 0.0, 'Liskeard': 0.007836990595611285, 'Edmonton': 0.0, 'Dartford': 0.01567398119122257, 'Retford': 0.01044932079414838, 'Hadleigh': 0.0, 'Redcar': 0.009926854754440962, 'Birstall': 0.0, 'Haltwhistle': 0.0005224660397074191, 'Shotton Colliery': 0.0, 'Bognor Regis': 0.008359456635318705, 'Rugeley': 0.009404388714733543, 'Stokesley': 0.0, 'Polegate': 0.0005224660397074191, 'Alnwick': 0.006792058516196447, 'Arlesey': 0.0005224660397074191, 'Brandon': 0.0020898641588296763, 'Milnthorpe': 0.001567398119122257, 'Whitchurch': 0.00522466039707419, 'Millom': 0.0041797283176593526, 'Deepcut': 0.0, 'Plumstead': 0.0, 'Sleaford': 0.01044932079414838, 'Wembley': 0.01044932079414838, 'Wotton-under-Edge': 0.0036572622779519333, 'Banbury': 0.022988505747126436, 'Southwell': 0.001567398119122257, 'Buntingford': 0.0036572622779519333, 'North Shields': 0.0109717868338558, 'Dove Holes': 0.0, 'Ulverston': 0.005747126436781609, 'Cleator': 0.0, 'Coalville': 0.012539184952978056, 'Newcastle-Under-Lyme': 0.0010449320794148381, 'Leek': 0.007836990595611285, 'Swanley Village': 0.0, 'Wimborne': 0.012539184952978056, 'Newmarket': 0.0073145245559038665, 'Louth': 0.008881922675026124, 'Sutton-in-Ashfield': 0.007836990595611285, 'Radstock': 0.009926854754440962, 'Templecombe': 0.001567398119122257, 'Southport': 0.01567398119122257, 'Arundel': 0.0036572622779519333, 'Broughton-in-Furness': 0.0, 'Droitwich': 0.004702194357366771, 'Wapping': 0.0, 'Virginia Water': 0.0010449320794148381, 'Holmfirth': 0.008359456635318705, 'Kirkby-in-Furness': 0.0, 'Looe': 0.001567398119122257, 'Nr Thetford': 0.0, 'Bacup': 0.004702194357366771, 'Ripley': 0.00522466039707419, 'Colnbrook': 0.0, 'Chester': 0.030303030303030304, 'Ripon': 0.01044932079414838, 'Bicester': 0.01044932079414838, 'Seaford': 0.0036572622779519333, 'Liversedge': 0.0041797283176593526, 'Bingley': 0.006269592476489028, 'Woodchurch': 0.0, 'Anstey': 0.0, 'Blidworth': 0.0, 'Fillongley': 0.0, 'Leighton Buzzard': 0.013061650992685475, 'Selby': 0.013061650992685475, 'Seahouses': 0.0005224660397074191, 'Windermere': 0.0020898641588296763, 'Castleford': 0.008881922675026124, 'Leigh': 0.008881922675026124, 'Backwell': 0.0, 'Swanage': 0.003134796238244514, 'Epping': 0.0036572622779519333, 'Crouch End': 0.0, 'Wednesbury': 0.011494252873563218, 'Pewsey': 0.002612330198537095, 'Stanford-le-Hope': 0.00522466039707419, 'Kingsteignton, Newton Abbot': 0.0, 'Coggeshall': 0.0, 'Hindley, Wigan': 0.0, 'St Columb': 0.0005224660397074191, 'St Bees': 0.0, 'Tamworth': 0.025078369905956112, 'Stansted': 0.0005224660397074191, 'Grimsby': 0.02821316614420063, 'Montacute': 0.0, 'Via Lancaster': 0.0, 'Chatham': 0.018286311389759665, 'Hertford': 0.0109717868338558, 'Wotton-Under-Edge': 0.0, 'Staple Hill': 0.0, 'Shifnal': 0.003134796238244514, 'Woodstock': 0.001567398119122257, 'Haywards Heath': 0.01567398119122257, 'Launceston': 0.008359456635318705, 'Bourne': 0.004702194357366771, 'Ely': 0.013061650992685475, 'Meriden': 0.0, 'Yarmouth': 0.0, 'Haslemere': 0.0041797283176593526, 'Scarborough': 0.01671891327063741, 'Benfleet': 0.008359456635318705, 'Crumpsall': 0.0, 'Alsager': 0.0, 'Charlbury': 0.0, 'West Wickham': 0.0041797283176593526, 'Esher': 0.00522466039707419, 'Bridgnorth': 0.00522466039707419, 'Jarrow': 0.006792058516196447, 'Morden': 0.00522466039707419, 'Pontefract': 0.024033437826541274, 'Billingshurst': 0.002612330198537095, 'Gainsborough': 0.012539184952978056, 'Tidworth': 0.0020898641588296763, 'Stoke on Trent': 0.0005224660397074191, 'Ramsey': 0.0, 'Torquay': 0.014629049111807733, 'Kingston-upon-Hull': 0.005747126436781609, 'Settle': 0.002612330198537095, 'Macclesfield': 0.019853709508881923, 'Lydbrook': 0.0, 'Chatteris': 0.0010449320794148381, 'Dover': 0.01671891327063741, 'Old Harlow': 0.0, 'Burnham-on-Sea': 0.001567398119122257, 'Bradford': 0.08620689655172414, 'Sutton': 0.013061650992685475, 'Immingham': 0.003134796238244514, \"Bishop's Stortford\": 0.015151515151515152, 'Ryton': 0.003134796238244514, 'Wadebridge': 0.002612330198537095, 'Godstone': 0.0005224660397074191, 'Billericay': 0.007836990595611285, 'Burntwood': 0.00522466039707419, 'Hartfield': 0.0005224660397074191, 'Poole': 0.02246603970741902, 'Hillingdon': 0.0, 'Tewkesbury': 0.008881922675026124, 'Wymondham': 0.0036572622779519333, 'Canterbury': 0.025600835945663532, 'Melton Mowbray': 0.011494252873563218, 'Bedale': 0.0041797283176593526, 'South Molton': 0.003134796238244514, 'Cricklade': 0.0, 'West Bridgford': 0.0005224660397074191, 'Stalybridge': 0.006792058516196447, 'Wadhurst': 0.003134796238244514, 'Seaton Delaval': 0.0, 'Woodford Bridge': 0.0, 'Burgess Hill': 0.005747126436781609, 'Walsall': 0.054336468129571575, 'Colne': 0.006792058516196447, 'Preston': 0.09143155694879833, 'Tiverton': 0.009404388714733543, 'Walthamstow': 0.0010449320794148381, 'Thornton-Cleveleys': 0.006269592476489028, 'North Tyneside': 0.0, 'Rocester': 0.0, 'Frizington': 0.0020898641588296763, 'Manningtree': 0.002612330198537095, 'Askam-in-Furness': 0.0005224660397074191, 'Bakewell': 0.0041797283176593526, 'Ingatestone': 0.002612330198537095, 'Braunstone': 0.0, 'Runcorn': 0.02037617554858934, 'Ossett': 0.0041797283176593526, 'Lechlade': 0.0010449320794148381, 'Hunstanton': 0.001567398119122257, 'Hornsea': 0.0020898641588296763, 'Huntingdon': 0.019853709508881923, 'Feltham': 0.009926854754440962, 'Romford': 0.03082549634273772, 'Greenford': 0.006269592476489028, 'Dursley': 0.00522466039707419, 'Hurley': 0.0, 'Rye': 0.0036572622779519333, 'Otley': 0.0036572622779519333, 'Faringdon': 0.0041797283176593526, 'Malvern Link': 0.0, 'Tameside': 0.0005224660397074191, 'Stockbridge': 0.0020898641588296763, 'Woolmer Green': 0.0, 'St Agnes': 0.0005224660397074191, 'Corby': 0.013061650992685475, 'Greenhithe': 0.0005224660397074191, 'Bishops Castle': 0.0010449320794148381, 'Nr Worksop': 0.0, 'Wimbledon': 0.0, 'Tarporley': 0.0041797283176593526, 'Petworth': 0.0020898641588296763, 'Ilfracombe': 0.002612330198537095, 'Baldock': 0.0036572622779519333, 'Morpeth': 0.017241379310344827, 'Addlestone': 0.00522466039707419, 'Wallsend': 0.008359456635318705, 'Kings Langley': 0.0020898641588296763, 'Lichfield': 0.012016718913270637, 'Worcester Park': 0.003134796238244514, 'Woodford Green': 0.007836990595611285, 'Burnley': 0.030303030303030304, 'Swinton': 0.0, 'Wells': 0.005747126436781609, 'Cheadle': 0.014629049111807733, 'Swadlincote': 0.017241379310344827, 'Malvern': 0.01044932079414838, 'Ashburton': 0.0005224660397074191, 'Nr Westerham': 0.0, 'Henlow': 0.001567398119122257, 'Redruth': 0.006792058516196447, 'Wellingborough': 0.019853709508881923, 'Holsworthy': 0.0036572622779519333, 'Upminster': 0.006269592476489028, 'Gosport': 0.014629049111807733, 'Worthing': 0.018808777429467086, 'Wallington': 0.0073145245559038665, 'Bewdley': 0.0020898641588296763, 'Wilmington': 0.0005224660397074191, 'Birkenhead': 0.009404388714733543, 'Plymouth': 0.05642633228840126, 'Atherton': 0.0, 'Laindon': 0.0, 'Newquay': 0.004702194357366771, 'New Mills': 0.0, 'Derby': 0.0768025078369906, 'Hungerford': 0.0036572622779519333, 'Loughborough': 0.028735632183908046, 'Sittingbourne': 0.017241379310344827, 'Shropshire': 0.0, 'Ealing': 0.0, 'Spennymoor': 0.006792058516196447, 'Brentwood': 0.017241379310344827, 'Tring': 0.0041797283176593526, 'Bromley': 0.018808777429467086, 'Abingdon': 0.017763845350052248, 'Denham Green': 0.0, 'Mayfield': 0.001567398119122257, 'Yateley': 0.0036572622779519333, 'Bishops Stortford': 0.0, 'Dewsbury': 0.015151515151515152, 'Clifton': 0.0, 'Stevenage': 0.021421107628004178, 'Weare': 0.0, 'Stockton-on-Tees': 0.03239289446185998, 'Shapwick': 0.0, 'Paddock Wood': 0.0, 'Sunderland': 0.04075235109717868, 'Eastleigh': 0.014629049111807733, 'Stamford': 0.007836990595611285, 'Whitstable': 0.0036572622779519333, 'Newark': 0.024033437826541274, 'Grays': 0.0109717868338558, 'Saffron Walden': 0.008881922675026124, 'Market Harborough': 0.008881922675026124, 'Newhaven': 0.0020898641588296763, 'Yate': 0.0005224660397074191}\n"
     ]
    },
    {
     "data": {
      "text/plain": [
       "1323"
      ]
     },
     "execution_count": 4,
     "metadata": {},
     "output_type": "execute_result"
    }
   ],
   "source": [
    "collection = db.education\n",
    "import json\n",
    "with open('../normalize_dataset/education.json', 'r') as f:\n",
    "    education = json.load(f)\n",
    "\n",
    "l = []\n",
    "print(education)\n",
    "for edu in education:\n",
    "    l.append({'city_name':edu,'school_number_normalize_maxmin':education[edu]})\n",
    "\n",
    "collection.drop()\n",
    "collection.insert_many(l)\n",
    "collection.count()"
   ]
  },
  {
   "cell_type": "markdown",
   "metadata": {},
   "source": [
    "## hospital"
   ]
  },
  {
   "cell_type": "code",
   "execution_count": 6,
   "metadata": {},
   "outputs": [
    {
     "data": {
      "text/plain": [
       "520"
      ]
     },
     "execution_count": 6,
     "metadata": {},
     "output_type": "execute_result"
    }
   ],
   "source": [
    "collection = db.hospitals\n",
    "import json\n",
    "with open('../normalize_dataset/hospitals.json', 'r') as f:\n",
    "    hospitals = json.load(f)\n",
    "\n",
    "l = []\n",
    "for hos in hospitals:\n",
    "    l.append({'city_name':hos,'hospitals_number_normalize_maxmin':hospitals[hos]})\n",
    "\n",
    "collection.drop()\n",
    "collection.insert_many(l)\n",
    "collection.count()"
   ]
  },
  {
   "cell_type": "markdown",
   "metadata": {},
   "source": [
    "## pubs"
   ]
  },
  {
   "cell_type": "code",
   "execution_count": 7,
   "metadata": {},
   "outputs": [
    {
     "data": {
      "text/plain": [
       "376"
      ]
     },
     "execution_count": 7,
     "metadata": {},
     "output_type": "execute_result"
    }
   ],
   "source": [
    "collection = db.pubs\n",
    "import json\n",
    "with open('../normalize_dataset/pubs.json', 'r') as f:\n",
    "    pubs = json.load(f)\n",
    "\n",
    "l = []\n",
    "for pub in pubs:\n",
    "    l.append({'city_name':pub,'pubs_number_normalize_maxmin':pubs[pub]})\n",
    "# l\n",
    "collection.drop()\n",
    "collection.insert_many(l)\n",
    "collection.count()"
   ]
  },
  {
   "cell_type": "markdown",
   "metadata": {},
   "source": [
    "## rail_way station"
   ]
  },
  {
   "cell_type": "code",
   "execution_count": 8,
   "metadata": {},
   "outputs": [
    {
     "data": {
      "text/plain": [
       "389"
      ]
     },
     "execution_count": 8,
     "metadata": {},
     "output_type": "execute_result"
    }
   ],
   "source": [
    "collection = db.railway_station\n",
    "import json\n",
    "with open('../normalize_dataset/railway_station.json', 'r') as f:\n",
    "    stations = json.load(f)\n",
    "\n",
    "l = []\n",
    "for station in stations:\n",
    "    l.append({'city_name':station,'stations_number_normalize_maxmin':stations[station]})\n",
    "\n",
    "collection.drop()\n",
    "collection.insert_many(l)\n",
    "collection.count()"
   ]
  },
  {
   "cell_type": "code",
   "execution_count": 9,
   "metadata": {},
   "outputs": [
    {
     "data": {
      "text/plain": [
       "['houseprice_collection',\n",
       " 'education',\n",
       " 'training_data',\n",
       " 'unemployment',\n",
       " 'trafficNoise',\n",
       " 'hospitals',\n",
       " 'population_collection',\n",
       " 'gva_collection',\n",
       " 'UniRank',\n",
       " 'happinessRank',\n",
       " 'railway_station',\n",
       " 'pubs',\n",
       " 'roadTraffic',\n",
       " 'reference',\n",
       " 'TotalJobs']"
      ]
     },
     "execution_count": 9,
     "metadata": {},
     "output_type": "execute_result"
    }
   ],
   "source": [
    "db.collection_names()"
   ]
  },
  {
   "cell_type": "markdown",
   "metadata": {},
   "source": [
    "# total"
   ]
  },
  {
   "cell_type": "code",
   "execution_count": 10,
   "metadata": {},
   "outputs": [
    {
     "data": {
      "text/plain": [
       "1742"
      ]
     },
     "execution_count": 10,
     "metadata": {},
     "output_type": "execute_result"
    }
   ],
   "source": [
    "collection = db.training_data\n",
    "collection.drop()\n",
    "collection.insert_many(cities)\n",
    "collection.count()"
   ]
  },
  {
   "cell_type": "code",
   "execution_count": 11,
   "metadata": {
    "collapsed": true
   },
   "outputs": [],
   "source": [
    "# house_price\n",
    "new_collection = db.houseprice_collection\n",
    "# print(new_collection.find_one())\n",
    "collects = new_collection.find()\n",
    "for collect in collects:\n",
    "    result = collection.update_many({'region': collect['city_name']},{'$inc': {'house_price': collect['Normalization']}})\n",
    "    if result.matched_count == 0:\n",
    "        result1 = collection.update_one({'city_name': collect['city_name']},{'$inc': {'house_price': collect['Normalization']}})\n",
    "#         print(result1.matched_count)"
   ]
  },
  {
   "cell_type": "code",
   "execution_count": 12,
   "metadata": {
    "collapsed": true
   },
   "outputs": [],
   "source": [
    "# school_number\n",
    "new_collection = db.education\n",
    "# print(new_collection.find_one())\n",
    "collects = new_collection.find()\n",
    "for collect in collects:\n",
    "    result = collection.update_many({'region': collect['city_name']},{'$inc': {'school_number': collect['school_number_normalize_maxmin']}})\n",
    "    if result.matched_count == 0:\n",
    "        result1 = collection.update_one({'city_name': collect['city_name']},{'$inc': {'school_number': collect['school_number_normalize_maxmin']}})\n",
    "#         print(result1.matched_count)"
   ]
  },
  {
   "cell_type": "code",
   "execution_count": 13,
   "metadata": {
    "collapsed": true
   },
   "outputs": [],
   "source": [
    "# unemployment\n",
    "new_collection = db.unemployment\n",
    "# print(new_collection.find_one())\n",
    "collects = new_collection.find()\n",
    "for collect in collects:\n",
    "    result = collection.update_many({'region': collect['city_name']},{'$inc': {'unemployment': float(collect['Unemployment_norm'])}})\n",
    "    if result.matched_count == 0:\n",
    "        result1 = collection.update_one({'city_name': collect['city_name']},{'$inc': {'unemployment': float(collect['Unemployment_norm'])}})\n",
    "#         print(result1.matched_count)"
   ]
  },
  {
   "cell_type": "code",
   "execution_count": 14,
   "metadata": {},
   "outputs": [
    {
     "name": "stdout",
     "output_type": "stream",
     "text": [
      "{'_id': ObjectId('5a26b5cf2ece256aa224e5b9'), 'city_name': 'Stockton-on-Tees', 'Number of people exposed to traffic noise': 9100.0, 'Normalized value of Number of people exposed to traffic noise': -0.26221699976832685}\n"
     ]
    }
   ],
   "source": [
    "# trafficNoise\n",
    "new_collection = db.trafficNoise\n",
    "print(new_collection.find_one())\n",
    "collects = new_collection.find()\n",
    "for collect in collects:\n",
    "    result = collection.update_many({'region': collect['city_name']},{'$inc': {'traffic_noise': collect['Normalized value of Number of people exposed to traffic noise']}})\n",
    "    if result.matched_count == 0:\n",
    "        result1 = collection.update_one({'city_name': collect['city_name']},{'$inc': {'traffic_noise': collect['Normalized value of Number of people exposed to traffic noise']}})\n",
    "#         print(result1.matched_count)"
   ]
  },
  {
   "cell_type": "code",
   "execution_count": 15,
   "metadata": {},
   "outputs": [
    {
     "name": "stdout",
     "output_type": "stream",
     "text": [
      "{'_id': ObjectId('5a2805eb2ece250ddc32a531'), 'city_name': 'Barnstaple', 'hospitals_number_normalize_maxmin': 0.0}\n"
     ]
    }
   ],
   "source": [
    "# hospitals\n",
    "new_collection = db.hospitals\n",
    "print(new_collection.find_one())\n",
    "collects = new_collection.find()\n",
    "for collect in collects:\n",
    "    result = collection.update_many({'region': collect['city_name']},{'$inc': {'hospitals_number': collect['hospitals_number_normalize_maxmin']}})\n",
    "    if result.matched_count == 0:\n",
    "        result1 = collection.update_one({'city_name': collect['city_name']},{'$inc': {'hospitals_number': collect['hospitals_number_normalize_maxmin']}})\n",
    "#         print(result1.matched_count)"
   ]
  },
  {
   "cell_type": "code",
   "execution_count": 16,
   "metadata": {},
   "outputs": [
    {
     "name": "stdout",
     "output_type": "stream",
     "text": [
      "{'_id': ObjectId('5a26b5e82ece256a8a3b9d40'), 'city_name': 'Aberdeen', 'countries': 'United Kingdom', 'population': '222793', 'N_population': '-0.260979594'}\n"
     ]
    }
   ],
   "source": [
    "# population_collection\n",
    "new_collection = db.population_collection\n",
    "print(new_collection.find_one())\n",
    "collects = new_collection.find()\n",
    "for collect in collects:\n",
    "    result = collection.update_many({'region': collect['city_name']},{'$inc': {'population': float(collect['N_population'])}})\n",
    "    if result.matched_count == 0:\n",
    "        result1 = collection.update_one({'city_name': collect['city_name']},{'$inc': {'population': float(collect['N_population'])}})"
   ]
  },
  {
   "cell_type": "code",
   "execution_count": 17,
   "metadata": {},
   "outputs": [
    {
     "name": "stdout",
     "output_type": "stream",
     "text": [
      "{'_id': ObjectId('5a26b5f92ece256a8a3b9f38'), 'city_name': 'Aberdeen', 'GVA_per_worker_per_month': '56800', 'GVA_norm': '1.6172106581', 'GVA_max_min_norm': '0.6071428571'}\n"
     ]
    }
   ],
   "source": [
    "# gva_collection\n",
    "new_collection = db.gva_collection\n",
    "print(new_collection.find_one())\n",
    "collects = new_collection.find()\n",
    "for collect in collects:\n",
    "    result = collection.update_many({'region': collect['city_name']},{'$inc': {'GVA': float(collect['GVA_max_min_norm'])}})\n",
    "    if result.matched_count == 0:\n",
    "        result1 = collection.update_one({'city_name': collect['city_name']},{'$inc': {'GVA': float(collect['GVA_max_min_norm'])}})\n",
    "#         print(result1.matched_count)"
   ]
  },
  {
   "cell_type": "code",
   "execution_count": 18,
   "metadata": {},
   "outputs": [
    {
     "name": "stdout",
     "output_type": "stream",
     "text": [
      "56\n"
     ]
    }
   ],
   "source": [
    "#UniRank\n",
    "new_collection = db.UniRank\n",
    "# for i in new_collection.find():\n",
    "#     print(i)\n",
    "print(new_collection.count())\n",
    "collects = new_collection.find()\n",
    "for collect in collects:\n",
    "    result = collection.update_many({'region': collect['city_name']},{'$inc': {'best_Uni_ranking': collect['total_jobs_normalized_value']}})\n",
    "    if result.matched_count == 0:\n",
    "        result1 = collection.update_one({'city_name': collect['city_name']},{'$inc': {'best_Uni_ranking':collect['total_jobs_normalized_value']}})\n",
    "#         print(result1.matched_count)"
   ]
  },
  {
   "cell_type": "code",
   "execution_count": 19,
   "metadata": {},
   "outputs": [
    {
     "name": "stdout",
     "output_type": "stream",
     "text": [
      "{'_id': ObjectId('5a26b5d72ece256aa224e5f5'), 'city_name': 'United Kingdom', 'Average happiness rating': 7.38, 'Sample size': 304740.0, 'Normalized value of happiness ranking': 0.38}\n"
     ]
    }
   ],
   "source": [
    "#happinessRank\n",
    "new_collection = db.happinessRank\n",
    "print(new_collection.find_one())\n",
    "collects = new_collection.find()\n",
    "for collect in collects:\n",
    "    result = collection.update_many({'region': collect['city_name']},{'$inc': {'happiness': float(collect['Normalized value of happiness ranking'])}})\n",
    "    result = collection.update_many({'region': collect['city_name']},{'$inc': {'sample':int(collect['Sample size'])}})\n",
    "    if result.matched_count == 0:\n",
    "        result1 = collection.update_one({'city_name': collect['city_name']},{'$inc': {'happiness':float(collect['Normalized value of happiness ranking'])}})\n",
    "        result1 = collection.update_one({'city_name': collect['city_name']},{'$inc': {'sample':int(collect['Sample size'])}})\n",
    "#         print(result1.matched_count)"
   ]
  },
  {
   "cell_type": "code",
   "execution_count": 20,
   "metadata": {},
   "outputs": [
    {
     "name": "stdout",
     "output_type": "stream",
     "text": [
      "{'_id': ObjectId('5a2805eb2ece250ddc32a8b1'), 'city_name': 'Mendip', 'stations_number_normalize_maxmin': 0.0}\n"
     ]
    }
   ],
   "source": [
    "# railway_station\n",
    "new_collection = db.railway_station\n",
    "print(new_collection.find_one())\n",
    "collects = new_collection.find()\n",
    "for collect in collects:\n",
    "    result = collection.update_many({'region': collect['city_name']},{'$inc': {'stations_number': collect['stations_number_normalize_maxmin']}})\n",
    "    if result.matched_count == 0:\n",
    "        result1 = collection.update_one({'city_name': collect['city_name']},{'$inc': {'stations_number':collect['stations_number_normalize_maxmin']}})\n",
    "#         print(result1.matched_count)"
   ]
  },
  {
   "cell_type": "code",
   "execution_count": 21,
   "metadata": {},
   "outputs": [
    {
     "name": "stdout",
     "output_type": "stream",
     "text": [
      "{'_id': ObjectId('5a2805eb2ece250ddc32a739'), 'city_name': 'Mendip', 'pubs_number_normalize_maxmin': 0.25073746312684364}\n"
     ]
    }
   ],
   "source": [
    "# pubs\n",
    "new_collection = db.pubs\n",
    "print(new_collection.find_one())\n",
    "collects = new_collection.find()\n",
    "for collect in collects:\n",
    "    result = collection.update_many({'region': collect['city_name']},{'$inc': {'pubs_number': collect['pubs_number_normalize_maxmin']}})\n",
    "    if result.matched_count == 0:\n",
    "        result1 = collection.update_one({'city_name': collect['city_name']},{'$inc': {'pubs_number':collect['pubs_number_normalize_maxmin']}})\n",
    "#         print(result1.matched_count)"
   ]
  },
  {
   "cell_type": "code",
   "execution_count": 22,
   "metadata": {},
   "outputs": [
    {
     "name": "stdout",
     "output_type": "stream",
     "text": [
      "{'_id': ObjectId('5a26b5c42ece256aa224e51a'), 'city_name': 'County Durham', 'Delay 2015': 21.2, 'Delay 2016': 22.4, 'Delay_2015_normalized_value': -0.8983897493709471, 'Delay_2016_normalized_value': -0.8705272692129561}\n"
     ]
    }
   ],
   "source": [
    "#roadTraffic\n",
    "new_collection = db.roadTraffic\n",
    "print(new_collection.find_one())\n",
    "collects = new_collection.find()\n",
    "for collect in collects:\n",
    "    result = collection.update_many({'region': collect['city_name']},{'$inc': {'road_traffic_2015': collect['Delay_2015_normalized_value']}})\n",
    "    result = collection.update_many({'region': collect['city_name']},{'$inc': {'road_traffic_2016': collect['Delay_2016_normalized_value']}})\n",
    "    if result.matched_count == 0:\n",
    "        result1 = collection.update_one({'city_name': collect['city_name']},{'$inc': {'road_traffic_2015':collect['Delay_2015_normalized_value']}})\n",
    "        result1 = collection.update_one({'city_name': collect['city_name']},{'$inc': {'road_traffic_2016':collect['Delay_2016_normalized_value']}})\n",
    "#         print(result1.matched_count)"
   ]
  },
  {
   "cell_type": "code",
   "execution_count": 23,
   "metadata": {},
   "outputs": [
    {
     "name": "stdout",
     "output_type": "stream",
     "text": [
      "{'_id': ObjectId('5a26b5b62ece256aa224e4dc'), 'city_name': 'Aberdeen', 'total_jobs': 176400.0, 'total_jobs_normalized_value': -0.13139689528109025}\n"
     ]
    }
   ],
   "source": [
    "#TotalJobs\n",
    "new_collection = db.TotalJobs\n",
    "print(new_collection.find_one())\n",
    "collects = new_collection.find()\n",
    "for collect in collects:\n",
    "    result = collection.update_many({'region': collect['city_name']},{'$inc': {'total_jobs': collect['total_jobs_normalized_value']}})\n",
    "    if result.matched_count == 0:\n",
    "        result1 = collection.update_one({'city_name': collect['city_name']},{'$inc': {'total_jobs':collect['total_jobs_normalized_value']}})\n",
    "#         print(result1.matched_count)"
   ]
  },
  {
   "cell_type": "code",
   "execution_count": 24,
   "metadata": {},
   "outputs": [
    {
     "name": "stdout",
     "output_type": "stream",
     "text": [
      "82\n"
     ]
    }
   ],
   "source": [
    "all_found =  collection.find({\n",
    "                            'house_price':{'$exists':'true'},\n",
    "                              'total_jobs':{'$exists':'true'},\n",
    "                              'school_number':{'$exists':'true'},\n",
    "                              'unemployment':{'$exists':'true'},\n",
    "                              'traffic_noise':{'$exists':'true'},\n",
    "                              'hospitals_number':{'$exists':'true'},\n",
    "                              'population':{'$exists':'true'},\n",
    "                              'GVA':{'$exists':'true'},\n",
    "                              'stations_number':{'$exists':'true'},\n",
    "                              'happiness':{'$exists':'true'},\n",
    "                              'pubs_number':{'$exists':'true'},\n",
    "                              'road_traffic_2016':{'$exists':'true'},\n",
    "#                               'best_Uni_ranking':{'$exists':'true'}\n",
    "                             })\n",
    "\n",
    "print(all_found.count())"
   ]
  },
  {
   "cell_type": "markdown",
   "metadata": {
    "collapsed": true
   },
   "source": [
    "# Linear regression"
   ]
  },
  {
   "cell_type": "code",
   "execution_count": 81,
   "metadata": {},
   "outputs": [
    {
     "name": "stdout",
     "output_type": "stream",
     "text": [
      "        GVA  best_Uni_ranking  hospitals_number  house_price  population  \\\n",
      "0  0.168831          0.797753          0.177215    -0.570112    1.567995   \n",
      "1  0.168831          0.797753          0.177215    -0.570112    1.567995   \n",
      "2  0.201299          0.000000          0.000000    -1.978730   -0.299514   \n",
      "3  0.139610          0.258427          0.088608    -0.807119   -0.011484   \n",
      "4  0.139610          0.258427          0.088608    -0.807119   -0.011484   \n",
      "\n",
      "   pubs_number  road_traffic_2015  road_traffic_2016  school_number  \\\n",
      "0     0.644543           0.429722           0.441331       0.266980   \n",
      "1     0.644543           0.429722           0.441331       0.266980   \n",
      "2     0.151917          -0.499028          -0.485096       0.030303   \n",
      "3     0.699115           0.032681           0.095372       0.086207   \n",
      "4     0.699115           0.032681           0.095372       0.092476   \n",
      "\n",
      "   stations_number  total_jobs  traffic_noise  unemployment  \n",
      "0         0.578947    1.188895       1.084697      1.369535  \n",
      "1         0.578947    1.188895       1.084697      1.369535  \n",
      "2         0.070175   -0.304352      -0.242519     -0.711066  \n",
      "3         0.228070   -0.097214       0.527049      1.617838  \n",
      "4         0.228070   -0.097214       0.527049      1.617838  \n",
      "<class 'numpy.ndarray'>\n",
      "<class 'numpy.ndarray'>\n"
     ]
    }
   ],
   "source": [
    "from pprint import pprint\n",
    "import numpy\n",
    "import pymongo\n",
    "import pandas as pd\n",
    "from sklearn import linear_model\n",
    "import sklearn\n",
    "\n",
    "filter_ = {\n",
    "                            'house_price':{'$exists':'true'},\n",
    "                              'total_jobs':{'$exists':'true'},\n",
    "                              'school_number':{'$exists':'true'},\n",
    "                              'unemployment':{'$exists':'true'},\n",
    "                              'traffic_noise':{'$exists':'true'},\n",
    "                              'hospitals_number':{'$exists':'true'},\n",
    "                              'population':{'$exists':'true'},\n",
    "                              'GVA':{'$exists':'true'},\n",
    "                              'stations_number':{'$exists':'true'},\n",
    "                              'happiness':{'$exists':'true'},\n",
    "                              'pubs_number':{'$exists':'true'},\n",
    "                              'road_traffic_2016':{'$exists':'true'},\n",
    "#                               'best_Uni_ranking':{'$exists':'true'}\n",
    "                             }\n",
    "\n",
    "all_found = collection.find(filter_)\n",
    "\n",
    "\n",
    "# read data to pandas\n",
    "data = pd.DataFrame(list(all_found))\n",
    "# print(data[0:10])\n",
    "\n",
    "# create target variable\n",
    "target = data.iloc[:, 4]\n",
    "# print(target)\n",
    "\n",
    "\n",
    "# remove happiness from data\n",
    "data = data.drop(['happiness'], axis=1)\n",
    "\n",
    "data = data.fillna(0)\n",
    "# create target variable\n",
    "# print(data[0:10])\n",
    "\n",
    "# remove some columns\n",
    "data = data.drop(['_id', 'city_name', 'latitude', 'longitude', 'region', 'sample', 'uk_region'], axis=1)\n",
    "\n",
    "print(data[0:5])\n",
    "\n",
    "data_pandas = data\n",
    "# convert both to Numpy array representation\n",
    "data = data.as_matrix()\n",
    "target = target.as_matrix()\n",
    "print(type(data))\n",
    "print(type(target))\n"
   ]
  },
  {
   "cell_type": "code",
   "execution_count": 80,
   "metadata": {},
   "outputs": [
    {
     "name": "stdout",
     "output_type": "stream",
     "text": [
      "[  1.00000000e-05   1.08984148e-05   1.18775445e-05   1.29446407e-05\n",
      "   1.41076064e-05   1.53750546e-05   1.67563723e-05   1.82617896e-05\n",
      "   1.99024558e-05   2.16905218e-05   2.36392304e-05   2.57630139e-05\n",
      "   2.80776012e-05   3.06001344e-05   3.33492958e-05   3.63454458e-05\n",
      "   3.96107745e-05   4.31694651e-05   4.70478737e-05   5.12747243e-05\n",
      "   5.58813215e-05   6.09017821e-05   6.63732883e-05   7.23363628e-05\n",
      "   7.88351687e-05   8.59178369e-05   9.36368225e-05   1.02049293e-04\n",
      "   1.11217553e-04   1.21209502e-04   1.32099143e-04   1.43967126e-04\n",
      "   1.56901346e-04   1.70997595e-04   1.86360272e-04   2.03103154e-04\n",
      "   2.21350242e-04   2.41236676e-04   2.62909736e-04   2.86529935e-04\n",
      "   3.12272209e-04   3.40327206e-04   3.70902706e-04   4.04225154e-04\n",
      "   4.40541340e-04   4.80120226e-04   5.23254938e-04   5.70264936e-04\n",
      "   6.21498382e-04   6.77334716e-04   7.38187469e-04   8.04507324e-04\n",
      "   8.76785453e-04   9.55557156e-04   1.04140582e-03   1.13496727e-03\n",
      "   1.23693440e-03   1.34806242e-03   1.46917434e-03   1.60116714e-03\n",
      "   1.74501837e-03   1.90179340e-03   2.07265333e-03   2.25886358e-03\n",
      "   2.46180322e-03   2.68297527e-03   2.92401774e-03   3.18671582e-03\n",
      "   3.47301508e-03   3.78503590e-03   4.12508913e-03   4.49569324e-03\n",
      "   4.89959297e-03   5.33977966e-03   5.81951336e-03   6.34234706e-03\n",
      "   6.91215290e-03   7.53315095e-03   8.20994038e-03   8.94753358e-03\n",
      "   9.75139324e-03   1.06274728e-02   1.15822607e-02   1.26228282e-02\n",
      "   1.37568817e-02   1.49928203e-02   1.63397975e-02   1.78077891e-02\n",
      "   1.94076672e-02   2.11512808e-02   2.30515432e-02   2.51225279e-02\n",
      "   2.73795730e-02   2.98393944e-02   3.25202097e-02   3.54418735e-02\n",
      "   3.86260238e-02   4.20962430e-02   4.58782318e-02   5.00000000e-02]\n"
     ]
    },
    {
     "name": "stderr",
     "output_type": "stream",
     "text": [
      "/usr/local/anaconda/anaconda3/lib/python3.6/site-packages/sklearn/linear_model/coordinate_descent.py:484: ConvergenceWarning: Objective did not converge. You might want to increase the number of iterations. Fitting data with very small alpha may cause precision problems.\n",
      "  ConvergenceWarning)\n"
     ]
    },
    {
     "name": "stdout",
     "output_type": "stream",
     "text": [
      "[0.091184676136104759, 0.026422038144551172, 0.02675527745416478, 0.030394912892515495, 0.019912608540440829, 0.035709688698225779, 0.040077627488895477, 0.021256235650090431, 0.02431419779192999, 0.031495444685248092, 0.018494439370819616, 0.027679344588797655, 0.052059952240394156, 0.019028830906831051, 0.023220419646009422, 0.03207660575432586, 0.025046531162817541, 0.017005945402681421, 0.034168363015671735, 0.022299265022200133, 0.025910164298033011, 0.021505359280325039, 0.036745091153989412, 0.025335494295371953, 0.017803233350119463, 0.026853542272232661, 0.017629648831774578, 0.02090014652171493, 0.023700769799698942, 0.021603476154852971, 0.02450771614620563, 0.025780902059304167, 0.028395072695834057, 0.0258788309317039, 0.027860831799441779, 0.024104101358494313, 0.020406281956510071, 0.030326748034332239, 0.025767167074333502, 0.019925556376972825, 0.029523647167043005, 0.019454168512262712, 0.020198936749293545, 0.018276371515082282, 0.027711978719558158, 0.020314050629859019, 0.016954402132725623, 0.02367458651622029, 0.022983262541193757, 0.016960494057850974, 0.017908697472792844, 0.02211047629252719, 0.027232574094234373, 0.019771641015861038, 0.020874651808398377, 0.019414290494968466, 0.017743489549561821, 0.021758607115594415, 0.025275575660997696, 0.019984763428109596, 0.017107519731477686, 0.028836545732317264, 0.020868779466525295, 0.017530069220314071, 0.022696671374987754, 0.020807838231694388, 0.01737932420253379, 0.019004123578348638, 0.018216998111605608, 0.017745482901543222, 0.018708412720290096, 0.021794860797700454, 0.019042268492628821, 0.021229757991307191, 0.022235937729914695, 0.026188080288818753, 0.021574322887593492, 0.02119858586717692, 0.022777074487563602, 0.024092632389216176, 0.024049926127315008, 0.026578622624636748, 0.024646664658646712, 0.026369099680905006, 0.028514315420075549, 0.030085054415319442, 0.030051623688996561, 0.030209285926733543, 0.032644768725570768, 0.029432720230532602, 0.029791896404033253, 0.0324837507877202, 0.029949651730994079, 0.03114565075905084, 0.03160855852120658, 0.031525854577262501, 0.032795011310450616, 0.033481434982814938, 0.035488830397613302, 0.03646800140237208]\n",
      "46\n",
      "0.000523254937813\n",
      "[-0.4861390780151192, -0.0, 0.26843660036074174, 0.029040155585504004, 0.00839536403618197, -0.20491619562487373, -0.13375227060868156, 0.0, 0.0, -0.6634847868150923, -0.0, 0.14061089056403175, -0.08939884684878738]\n",
      "0.672248437408\n"
     ]
    }
   ],
   "source": [
    "# run lasso for feature selection\n",
    "clf = linear_model.Lasso(alpha=0.0005)\n",
    "clf.fit(data, target)\n",
    "\n",
    "alphas = numpy.geomspace(0.00001, 0.05, num=100)\n",
    "print(alphas)\n",
    "\n",
    "error = []\n",
    "for i in alphas:\n",
    "    \n",
    "    mean_error = []\n",
    "    \n",
    "#     cross validation\n",
    "    kf = sklearn.model_selection.KFold(4, shuffle=True)\n",
    "    for train_index, test_index in kf.split(data):\n",
    "        X_train, X_test = data[train_index], data[test_index]\n",
    "        Y_train, Y_test = target[train_index], target[test_index]\n",
    "        \n",
    "#         train model\n",
    "        clf = linear_model.Lasso(alpha=i)\n",
    "        clf.fit(X_train, Y_train)\n",
    "        \n",
    "#         error\n",
    "        mean_error.append(sklearn.metrics.mean_squared_error(Y_test, clf.predict(X_test)))\n",
    "    \n",
    "#     error\n",
    "    error.append(numpy.mean(mean_error))\n",
    "\n",
    "    \n",
    "print(error)\n",
    "print(error.index(min(error)))\n",
    "print(alphas[error.index(min(error))])\n",
    "\n",
    "# alpha\n",
    "alpha = alphas[error.index(min(error))]\n",
    "\n",
    "clf = linear_model.Lasso(alpha=alpha)\n",
    "clf.fit(data, target)\n",
    "\n",
    "\n",
    "weights = clf.coef_\n",
    "print(weights.tolist())\n",
    "print(clf.intercept_)"
   ]
  },
  {
   "cell_type": "code",
   "execution_count": 94,
   "metadata": {
    "collapsed": true
   },
   "outputs": [],
   "source": [
    "# select the features\n",
    "boundary = 0.000001\n",
    "\n",
    "selectedFeatures = []\n",
    "data_deleted = data_pandas\n",
    "\n",
    "for i in range(len(weights)):\n",
    "    if abs(weights[i])> boundary:\n",
    "        selectedFeatures.append(data_pandas.columns.values[i])\n",
    "    else:\n",
    "        data_deleted = data_deleted.drop(data_pandas.columns.values[i],axis=1)"
   ]
  },
  {
   "cell_type": "code",
   "execution_count": 96,
   "metadata": {},
   "outputs": [
    {
     "name": "stdout",
     "output_type": "stream",
     "text": [
      "[-0.4861550509621856, 0.2677746129561489, 0.029047519576520076, 0.008429165974621398, -0.20482285570938416, -0.1337217895737904, -0.6633779218715319, 0.14056782165410728, -0.08940774248946816]\n",
      "0.672256331136\n"
     ]
    },
    {
     "data": {
      "text/plain": [
       "Index(['GVA', 'hospitals_number', 'house_price', 'population', 'pubs_number',\n",
       "       'road_traffic_2015', 'stations_number', 'traffic_noise',\n",
       "       'unemployment'],\n",
       "      dtype='object')"
      ]
     },
     "execution_count": 96,
     "metadata": {},
     "output_type": "execute_result"
    }
   ],
   "source": [
    "# convert both to Numpy array representation\n",
    "data = data_deleted.as_matrix()\n",
    "clf = linear_model.Lasso(alpha=alpha)\n",
    "clf.fit(data, target)\n",
    "weights = clf.coef_\n",
    "print(weights.tolist())\n",
    "print(clf.intercept_)\n",
    "data_deleted.columns"
   ]
  },
  {
   "cell_type": "code",
   "execution_count": 114,
   "metadata": {},
   "outputs": [
    {
     "name": "stdout",
     "output_type": "stream",
     "text": [
      "['population',\n",
      " 'house_price',\n",
      " 'unemployment',\n",
      " 'road_traffic_2015',\n",
      " 'traffic_noise',\n",
      " 'pubs_number',\n",
      " 'hospitals_number',\n",
      " 'GVA',\n",
      " 'stations_number']\n"
     ]
    },
    {
     "data": {
      "text/plain": [
       "{'GVA': -0.4861550509621856,\n",
       " 'hospitals_number': 0.2677746129561489,\n",
       " 'house_price': 0.029047519576520076,\n",
       " 'population': 0.008429165974621398,\n",
       " 'pubs_number': -0.20482285570938416,\n",
       " 'road_traffic_2015': -0.1337217895737904,\n",
       " 'stations_number': -0.6633779218715319,\n",
       " 'traffic_noise': 0.14056782165410728,\n",
       " 'unemployment': -0.08940774248946816}"
      ]
     },
     "execution_count": 114,
     "metadata": {},
     "output_type": "execute_result"
    }
   ],
   "source": [
    "from pprint import pprint\n",
    "\n",
    "# save features to dictionary\n",
    "values = weights.tolist()\n",
    "keys = data_deleted.columns\n",
    "\n",
    "count = 0\n",
    "valueFeatures = {}\n",
    "for key in keys:\n",
    "    valueFeatures[key] = values[count]\n",
    "    count += 1\n",
    "\n",
    "\n",
    "sortedFeatures = sorted(valueFeatures, key=lambda dict_key: abs(valueFeatures[dict_key]))\n",
    "    \n",
    "pprint(sortedFeatures)\n",
    "valueFeatures"
   ]
  },
  {
   "cell_type": "code",
   "execution_count": null,
   "metadata": {
    "collapsed": true
   },
   "outputs": [],
   "source": []
  }
 ],
 "metadata": {
  "kernelspec": {
   "display_name": "Python [conda root]",
   "language": "python",
   "name": "conda-root-py"
  },
  "language_info": {
   "codemirror_mode": {
    "name": "ipython",
    "version": 3
   },
   "file_extension": ".py",
   "mimetype": "text/x-python",
   "name": "python",
   "nbconvert_exporter": "python",
   "pygments_lexer": "ipython3",
   "version": "3.6.1"
  }
 },
 "nbformat": 4,
 "nbformat_minor": 2
}
